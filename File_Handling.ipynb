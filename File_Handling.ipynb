{
  "nbformat": 4,
  "nbformat_minor": 0,
  "metadata": {
    "colab": {
      "provenance": [],
      "authorship_tag": "ABX9TyNxMsKvnJk83XxX70hMvVNH",
      "include_colab_link": true
    },
    "kernelspec": {
      "name": "python3",
      "display_name": "Python 3"
    },
    "language_info": {
      "name": "python"
    }
  },
  "cells": [
    {
      "cell_type": "markdown",
      "metadata": {
        "id": "view-in-github",
        "colab_type": "text"
      },
      "source": [
        "<a href=\"https://colab.research.google.com/github/azaz9026/Python_Notes/blob/main/File_Handling.ipynb\" target=\"_parent\"><img src=\"https://colab.research.google.com/assets/colab-badge.svg\" alt=\"Open In Colab\"/></a>"
      ]
    },
    {
      "cell_type": "markdown",
      "source": [
        "Write to an Existing File-:"
      ],
      "metadata": {
        "id": "S2XB8SjVHa1z"
      }
    },
    {
      "cell_type": "code",
      "execution_count": null,
      "metadata": {
        "id": "yVDNfaW7peny"
      },
      "outputs": [],
      "source": [
        "f = open(\"demofile2.txt\", \"a\")\n",
        "f.write(\" my name is md azaz\")\n",
        "f.close()"
      ]
    },
    {
      "cell_type": "code",
      "source": [
        "f = open(\"demofile2.txt\", \"r\")\n",
        "print(f.read())"
      ],
      "metadata": {
        "colab": {
          "base_uri": "https://localhost:8080/"
        },
        "id": "MO4mtAUWqkDP",
        "outputId": "a4e2054e-e617-45d4-abe6-0785461474ee"
      },
      "execution_count": null,
      "outputs": [
        {
          "output_type": "stream",
          "name": "stdout",
          "text": [
            "Woops! I have deleted the content!my name is md azaz my name is md azaz\n"
          ]
        }
      ]
    },
    {
      "cell_type": "code",
      "source": [],
      "metadata": {
        "id": "2dIGylIlHnPq"
      },
      "execution_count": null,
      "outputs": []
    },
    {
      "cell_type": "code",
      "source": [
        "f = open('demofile3.txt' , 'w')\n",
        "f.write(\"Woops! I have deleted the content!\")\n",
        "\n",
        "f = open('demofile3.txt' , 'r')\n",
        "print(f.read())"
      ],
      "metadata": {
        "colab": {
          "base_uri": "https://localhost:8080/"
        },
        "id": "GIx54Mi1HoAB",
        "outputId": "449763d8-d205-40fb-fc4c-5f7efbc87591"
      },
      "execution_count": null,
      "outputs": [
        {
          "output_type": "stream",
          "name": "stdout",
          "text": [
            "Woops! I have deleted the content!\n"
          ]
        }
      ]
    },
    {
      "cell_type": "code",
      "source": [
        "f = open('demofile.txt' , 'a')\n",
        "f.write(' my name is azaz')"
      ],
      "metadata": {
        "colab": {
          "base_uri": "https://localhost:8080/"
        },
        "id": "cXJXfEpUEULi",
        "outputId": "f62ed7ab-27f1-4e39-aea5-e25fc0df5e1e"
      },
      "execution_count": null,
      "outputs": [
        {
          "output_type": "execute_result",
          "data": {
            "text/plain": [
              "16"
            ]
          },
          "metadata": {},
          "execution_count": 13
        }
      ]
    },
    {
      "cell_type": "markdown",
      "source": [
        "Create a New File :-\n",
        "\n",
        "To create a new file in Python, use the open() method, with one of the following parameters:\n",
        "\n",
        "\n",
        "\"x\" - Create - will create a file, returns an error if the file exist\n",
        "\n",
        "\n",
        "\"a\" - Append - will create a file if the specified file does not exist\n",
        "\n",
        "\n",
        "\"w\" - Write - will create a file if the specified file does not exist"
      ],
      "metadata": {
        "id": "-2pVdl22IeuF"
      }
    },
    {
      "cell_type": "code",
      "source": [
        "f = open(\"myfile.txt\", \"x\")"
      ],
      "metadata": {
        "id": "9CLmxddNEC-Q"
      },
      "execution_count": null,
      "outputs": []
    },
    {
      "cell_type": "markdown",
      "source": [
        "Delete a File:\n",
        "\n",
        "To delete a file, you must import the OS module, and run its os.remove() function:"
      ],
      "metadata": {
        "id": "WRbuncpjG2n8"
      }
    },
    {
      "cell_type": "code",
      "source": [
        "f = open(\"myfile.txt\", \"w\")\n",
        "f.write('this was the new file')\n",
        "\n",
        "f = open(\"myfile.txt\", \"r\")\n",
        "print(f.read())"
      ],
      "metadata": {
        "colab": {
          "base_uri": "https://localhost:8080/"
        },
        "id": "DctkSWbiIxIB",
        "outputId": "5273c862-ad0e-4cb6-ac70-0791815c25a0"
      },
      "execution_count": null,
      "outputs": [
        {
          "output_type": "stream",
          "name": "stdout",
          "text": [
            "this was the new file\n"
          ]
        }
      ]
    },
    {
      "cell_type": "code",
      "source": [
        "import os\n",
        "os.remove(\"demofile.txt\")"
      ],
      "metadata": {
        "id": "iANwFgERFvjU"
      },
      "execution_count": null,
      "outputs": []
    },
    {
      "cell_type": "markdown",
      "source": [],
      "metadata": {
        "id": "iOOOYvf2It5Y"
      }
    },
    {
      "cell_type": "markdown",
      "source": [
        "Check if File exist:-\n",
        "\n",
        "To avoid getting an error, you might want to check if the file exists before you try to delete it:"
      ],
      "metadata": {
        "id": "vwdjxi0oGxpS"
      }
    },
    {
      "cell_type": "code",
      "source": [
        "if os.path.exists('demofile.txt'):\n",
        "  os.remove('demofile.txt')\n",
        "else:\n",
        "  print('The file does not exist')"
      ],
      "metadata": {
        "colab": {
          "base_uri": "https://localhost:8080/"
        },
        "id": "dP35JsMEGDQw",
        "outputId": "4f1b99be-a91e-440f-b8c3-64316afb8462"
      },
      "execution_count": null,
      "outputs": [
        {
          "output_type": "stream",
          "name": "stdout",
          "text": [
            "The file does not exist\n"
          ]
        }
      ]
    },
    {
      "cell_type": "markdown",
      "source": [
        "Delete Folder\n",
        "\n",
        "To delete an entire folder, use the\n",
        "\n",
        "os.rmdir() method:"
      ],
      "metadata": {
        "id": "APuTtmo5GpmL"
      }
    },
    {
      "cell_type": "code",
      "source": [
        "os.rmdir('data')"
      ],
      "metadata": {
        "id": "_4oTCbziGgiK"
      },
      "execution_count": null,
      "outputs": []
    },
    {
      "cell_type": "code",
      "source": [
        "lists = ['Azaz' , 'Lux' , 'Harshit']"
      ],
      "metadata": {
        "id": "FFpW9IBKKNTW"
      },
      "execution_count": 1,
      "outputs": []
    },
    {
      "cell_type": "markdown",
      "source": [
        "File Handling : -"
      ],
      "metadata": {
        "id": "VdqloKrQqa0I"
      }
    },
    {
      "cell_type": "code",
      "source": [
        "file = open(\"testing1.text\" , 'w')"
      ],
      "metadata": {
        "id": "IzVFQ_T4Kdzf"
      },
      "execution_count": 2,
      "outputs": []
    },
    {
      "cell_type": "code",
      "source": [
        "file.writelines(lists)\n",
        "file.close()"
      ],
      "metadata": {
        "id": "Hizxz2-Fp9ZA"
      },
      "execution_count": 3,
      "outputs": []
    },
    {
      "cell_type": "code",
      "source": [
        "import os"
      ],
      "metadata": {
        "id": "HET0ijdhqjii"
      },
      "execution_count": 4,
      "outputs": []
    },
    {
      "cell_type": "code",
      "source": [
        "file = open(\"testing1.text\" , 'r+')\n",
        "for i in file:\n",
        "  print(i)"
      ],
      "metadata": {
        "colab": {
          "base_uri": "https://localhost:8080/"
        },
        "id": "zsjj02KjqmSZ",
        "outputId": "c672861f-12dc-4aa0-ee5d-fb1c254dc853"
      },
      "execution_count": 20,
      "outputs": [
        {
          "output_type": "stream",
          "name": "stdout",
          "text": [
            "this is my commandthis is my commandthis is my commandthis is my commandthis is my command\n"
          ]
        }
      ]
    },
    {
      "cell_type": "code",
      "source": [
        "file.read()"
      ],
      "metadata": {
        "colab": {
          "base_uri": "https://localhost:8080/",
          "height": 36
        },
        "id": "24-_GNtzrrtH",
        "outputId": "f4f060fe-7a7b-49af-cc9f-c25421ae401b"
      },
      "execution_count": 21,
      "outputs": [
        {
          "output_type": "execute_result",
          "data": {
            "text/plain": [
              "''"
            ],
            "application/vnd.google.colaboratory.intrinsic+json": {
              "type": "string"
            }
          },
          "metadata": {},
          "execution_count": 21
        }
      ]
    },
    {
      "cell_type": "code",
      "source": [
        "with open(\"testing1.text\" , 'w') as file:\n",
        "  file.write('this is my command')"
      ],
      "metadata": {
        "id": "0oDWl6tRrJtC"
      },
      "execution_count": 31,
      "outputs": []
    },
    {
      "cell_type": "code",
      "source": [
        "with open(\"testing1.text\" , 'r') as file:\n",
        "  data = file.read()\n",
        "  print(data)"
      ],
      "metadata": {
        "colab": {
          "base_uri": "https://localhost:8080/"
        },
        "id": "KuzgqXkUtnzT",
        "outputId": "4dfde882-66ea-414f-950a-9f5b0de1467b"
      },
      "execution_count": 29,
      "outputs": [
        {
          "output_type": "stream",
          "name": "stdout",
          "text": [
            "this is my commandthis is my commandthis is my commandthis is my commandthis is my commandthis is my command\n"
          ]
        }
      ]
    },
    {
      "cell_type": "code",
      "source": [
        "with open(\"testing1.text\" , 'r') as file:\n",
        "  data = file.read()\n",
        "  for j in data:\n",
        "    print(j.split())"
      ],
      "metadata": {
        "colab": {
          "base_uri": "https://localhost:8080/"
        },
        "id": "eaaT3-KuudkV",
        "outputId": "3fea6d95-44b3-4957-bae8-63d8ee9aa649"
      },
      "execution_count": 35,
      "outputs": [
        {
          "output_type": "stream",
          "name": "stdout",
          "text": [
            "['t']\n",
            "['h']\n",
            "['i']\n",
            "['s']\n",
            "[]\n",
            "['i']\n",
            "['s']\n",
            "[]\n",
            "['m']\n",
            "['y']\n",
            "[]\n",
            "['c']\n",
            "['o']\n",
            "['m']\n",
            "['m']\n",
            "['a']\n",
            "['n']\n",
            "['d']\n"
          ]
        }
      ]
    },
    {
      "cell_type": "code",
      "source": [
        "with open(\"testing1.text\" , 'a') as file:\n",
        "  data = file.write( '\\n hi my name is AZAZ' )\n"
      ],
      "metadata": {
        "id": "cZVxkDMqwACD"
      },
      "execution_count": 37,
      "outputs": []
    },
    {
      "cell_type": "code",
      "source": [
        "def file_finder(file_name):\n",
        "  try:\n",
        "    with open(file_name , 'r') as f:\n",
        "      data = f.read()\n",
        "      word = data.split()\n",
        "      word_count = len(data)\n",
        "      print(f'number of word in {file_name} : {word_count} and {word}')\n",
        "  except FileNotFoundError as e:\n",
        "    print(f' file {file_name} does not exist. Hence, creating the file ')\n",
        "    with open(file_name , 'w') as f:\n",
        "      f.write('this is a file')\n",
        "      print(f'your {file_name} was create successfuly')\n"
      ],
      "metadata": {
        "id": "kFqXKUcRxwFg"
      },
      "execution_count": 42,
      "outputs": []
    },
    {
      "cell_type": "code",
      "source": [
        "file_finder('new.text')"
      ],
      "metadata": {
        "colab": {
          "base_uri": "https://localhost:8080/"
        },
        "id": "NcjC7Vwsz38x",
        "outputId": "39ae20da-be46-4e8e-9620-74fcc9231754"
      },
      "execution_count": 43,
      "outputs": [
        {
          "output_type": "stream",
          "name": "stdout",
          "text": [
            " file new.text does not exist. Hence, creating the file \n",
            "your new.text was create successfuly\n"
          ]
        }
      ]
    },
    {
      "cell_type": "code",
      "source": [
        "import numpy as np\n"
      ],
      "metadata": {
        "id": "IdDQYxL812ou"
      },
      "execution_count": 44,
      "outputs": []
    },
    {
      "cell_type": "code",
      "source": [
        "import seaborn as sns"
      ],
      "metadata": {
        "id": "CliJ9_491-bo"
      },
      "execution_count": 45,
      "outputs": []
    },
    {
      "cell_type": "code",
      "source": [
        "sns.histplot( np.array([1,2,3,4]))"
      ],
      "metadata": {
        "colab": {
          "base_uri": "https://localhost:8080/",
          "height": 447
        },
        "id": "4xKTX2mZ2Geh",
        "outputId": "ef702a20-35fa-468e-86eb-b8be1b4c18dd"
      },
      "execution_count": 52,
      "outputs": [
        {
          "output_type": "execute_result",
          "data": {
            "text/plain": [
              "<Axes: ylabel='Count'>"
            ]
          },
          "metadata": {},
          "execution_count": 52
        },
        {
          "output_type": "display_data",
          "data": {
            "text/plain": [
              "<Figure size 640x480 with 1 Axes>"
            ],
            "image/png": "[encoded data removed]"
          },
          "metadata": {}
        }
      ]
    },
    {
      "cell_type": "code",
      "source": [
        "os.getcwd()"
      ],
      "metadata": {
        "colab": {
          "base_uri": "https://localhost:8080/",
          "height": 36
        },
        "id": "9PMBDBqh3SM0",
        "outputId": "71a43ad8-4162-4242-f6ed-dd6e9341439e"
      },
      "execution_count": 53,
      "outputs": [
        {
          "output_type": "execute_result",
          "data": {
            "text/plain": [
              "'/content'"
            ],
            "application/vnd.google.colaboratory.intrinsic+json": {
              "type": "string"
            }
          },
          "metadata": {},
          "execution_count": 53
        }
      ]
    },
    {
      "cell_type": "code",
      "source": [
        "os.listdir()"
      ],
      "metadata": {
        "colab": {
          "base_uri": "https://localhost:8080/"
        },
        "id": "SydEi__X3aze",
        "outputId": "371064d5-c989-48f8-91b8-5d94bdb9a0a8"
      },
      "execution_count": 54,
      "outputs": [
        {
          "output_type": "execute_result",
          "data": {
            "text/plain": [
              "['.config', '.ipynb_checkpoints', 'new.text', 'testing1.text', 'sample_data']"
            ]
          },
          "metadata": {},
          "execution_count": 54
        }
      ]
    },
    {
      "cell_type": "code",
      "source": [
        "\n",
        "def divide_num(x,y):\n",
        "  try:\n",
        "    result = x/y\n",
        "  except ZeroDivisionError:\n",
        "    print(f'can not divide by 0')\n",
        "  except TypeError:\n",
        "    print(f'Enter a valid number')\n",
        "  else:\n",
        "    print(f' the result is {x , y} is equel to {result}')\n",
        "  finally:\n",
        "    print('the code is completed')"
      ],
      "metadata": {
        "id": "518r8ssD4Tmx"
      },
      "execution_count": 55,
      "outputs": []
    },
    {
      "cell_type": "code",
      "source": [
        "divide_num(2,2)"
      ],
      "metadata": {
        "colab": {
          "base_uri": "https://localhost:8080/"
        },
        "id": "L7WfSttb5ZGz",
        "outputId": "8d3a274d-6bfc-4fbd-c5b7-bd3f22054653"
      },
      "execution_count": 56,
      "outputs": [
        {
          "output_type": "stream",
          "name": "stdout",
          "text": [
            " the result is (2, 2) is equel to 1.0\n",
            "the code is completed\n"
          ]
        }
      ]
    },
    {
      "cell_type": "code",
      "source": [
        "divide_num(2,0)"
      ],
      "metadata": {
        "colab": {
          "base_uri": "https://localhost:8080/"
        },
        "id": "TGwVDhYV5d8B",
        "outputId": "b580f360-a671-41b3-c640-9822e9457210"
      },
      "execution_count": 57,
      "outputs": [
        {
          "output_type": "stream",
          "name": "stdout",
          "text": [
            "can not divide by 0\n",
            "the code is completed\n"
          ]
        }
      ]
    },
    {
      "cell_type": "code",
      "source": [
        "divide_num(2,'a')"
      ],
      "metadata": {
        "colab": {
          "base_uri": "https://localhost:8080/"
        },
        "id": "lK_IuCGB5i_i",
        "outputId": "0154050f-4a8a-43d6-adf0-411f4978107d"
      },
      "execution_count": 58,
      "outputs": [
        {
          "output_type": "stream",
          "name": "stdout",
          "text": [
            "Enter a valid number\n",
            "the code is completed\n"
          ]
        }
      ]
    }
  ]
}