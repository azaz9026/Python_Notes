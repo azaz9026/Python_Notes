{
  "nbformat": 4,
  "nbformat_minor": 0,
  "metadata": {
    "colab": {
      "provenance": [],
      "authorship_tag": "ABX9TyPrGsYjcfQAFWqCN3Zfiy4t",
      "include_colab_link": true
    },
    "kernelspec": {
      "name": "python3",
      "display_name": "Python 3"
    },
    "language_info": {
      "name": "python"
    }
  },
  "cells": [
    {
      "cell_type": "markdown",
      "metadata": {
        "id": "view-in-github",
        "colab_type": "text"
      },
      "source": [
        "<a href=\"https://colab.research.google.com/github/azaz9026/Python_Notes/blob/main/File_Handling.ipynb\" target=\"_parent\"><img src=\"https://colab.research.google.com/assets/colab-badge.svg\" alt=\"Open In Colab\"/></a>"
      ]
    },
    {
      "cell_type": "code",
      "execution_count": 2,
      "metadata": {
        "id": "yVDNfaW7peny"
      },
      "outputs": [],
      "source": [
        "f = open(\"demofile.txt\")"
      ]
    },
    {
      "cell_type": "code",
      "source": [
        "f = open('demofile.txt' , 'a')\n",
        "f.write('it was the file handling ')"
      ],
      "metadata": {
        "colab": {
          "base_uri": "https://localhost:8080/"
        },
        "id": "MO4mtAUWqkDP",
        "outputId": "d8f06388-e565-4e64-aa8a-19a2c6fc6d48"
      },
      "execution_count": 12,
      "outputs": [
        {
          "output_type": "execute_result",
          "data": {
            "text/plain": [
              "26"
            ]
          },
          "metadata": {},
          "execution_count": 12
        }
      ]
    },
    {
      "cell_type": "code",
      "source": [
        "f = open('demofile.txt' , 'a')\n",
        "f.write(' my name is azaz')"
      ],
      "metadata": {
        "colab": {
          "base_uri": "https://localhost:8080/"
        },
        "id": "cXJXfEpUEULi",
        "outputId": "f62ed7ab-27f1-4e39-aea5-e25fc0df5e1e"
      },
      "execution_count": 13,
      "outputs": [
        {
          "output_type": "execute_result",
          "data": {
            "text/plain": [
              "16"
            ]
          },
          "metadata": {},
          "execution_count": 13
        }
      ]
    },
    {
      "cell_type": "code",
      "source": [
        "f = open(\"demofile.txt\" , 'r')\n",
        "print(f.read())"
      ],
      "metadata": {
        "colab": {
          "base_uri": "https://localhost:8080/"
        },
        "id": "9CLmxddNEC-Q",
        "outputId": "b1e7d9e8-834d-4ce3-bbca-506d5f2a9b7e"
      },
      "execution_count": 15,
      "outputs": [
        {
          "output_type": "stream",
          "name": "stdout",
          "text": [
            "it was the file handlingmy name is azazmy name is azaz \n",
            " my name is azazit was the file handling \n",
            " my name is azaz\n"
          ]
        }
      ]
    },
    {
      "cell_type": "code",
      "source": [
        "with open(\"data.text\" , 'w') as file:\n",
        "  file.write(\" Md Azaz \")\n",
        ""
      ],
      "metadata": {
        "id": "uAlh9Qh9FMIr"
      },
      "execution_count": 18,
      "outputs": []
    },
    {
      "cell_type": "markdown",
      "source": [
        "Delete a File:\n",
        "\n",
        "To delete a file, you must import the OS module, and run its os.remove() function:"
      ],
      "metadata": {
        "id": "WRbuncpjG2n8"
      }
    },
    {
      "cell_type": "code",
      "source": [
        "import os\n",
        "os.remove(\"demofile.txt\")"
      ],
      "metadata": {
        "id": "iANwFgERFvjU"
      },
      "execution_count": 20,
      "outputs": []
    },
    {
      "cell_type": "markdown",
      "source": [
        "Check if File exist:-\n",
        "\n",
        "To avoid getting an error, you might want to check if the file exists before you try to delete it:"
      ],
      "metadata": {
        "id": "vwdjxi0oGxpS"
      }
    },
    {
      "cell_type": "code",
      "source": [
        "if os.path.exists('demofile.txt'):\n",
        "  os.remove('demofile.txt')\n",
        "else:\n",
        "  print('The file does not exist')"
      ],
      "metadata": {
        "colab": {
          "base_uri": "https://localhost:8080/"
        },
        "id": "dP35JsMEGDQw",
        "outputId": "4f1b99be-a91e-440f-b8c3-64316afb8462"
      },
      "execution_count": 21,
      "outputs": [
        {
          "output_type": "stream",
          "name": "stdout",
          "text": [
            "The file does not exist\n"
          ]
        }
      ]
    },
    {
      "cell_type": "markdown",
      "source": [
        "Delete Folder\n",
        "\n",
        "To delete an entire folder, use the\n",
        "\n",
        "os.rmdir() method:"
      ],
      "metadata": {
        "id": "APuTtmo5GpmL"
      }
    },
    {
      "cell_type": "code",
      "source": [
        "os.rmdir('data')"
      ],
      "metadata": {
        "id": "_4oTCbziGgiK"
      },
      "execution_count": 22,
      "outputs": []
    }
  ]
}