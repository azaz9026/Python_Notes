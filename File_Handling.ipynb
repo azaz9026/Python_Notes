{
  "cells": [
    {
      "cell_type": "markdown",
      "metadata": {
        "colab_type": "text",
        "id": "view-in-github"
      },
      "source": [
        "<a href=\"https://colab.research.google.com/github/azaz9026/Python_Notes/blob/main/File_Handling.ipynb\" target=\"_parent\"><img src=\"https://colab.research.google.com/assets/colab-badge.svg\" alt=\"Open In Colab\"/></a>"
      ]
    },
    {
      "cell_type": "markdown",
      "metadata": {
        "id": "S2XB8SjVHa1z"
      },
      "source": [
        "Write to an Existing File-:"
      ]
    },
    {
      "cell_type": "code",
      "execution_count": 1,
      "metadata": {
        "id": "yVDNfaW7peny"
      },
      "outputs": [],
      "source": [
        "f = open(\"demofile2.txt\", \"a\")\n",
        "f.write(\" my name is md azaz\")\n",
        "f.close()"
      ]
    },
    {
      "cell_type": "code",
      "execution_count": 30,
      "metadata": {
        "colab": {
          "base_uri": "https://localhost:8080/"
        },
        "id": "MO4mtAUWqkDP",
        "outputId": "a4e2054e-e617-45d4-abe6-0785461474ee"
      },
      "outputs": [
        {
          "name": "stdout",
          "output_type": "stream",
          "text": [
            "Woops! I have deleted the content!my name is md azaz my name is md azaz\n"
          ]
        }
      ],
      "source": [
        "f = open(\"demofile2.txt\", \"r\")\n",
        "print(f.read())"
      ]
    },
    {
      "cell_type": "code",
      "execution_count": null,
      "metadata": {
        "id": "2dIGylIlHnPq"
      },
      "outputs": [],
      "source": []
    },
    {
      "cell_type": "code",
      "execution_count": 26,
      "metadata": {
        "colab": {
          "base_uri": "https://localhost:8080/"
        },
        "id": "GIx54Mi1HoAB",
        "outputId": "449763d8-d205-40fb-fc4c-5f7efbc87591"
      },
      "outputs": [
        {
          "name": "stdout",
          "output_type": "stream",
          "text": [
            "Woops! I have deleted the content!\n"
          ]
        }
      ],
      "source": [
        "f = open('demofile3.txt' , 'w')\n",
        "f.write(\"Woops! I have deleted the content!\")\n",
        "\n",
        "f = open('demofile3.txt' , 'r')\n",
        "print(f.read())"
      ]
    },
    {
      "cell_type": "code",
      "execution_count": 13,
      "metadata": {
        "colab": {
          "base_uri": "https://localhost:8080/"
        },
        "id": "cXJXfEpUEULi",
        "outputId": "f62ed7ab-27f1-4e39-aea5-e25fc0df5e1e"
      },
      "outputs": [
        {
          "data": {
            "text/plain": [
              "16"
            ]
          },
          "execution_count": 13,
          "metadata": {},
          "output_type": "execute_result"
        }
      ],
      "source": [
        "f = open('demofile.txt' , 'a')\n",
        "f.write(' my name is azaz')"
      ]
    },
    {
      "cell_type": "markdown",
      "metadata": {
        "id": "-2pVdl22IeuF"
      },
      "source": [
        "Create a New File :-\n",
        "\n",
        "To create a new file in Python, use the open() method, with one of the following parameters:\n",
        "\n",
        "\n",
        "\"x\" - Create - will create a file, returns an error if the file exist\n",
        "\n",
        "\n",
        "\"a\" - Append - will create a file if the specified file does not exist\n",
        "\n",
        "\n",
        "\"w\" - Write - will create a file if the specified file does not exist"
      ]
    },
    {
      "cell_type": "code",
      "execution_count": 31,
      "metadata": {
        "id": "9CLmxddNEC-Q"
      },
      "outputs": [],
      "source": [
        "f = open(\"myfile.txt\", \"x\")"
      ]
    },
    {
      "cell_type": "markdown",
      "metadata": {
        "id": "WRbuncpjG2n8"
      },
      "source": [
        "Delete a File:\n",
        "\n",
        "To delete a file, you must import the OS module, and run its os.remove() function:"
      ]
    },
    {
      "cell_type": "code",
      "execution_count": 34,
      "metadata": {
        "colab": {
          "base_uri": "https://localhost:8080/"
        },
        "id": "DctkSWbiIxIB",
        "outputId": "5273c862-ad0e-4cb6-ac70-0791815c25a0"
      },
      "outputs": [
        {
          "name": "stdout",
          "output_type": "stream",
          "text": [
            "this was the new file\n"
          ]
        }
      ],
      "source": [
        "f = open(\"myfile.txt\", \"w\")\n",
        "f.write('this was the new file')\n",
        "\n",
        "f = open(\"myfile.txt\", \"r\")\n",
        "print(f.read())"
      ]
    },
    {
      "cell_type": "code",
      "execution_count": 20,
      "metadata": {
        "id": "iANwFgERFvjU"
      },
      "outputs": [],
      "source": [
        "import os\n",
        "os.remove(\"demofile.txt\")"
      ]
    },
    {
      "cell_type": "markdown",
      "metadata": {
        "id": "iOOOYvf2It5Y"
      },
      "source": []
    },
    {
      "cell_type": "markdown",
      "metadata": {
        "id": "vwdjxi0oGxpS"
      },
      "source": [
        "Check if File exist:-\n",
        "\n",
        "To avoid getting an error, you might want to check if the file exists before you try to delete it:"
      ]
    },
    {
      "cell_type": "code",
      "execution_count": 21,
      "metadata": {
        "colab": {
          "base_uri": "https://localhost:8080/"
        },
        "id": "dP35JsMEGDQw",
        "outputId": "4f1b99be-a91e-440f-b8c3-64316afb8462"
      },
      "outputs": [
        {
          "name": "stdout",
          "output_type": "stream",
          "text": [
            "The file does not exist\n"
          ]
        }
      ],
      "source": [
        "if os.path.exists('demofile.txt'):\n",
        "  os.remove('demofile.txt')\n",
        "else:\n",
        "  print('The file does not exist')"
      ]
    },
    {
      "cell_type": "markdown",
      "metadata": {
        "id": "APuTtmo5GpmL"
      },
      "source": [
        "Delete Folder\n",
        "\n",
        "To delete an entire folder, use the\n",
        "\n",
        "os.rmdir() method:"
      ]
    },
    {
      "cell_type": "code",
      "execution_count": 22,
      "metadata": {
        "id": "_4oTCbziGgiK"
      },
      "outputs": [],
      "source": [
        "os.rmdir('data')"
      ]
    },
    {
      "cell_type": "code",
      "execution_count": 1,
      "metadata": {},
      "outputs": [],
      "source": [
        "list1 = ['acb' 'xyz']\n",
        "file = open(\"testing2.text\" , 'w')\n",
        "file.writelines(list1)\n",
        "file.close()"
      ]
    },
    {
      "cell_type": "code",
      "execution_count": null,
      "metadata": {},
      "outputs": [],
      "source": []
    }
  ],
  "metadata": {
    "colab": {
      "authorship_tag": "ABX9TyNF6tYNaxOlT5PXzVbLN4hy",
      "include_colab_link": true,
      "provenance": []
    },
    "kernelspec": {
      "display_name": "Python 3",
      "name": "python3"
    },
    "language_info": {
      "codemirror_mode": {
        "name": "ipython",
        "version": 3
      },
      "file_extension": ".py",
      "mimetype": "text/x-python",
      "name": "python",
      "nbconvert_exporter": "python",
      "pygments_lexer": "ipython3",
      "version": "3.10.7"
    }
  },
  "nbformat": 4,
  "nbformat_minor": 0
}
