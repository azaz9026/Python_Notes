{
  "nbformat": 4,
  "nbformat_minor": 0,
  "metadata": {
    "colab": {
      "provenance": [],
      "authorship_tag": "ABX9TyNF6tYNaxOlT5PXzVbLN4hy",
      "include_colab_link": true
    },
    "kernelspec": {
      "name": "python3",
      "display_name": "Python 3"
    },
    "language_info": {
      "name": "python"
    }
  },
  "cells": [
    {
      "cell_type": "markdown",
      "metadata": {
        "id": "view-in-github",
        "colab_type": "text"
      },
      "source": [
        "<a href=\"https://colab.research.google.com/github/azaz9026/Python_Notes/blob/main/File_Handling.ipynb\" target=\"_parent\"><img src=\"https://colab.research.google.com/assets/colab-badge.svg\" alt=\"Open In Colab\"/></a>"
      ]
    },
    {
      "cell_type": "markdown",
      "source": [
        "Write to an Existing File-:"
      ],
      "metadata": {
        "id": "S2XB8SjVHa1z"
      }
    },
    {
      "cell_type": "code",
      "execution_count": 29,
      "metadata": {
        "id": "yVDNfaW7peny"
      },
      "outputs": [],
      "source": [
        "f = open(\"demofile2.txt\", \"a\")\n",
        "f.write(\" my name is md azaz\")\n",
        "f.close()"
      ]
    },
    {
      "cell_type": "code",
      "source": [
        "f = open(\"demofile2.txt\", \"r\")\n",
        "print(f.read())"
      ],
      "metadata": {
        "colab": {
          "base_uri": "https://localhost:8080/"
        },
        "id": "MO4mtAUWqkDP",
        "outputId": "a4e2054e-e617-45d4-abe6-0785461474ee"
      },
      "execution_count": 30,
      "outputs": [
        {
          "output_type": "stream",
          "name": "stdout",
          "text": [
            "Woops! I have deleted the content!my name is md azaz my name is md azaz\n"
          ]
        }
      ]
    },
    {
      "cell_type": "code",
      "source": [],
      "metadata": {
        "id": "2dIGylIlHnPq"
      },
      "execution_count": null,
      "outputs": []
    },
    {
      "cell_type": "code",
      "source": [
        "f = open('demofile3.txt' , 'w')\n",
        "f.write(\"Woops! I have deleted the content!\")\n",
        "\n",
        "f = open('demofile3.txt' , 'r')\n",
        "print(f.read())"
      ],
      "metadata": {
        "colab": {
          "base_uri": "https://localhost:8080/"
        },
        "id": "GIx54Mi1HoAB",
        "outputId": "449763d8-d205-40fb-fc4c-5f7efbc87591"
      },
      "execution_count": 26,
      "outputs": [
        {
          "output_type": "stream",
          "name": "stdout",
          "text": [
            "Woops! I have deleted the content!\n"
          ]
        }
      ]
    },
    {
      "cell_type": "code",
      "source": [
        "f = open('demofile.txt' , 'a')\n",
        "f.write(' my name is azaz')"
      ],
      "metadata": {
        "colab": {
          "base_uri": "https://localhost:8080/"
        },
        "id": "cXJXfEpUEULi",
        "outputId": "f62ed7ab-27f1-4e39-aea5-e25fc0df5e1e"
      },
      "execution_count": 13,
      "outputs": [
        {
          "output_type": "execute_result",
          "data": {
            "text/plain": [
              "16"
            ]
          },
          "metadata": {},
          "execution_count": 13
        }
      ]
    },
    {
      "cell_type": "markdown",
      "source": [
        "Create a New File :-\n",
        "\n",
        "To create a new file in Python, use the open() method, with one of the following parameters:\n",
        "\n",
        "\n",
        "\"x\" - Create - will create a file, returns an error if the file exist\n",
        "\n",
        "\n",
        "\"a\" - Append - will create a file if the specified file does not exist\n",
        "\n",
        "\n",
        "\"w\" - Write - will create a file if the specified file does not exist"
      ],
      "metadata": {
        "id": "-2pVdl22IeuF"
      }
    },
    {
      "cell_type": "code",
      "source": [
        "f = open(\"myfile.txt\", \"x\")"
      ],
      "metadata": {
        "id": "9CLmxddNEC-Q"
      },
      "execution_count": 31,
      "outputs": []
    },
    {
      "cell_type": "markdown",
      "source": [
        "Delete a File:\n",
        "\n",
        "To delete a file, you must import the OS module, and run its os.remove() function:"
      ],
      "metadata": {
        "id": "WRbuncpjG2n8"
      }
    },
    {
      "cell_type": "code",
      "source": [
        "f = open(\"myfile.txt\", \"w\")\n",
        "f.write('this was the new file')\n",
        "\n",
        "f = open(\"myfile.txt\", \"r\")\n",
        "print(f.read())"
      ],
      "metadata": {
        "colab": {
          "base_uri": "https://localhost:8080/"
        },
        "id": "DctkSWbiIxIB",
        "outputId": "5273c862-ad0e-4cb6-ac70-0791815c25a0"
      },
      "execution_count": 34,
      "outputs": [
        {
          "output_type": "stream",
          "name": "stdout",
          "text": [
            "this was the new file\n"
          ]
        }
      ]
    },
    {
      "cell_type": "code",
      "source": [
        "import os\n",
        "os.remove(\"demofile.txt\")"
      ],
      "metadata": {
        "id": "iANwFgERFvjU"
      },
      "execution_count": 20,
      "outputs": []
    },
    {
      "cell_type": "markdown",
      "source": [],
      "metadata": {
        "id": "iOOOYvf2It5Y"
      }
    },
    {
      "cell_type": "markdown",
      "source": [
        "Check if File exist:-\n",
        "\n",
        "To avoid getting an error, you might want to check if the file exists before you try to delete it:"
      ],
      "metadata": {
        "id": "vwdjxi0oGxpS"
      }
    },
    {
      "cell_type": "code",
      "source": [
        "if os.path.exists('demofile.txt'):\n",
        "  os.remove('demofile.txt')\n",
        "else:\n",
        "  print('The file does not exist')"
      ],
      "metadata": {
        "colab": {
          "base_uri": "https://localhost:8080/"
        },
        "id": "dP35JsMEGDQw",
        "outputId": "4f1b99be-a91e-440f-b8c3-64316afb8462"
      },
      "execution_count": 21,
      "outputs": [
        {
          "output_type": "stream",
          "name": "stdout",
          "text": [
            "The file does not exist\n"
          ]
        }
      ]
    },
    {
      "cell_type": "markdown",
      "source": [
        "Delete Folder\n",
        "\n",
        "To delete an entire folder, use the\n",
        "\n",
        "os.rmdir() method:"
      ],
      "metadata": {
        "id": "APuTtmo5GpmL"
      }
    },
    {
      "cell_type": "code",
      "source": [
        "os.rmdir('data')"
      ],
      "metadata": {
        "id": "_4oTCbziGgiK"
      },
      "execution_count": 22,
      "outputs": []
    }
  ]
}