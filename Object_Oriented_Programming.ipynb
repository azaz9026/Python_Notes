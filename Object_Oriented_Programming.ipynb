{
  "cells": [
    {
      "cell_type": "markdown",
      "metadata": {
        "colab_type": "text",
        "id": "view-in-github"
      },
      "source": [
        "<a href=\"https://colab.research.google.com/github/azaz9026/Python_Notes/blob/main/Object_Oriented_Programming.ipynb\" target=\"_parent\"><img src=\"https://colab.research.google.com/assets/colab-badge.svg\" alt=\"Open In Colab\"/></a>"
      ]
    },
    {
      "cell_type": "code",
      "execution_count": 1,
      "metadata": {
        "colab": {
          "base_uri": "https://localhost:8080/"
        },
        "id": "ySiyEa71R5bV",
        "outputId": "bc0ab5af-05b8-4acd-acdc-5eb5b8e76eb7"
      },
      "outputs": [
        {
          "name": "stdout",
          "output_type": "stream",
          "text": [
            "<class 'module'>\n",
            "<class 'module'>\n",
            "<class 'type'>\n",
            "<class 'int'>\n"
          ]
        }
      ],
      "source": [
        "import numpy\n",
        "import pandas\n",
        "print(type(numpy))\n",
        "print(type(pandas))\n",
        "print(type(list))\n",
        "print(type(7))"
      ]
    },
    {
      "cell_type": "code",
      "execution_count": 4,
      "metadata": {
        "id": "zzY3yGRyStP-"
      },
      "outputs": [],
      "source": [
        "import numpy as np"
      ]
    },
    {
      "cell_type": "code",
      "execution_count": 18,
      "metadata": {
        "id": "R4WQIGRgUrgS"
      },
      "outputs": [],
      "source": [
        "class Car:\n",
        "  car_count = 0\n",
        "\n",
        "  def __init__(self,color, model):\n",
        "    self.color = color\n",
        "    self.model = model\n",
        "    Car.car_count +=1\n",
        "\n",
        "  def display_info(self):\n",
        "    print(f'car {self.color} and Model is that {self.model}')\n"
      ]
    },
    {
      "cell_type": "code",
      "execution_count": 20,
      "metadata": {
        "colab": {
          "base_uri": "https://localhost:8080/"
        },
        "id": "j01ZIdRVVf8_",
        "outputId": "7f606eb5-c03b-48a0-de53-de4f85b60d80"
      },
      "outputs": [
        {
          "data": {
            "text/plain": [
              "<__main__.Car at 0x7eb1612dff40>"
            ]
          },
          "execution_count": 20,
          "metadata": {},
          "output_type": "execute_result"
        }
      ],
      "source": [
        "car1 = Car('Red', 'Sedan')\n",
        "car2 = Car('Black', 'SUV')\n",
        "\n",
        "car1\n",
        "car2"
      ]
    },
    {
      "cell_type": "code",
      "execution_count": 22,
      "metadata": {
        "colab": {
          "base_uri": "https://localhost:8080/"
        },
        "id": "n6zjB4TSWwsW",
        "outputId": "2084ebe9-4634-43b1-a97f-5278720baa89"
      },
      "outputs": [
        {
          "name": "stdout",
          "output_type": "stream",
          "text": [
            "car Red and Model is that Sedan\n"
          ]
        }
      ],
      "source": [
        "car1.display_info()"
      ]
    },
    {
      "cell_type": "code",
      "execution_count": 23,
      "metadata": {
        "colab": {
          "base_uri": "https://localhost:8080/"
        },
        "id": "rcsUlFKoXAvI",
        "outputId": "2c88b2ca-6fd3-4f24-f946-8e624912fc1d"
      },
      "outputs": [
        {
          "data": {
            "text/plain": [
              "3"
            ]
          },
          "execution_count": 23,
          "metadata": {},
          "output_type": "execute_result"
        }
      ],
      "source": [
        "Car.car_count"
      ]
    },
    {
      "cell_type": "markdown",
      "metadata": {
        "id": "-3D5PdpZZKje"
      },
      "source": [
        "Let's understand the keywords one by one\n",
        "\n",
        "class ClassName: The class definition begins with this line. ClassName is the class's name and should adhere to Python naming rules (often in CamelCase)\n",
        "\n",
        "Camelcase is a naming protocol for giving file or attribute names that contain more than one word joined that all start with a capital letter. Camelcase is a programming language that allows you to name files or functions without breaking the underlying language's naming rules.\n",
        "\n",
        "Camel case name examples - CamelCase, EmployeeData, VehicleInformation etc.\n",
        "\n",
        "Class-level attributes (optional): You can define attributes that are shared by all instances of the class within the class. These are declared directly within the class, separate from any methods.\n",
        "Constructor method (init method): When an object is formed, this special method is used to initialise instance-level attributes. When an object is instantiated, it automatically calls this method. It requires at least one parameter, which is usually named self and relates to the instance being created. Additional options can be defined as needed to initialise instance attributes.\n",
        "Instance attributes: You assign values to instance attributes using self inside the init method. These properties are unique to each instance and contain data specific to that instance.\n",
        "Instance methods: These are functions defined within the class that define the class's behaviour. To access and edit instance characteristics, they use self as their first parameter. You can define as many methods as you need to implement the class's intended functionality."
      ]
    },
    {
      "cell_type": "code",
      "execution_count": 25,
      "metadata": {
        "id": "y_V_RXyGXAMA"
      },
      "outputs": [],
      "source": [
        "class Dog:\n",
        "  species = 'Cannis Familaris'\n",
        "\n",
        "  def __init__(self , name , age):\n",
        "    self.name = name\n",
        "    self.age = age\n",
        "\n",
        "\n",
        "  def bark(self):\n",
        "    print(f\"{self.name} and it's Age is that {self.age}\")\n"
      ]
    },
    {
      "cell_type": "code",
      "execution_count": 37,
      "metadata": {
        "colab": {
          "base_uri": "https://localhost:8080/",
          "height": 70
        },
        "id": "rZrpMtq_Z6fx",
        "outputId": "899120f4-f01a-4294-d737-ed72dad945cd"
      },
      "outputs": [
        {
          "name": "stdout",
          "output_type": "stream",
          "text": [
            "Ginger and it's Age is that 9\n",
            "Tiger and it's Age is that 10\n"
          ]
        },
        {
          "data": {
            "application/vnd.google.colaboratory.intrinsic+json": {
              "type": "string"
            },
            "text/plain": [
              "'Cannis Familaris'"
            ]
          },
          "execution_count": 37,
          "metadata": {},
          "output_type": "execute_result"
        }
      ],
      "source": [
        "dog1 = Dog('Ginger', 9)\n",
        "dog2 = Dog('Tiger', 10)\n",
        "\n",
        "dog1.bark()\n",
        "dog2.bark()\n",
        "\n",
        "Dog.species\n",
        "\n"
      ]
    },
    {
      "cell_type": "code",
      "execution_count": 36,
      "metadata": {
        "colab": {
          "base_uri": "https://localhost:8080/",
          "height": 36
        },
        "id": "7azN6HvIajoH",
        "outputId": "6702ff9d-39dc-4cf4-ffd2-b2fba24a5a83"
      },
      "outputs": [
        {
          "data": {
            "application/vnd.google.colaboratory.intrinsic+json": {
              "type": "string"
            },
            "text/plain": [
              "'Ginger'"
            ]
          },
          "execution_count": 36,
          "metadata": {},
          "output_type": "execute_result"
        }
      ],
      "source": [
        "dog1.name"
      ]
    },
    {
      "cell_type": "code",
      "execution_count": 35,
      "metadata": {
        "colab": {
          "base_uri": "https://localhost:8080/"
        },
        "id": "y7KHmuZIavBX",
        "outputId": "72dc1316-de00-4270-bad1-eb7dca28753c"
      },
      "outputs": [
        {
          "data": {
            "text/plain": [
              "9"
            ]
          },
          "execution_count": 35,
          "metadata": {},
          "output_type": "execute_result"
        }
      ],
      "source": [
        "dog1.age"
      ]
    },
    {
      "cell_type": "code",
      "execution_count": 34,
      "metadata": {
        "colab": {
          "base_uri": "https://localhost:8080/",
          "height": 36
        },
        "id": "FpkMuzebanpk",
        "outputId": "62284a9f-a5a6-4b93-b98c-0bf45f35a140"
      },
      "outputs": [
        {
          "data": {
            "application/vnd.google.colaboratory.intrinsic+json": {
              "type": "string"
            },
            "text/plain": [
              "'Tiger'"
            ]
          },
          "execution_count": 34,
          "metadata": {},
          "output_type": "execute_result"
        }
      ],
      "source": [
        "dog2.name\n"
      ]
    },
    {
      "cell_type": "code",
      "execution_count": 33,
      "metadata": {
        "colab": {
          "base_uri": "https://localhost:8080/"
        },
        "id": "iOqkwXcxaqhq",
        "outputId": "75593cc9-c787-40c4-e31f-b9e6f481c18c"
      },
      "outputs": [
        {
          "data": {
            "text/plain": [
              "10"
            ]
          },
          "execution_count": 33,
          "metadata": {},
          "output_type": "execute_result"
        }
      ],
      "source": [
        "dog2.age"
      ]
    },
    {
      "cell_type": "code",
      "execution_count": 38,
      "metadata": {
        "id": "dfhScVGTc3Qx"
      },
      "outputs": [],
      "source": [
        "class Student:\n",
        "\n",
        "  uni_name = 'Physics Wallah University'\n",
        "\n",
        "  def __init__(self, name, student_id, major):\n",
        "    self.name = name\n",
        "    self.student_id = student_id\n",
        "    self.major = major\n",
        "    self.courses = []\n",
        "\n",
        "  def enroll_course(self, course):\n",
        "    self.courses.append(course)\n",
        "    print(f\"{self.name} enrolled in course {course}\")\n",
        "\n",
        "  def display_courses(self):\n",
        "    print(f'Courses taken by {self.name}')\n",
        "    for i in self.courses:\n",
        "      print(i)"
      ]
    },
    {
      "cell_type": "code",
      "execution_count": 39,
      "metadata": {
        "id": "U2gf82aydELl"
      },
      "outputs": [],
      "source": [
        "student1 = Student(\"Alice\", \"S12345\", \"Computer Science\")\n",
        "student2 = Student(\"Bob\", \"S54321\", \"Physics\")"
      ]
    },
    {
      "cell_type": "code",
      "execution_count": 40,
      "metadata": {
        "colab": {
          "base_uri": "https://localhost:8080/"
        },
        "id": "1rxkbBVddEx4",
        "outputId": "0868541a-70b8-4cb1-f840-80da7c261b03"
      },
      "outputs": [
        {
          "name": "stdout",
          "output_type": "stream",
          "text": [
            "Alice is a student at Physics Wallah University majoring in Computer Science.\n",
            "Alice enrolled in course Math 101\n",
            "Alice enrolled in course Computer Science 201\n",
            "Bob enrolled in course Physics 101\n",
            "Bob enrolled in course Lab 202\n"
          ]
        }
      ],
      "source": [
        "print(f\"{student1.name} is a student at {student1.uni_name} majoring in {student1.major}.\")\n",
        "student1.enroll_course(\"Math 101\")\n",
        "student1.enroll_course(\"Computer Science 201\")\n",
        "student2.enroll_course(\"Physics 101\")\n",
        "student2.enroll_course(\"Lab 202\")"
      ]
    },
    {
      "cell_type": "code",
      "execution_count": 41,
      "metadata": {
        "colab": {
          "base_uri": "https://localhost:8080/"
        },
        "id": "nnrZTnE1dHod",
        "outputId": "6888c74f-2956-419e-a1e0-9609b2b28f51"
      },
      "outputs": [
        {
          "name": "stdout",
          "output_type": "stream",
          "text": [
            "Courses taken by Alice\n",
            "Math 101\n",
            "Computer Science 201\n"
          ]
        }
      ],
      "source": [
        "student1.display_courses()"
      ]
    },
    {
      "cell_type": "code",
      "execution_count": 42,
      "metadata": {
        "colab": {
          "base_uri": "https://localhost:8080/"
        },
        "id": "XVSGkvssdNz6",
        "outputId": "18246e9c-e31b-4552-94f6-9d5b537a0c0c"
      },
      "outputs": [
        {
          "name": "stdout",
          "output_type": "stream",
          "text": [
            "Courses taken by Bob\n",
            "Physics 101\n",
            "Lab 202\n"
          ]
        }
      ],
      "source": [
        "student2.display_courses()"
      ]
    },
    {
      "cell_type": "code",
      "execution_count": 43,
      "metadata": {
        "id": "bOepeeDefPRU"
      },
      "outputs": [],
      "source": [
        "class Bank_Account:\n",
        "\n",
        "  def __init__(self , name , account_number, balance):\n",
        "    self.name = name\n",
        "    self.account_number = account_number\n",
        "    self.balance = balance\n",
        "\n",
        "  def deduct_money(self, fee):\n",
        "    if fee > self.balance:\n",
        "      print(f'You do not have sufficient ammount')\n",
        "    else:\n",
        "      self.balance -=fee\n",
        "      print(f'Rs.{fee} has been debited. You have {self.balance} in your account')\n",
        "\n",
        "  def display_cum(self):\n",
        "    print(f\"Account Number: {self.account_number}, Balance : {self.balance}\")"
      ]
    },
    {
      "cell_type": "code",
      "execution_count": 44,
      "metadata": {
        "id": "d4kqd9q5gqJL"
      },
      "outputs": [],
      "source": [
        "cust1 = Bank_Account('Jeff Bezoz', 2435, 10e10 )"
      ]
    },
    {
      "cell_type": "code",
      "execution_count": 47,
      "metadata": {
        "colab": {
          "base_uri": "https://localhost:8080/"
        },
        "id": "Bz5CLvyqgv9K",
        "outputId": "5dac92b0-29b9-489f-8125-43d9cc34b1e3"
      },
      "outputs": [
        {
          "data": {
            "text/plain": [
              "100000000000.0"
            ]
          },
          "execution_count": 47,
          "metadata": {},
          "output_type": "execute_result"
        }
      ],
      "source": [
        "cust1.balance"
      ]
    },
    {
      "cell_type": "code",
      "execution_count": 50,
      "metadata": {
        "colab": {
          "base_uri": "https://localhost:8080/",
          "height": 36
        },
        "id": "qEWFRCFLhIzw",
        "outputId": "be09922d-7d22-41db-aa82-9c7d5be086bb"
      },
      "outputs": [
        {
          "data": {
            "application/vnd.google.colaboratory.intrinsic+json": {
              "type": "string"
            },
            "text/plain": [
              "'azaz'"
            ]
          },
          "execution_count": 50,
          "metadata": {},
          "output_type": "execute_result"
        }
      ],
      "source": [
        "cust1.name = \"azaz\"\n",
        "cust1.name"
      ]
    },
    {
      "cell_type": "code",
      "execution_count": 54,
      "metadata": {
        "colab": {
          "base_uri": "https://localhost:8080/"
        },
        "id": "YFwvLOQFhXfv",
        "outputId": "e653c39c-0153-46fb-f712-595cd0cb43ea"
      },
      "outputs": [
        {
          "data": {
            "text/plain": [
              "<function __main__.Bank_Account.display_cum(self)>"
            ]
          },
          "execution_count": 54,
          "metadata": {},
          "output_type": "execute_result"
        }
      ],
      "source": [
        "a = "
      ]
    }
  ],
  "metadata": {
    "colab": {
      "authorship_tag": "ABX9TyNdqhLEzy6e4LK3lTOwFpvs",
      "include_colab_link": true,
      "provenance": [],
      "toc_visible": true
    },
    "kernelspec": {
      "display_name": "Python 3",
      "name": "python3"
    },
    "language_info": {
      "name": "python"
    }
  },
  "nbformat": 4,
  "nbformat_minor": 0
}
