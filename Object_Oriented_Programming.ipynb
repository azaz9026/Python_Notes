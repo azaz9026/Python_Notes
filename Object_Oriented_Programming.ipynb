{
  "nbformat": 4,
  "nbformat_minor": 0,
  "metadata": {
    "colab": {
      "provenance": [],
      "toc_visible": true,
      "authorship_tag": "ABX9TyMcLE+2ASDtflPB6MCX+OB8",
      "include_colab_link": true
    },
    "kernelspec": {
      "name": "python3",
      "display_name": "Python 3"
    },
    "language_info": {
      "name": "python"
    }
  },
  "cells": [
    {
      "cell_type": "markdown",
      "metadata": {
        "id": "view-in-github",
        "colab_type": "text"
      },
      "source": [
        "<a href=\"https://colab.research.google.com/github/azaz9026/Python_Notes/blob/main/Object_Oriented_Programming.ipynb\" target=\"_parent\"><img src=\"https://colab.research.google.com/assets/colab-badge.svg\" alt=\"Open In Colab\"/></a>"
      ]
    },
    {
      "cell_type": "code",
      "execution_count": 1,
      "metadata": {
        "colab": {
          "base_uri": "https://localhost:8080/"
        },
        "id": "ySiyEa71R5bV",
        "outputId": "bc0ab5af-05b8-4acd-acdc-5eb5b8e76eb7"
      },
      "outputs": [
        {
          "output_type": "stream",
          "name": "stdout",
          "text": [
            "<class 'module'>\n",
            "<class 'module'>\n",
            "<class 'type'>\n",
            "<class 'int'>\n"
          ]
        }
      ],
      "source": [
        "import numpy\n",
        "import pandas\n",
        "print(type(numpy))\n",
        "print(type(pandas))\n",
        "print(type(list))\n",
        "print(type(7))"
      ]
    },
    {
      "cell_type": "code",
      "source": [
        "import numpy as np"
      ],
      "metadata": {
        "id": "zzY3yGRyStP-"
      },
      "execution_count": 4,
      "outputs": []
    },
    {
      "cell_type": "code",
      "source": [
        "class Car:\n",
        "  car_count = 0\n",
        "\n",
        "  def __init__(self,color, model):\n",
        "    self.color = color\n",
        "    self.model = model\n",
        "    Car.car_count +=1\n",
        "\n",
        "  def display_info(self):\n",
        "    print(f'car {self.color} and Model is that {self.model}')\n"
      ],
      "metadata": {
        "id": "R4WQIGRgUrgS"
      },
      "execution_count": 18,
      "outputs": []
    },
    {
      "cell_type": "code",
      "source": [
        "car1 = Car('Red', 'Sedan')\n",
        "car2 = Car('Black', 'SUV')\n",
        "\n",
        "car1\n",
        "car2"
      ],
      "metadata": {
        "colab": {
          "base_uri": "https://localhost:8080/"
        },
        "id": "j01ZIdRVVf8_",
        "outputId": "7f606eb5-c03b-48a0-de53-de4f85b60d80"
      },
      "execution_count": 20,
      "outputs": [
        {
          "output_type": "execute_result",
          "data": {
            "text/plain": [
              "<__main__.Car at 0x7eb1612dff40>"
            ]
          },
          "metadata": {},
          "execution_count": 20
        }
      ]
    },
    {
      "cell_type": "code",
      "source": [
        "car1.display_info()"
      ],
      "metadata": {
        "colab": {
          "base_uri": "https://localhost:8080/"
        },
        "id": "n6zjB4TSWwsW",
        "outputId": "2084ebe9-4634-43b1-a97f-5278720baa89"
      },
      "execution_count": 22,
      "outputs": [
        {
          "output_type": "stream",
          "name": "stdout",
          "text": [
            "car Red and Model is that Sedan\n"
          ]
        }
      ]
    },
    {
      "cell_type": "code",
      "source": [
        "Car.car_count"
      ],
      "metadata": {
        "colab": {
          "base_uri": "https://localhost:8080/"
        },
        "id": "rcsUlFKoXAvI",
        "outputId": "2c88b2ca-6fd3-4f24-f946-8e624912fc1d"
      },
      "execution_count": 23,
      "outputs": [
        {
          "output_type": "execute_result",
          "data": {
            "text/plain": [
              "3"
            ]
          },
          "metadata": {},
          "execution_count": 23
        }
      ]
    },
    {
      "cell_type": "code",
      "source": [],
      "metadata": {
        "id": "y_V_RXyGXAMA"
      },
      "execution_count": null,
      "outputs": []
    }
  ]
}