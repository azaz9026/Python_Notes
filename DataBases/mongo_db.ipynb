{
 "cells": [
  {
   "cell_type": "code",
   "execution_count": 32,
   "metadata": {},
   "outputs": [
    {
     "name": "stdout",
     "output_type": "stream",
     "text": [
      "Requirement already satisfied: pymongo in c:\\users\\mdaza\\appdata\\local\\programs\\python\\python310\\lib\\site-packages (4.6.1)\n",
      "Requirement already satisfied: dnspython<3.0.0,>=1.16.0 in c:\\users\\mdaza\\appdata\\local\\programs\\python\\python310\\lib\\site-packages (from pymongo) (2.5.0)\n",
      "Note: you may need to restart the kernel to use updated packages.\n"
     ]
    },
    {
     "name": "stderr",
     "output_type": "stream",
     "text": [
      "\n",
      "[notice] A new release of pip available: 22.2.2 -> 24.0\n",
      "[notice] To update, run: python.exe -m pip install --upgrade pip\n"
     ]
    }
   ],
   "source": [
    "pip install pymongo\n"
   ]
  },
  {
   "cell_type": "code",
   "execution_count": 33,
   "metadata": {},
   "outputs": [],
   "source": [
    "from pymongo import  MongoClient\n",
    "\n",
    "client  = MongoClient('localhost:27017')"
   ]
  },
  {
   "cell_type": "code",
   "execution_count": 34,
   "metadata": {},
   "outputs": [
    {
     "data": {
      "text/plain": [
       "{'version': '7.0.2',\n",
       " 'gitVersion': '02b3c655e1302209ef046da6ba3ef6749dd0b62a',\n",
       " 'targetMinOS': 'Windows 7/Windows Server 2008 R2',\n",
       " 'modules': [],\n",
       " 'allocator': 'tcmalloc',\n",
       " 'javascriptEngine': 'mozjs',\n",
       " 'sysInfo': 'deprecated',\n",
       " 'versionArray': [7, 0, 2, 0],\n",
       " 'openssl': {'running': 'Windows SChannel'},\n",
       " 'buildEnvironment': {'distmod': 'windows',\n",
       "  'distarch': 'x86_64',\n",
       "  'cc': 'cl: Microsoft (R) C/C++ Optimizing Compiler Version 19.31.31107 for x64',\n",
       "  'ccflags': '/nologo /WX /FImongo/platform/basic.h /fp:strict /EHsc /W3 /wd4068 /wd4244 /wd4267 /wd4290 /wd4351 /wd4355 /wd4373 /wd4800 /wd4251 /wd4291 /we4013 /we4099 /we4930 /errorReport:none /MD /O2 /Oy- /bigobj /utf-8 /permissive- /Zc:__cplusplus /Zc:sizedDealloc /volatile:iso /diagnostics:caret /std:c++20 /Gw /Gy /Zc:inline',\n",
       "  'cxx': 'cl: Microsoft (R) C/C++ Optimizing Compiler Version 19.31.31107 for x64',\n",
       "  'cxxflags': '/TP',\n",
       "  'linkflags': '/nologo /DEBUG /INCREMENTAL:NO /LARGEADDRESSAWARE /OPT:REF',\n",
       "  'target_arch': 'x86_64',\n",
       "  'target_os': 'windows',\n",
       "  'cppdefines': 'SAFEINT_USE_INTRINSICS 0 PCRE2_STATIC NDEBUG BOOST_ALL_NO_LIB _UNICODE UNICODE _SILENCE_CXX17_ALLOCATOR_VOID_DEPRECATION_WARNING _SILENCE_CXX17_OLD_ALLOCATOR_MEMBERS_DEPRECATION_WARNING _SILENCE_CXX17_CODECVT_HEADER_DEPRECATION_WARNING _SILENCE_ALL_CXX20_DEPRECATION_WARNINGS _CONSOLE _CRT_SECURE_NO_WARNINGS _ENABLE_EXTENDED_ALIGNED_STORAGE _SCL_SECURE_NO_WARNINGS _WIN32_WINNT 0x0A00 BOOST_USE_WINAPI_VERSION 0x0A00 NTDDI_VERSION 0x0A000000 ABSL_FORCE_ALIGNED_ACCESS BOOST_ENABLE_ASSERT_DEBUG_HANDLER BOOST_FILESYSTEM_NO_CXX20_ATOMIC_REF BOOST_LOG_NO_SHORTHAND_NAMES BOOST_LOG_USE_NATIVE_SYSLOG BOOST_LOG_WITHOUT_THREAD_ATTR BOOST_MATH_NO_LONG_DOUBLE_MATH_FUNCTIONS BOOST_SYSTEM_NO_DEPRECATED BOOST_THREAD_USES_DATETIME BOOST_THREAD_VERSION 5'},\n",
       " 'bits': 64,\n",
       " 'debug': False,\n",
       " 'maxBsonObjectSize': 16777216,\n",
       " 'storageEngines': ['devnull', 'wiredTiger'],\n",
       " 'ok': 1.0}"
      ]
     },
     "execution_count": 34,
     "metadata": {},
     "output_type": "execute_result"
    }
   ],
   "source": [
    "client.server_info()"
   ]
  },
  {
   "cell_type": "code",
   "execution_count": 35,
   "metadata": {},
   "outputs": [],
   "source": [
    "## new Databased\n",
    "\n",
    "db = client['pwskills']"
   ]
  },
  {
   "cell_type": "code",
   "execution_count": 36,
   "metadata": {},
   "outputs": [],
   "source": [
    "## new collection\n",
    "\n",
    "collection = db['my_collections']"
   ]
  },
  {
   "cell_type": "code",
   "execution_count": 37,
   "metadata": {},
   "outputs": [
    {
     "data": {
      "text/html": [
       "<div>\n",
       "<style scoped>\n",
       "    .dataframe tbody tr th:only-of-type {\n",
       "        vertical-align: middle;\n",
       "    }\n",
       "\n",
       "    .dataframe tbody tr th {\n",
       "        vertical-align: top;\n",
       "    }\n",
       "\n",
       "    .dataframe thead th {\n",
       "        text-align: right;\n",
       "    }\n",
       "</style>\n",
       "<table border=\"1\" class=\"dataframe\">\n",
       "  <thead>\n",
       "    <tr style=\"text-align: right;\">\n",
       "      <th></th>\n",
       "      <th>EEID</th>\n",
       "      <th>Name</th>\n",
       "      <th>gender</th>\n",
       "      <th>salary</th>\n",
       "    </tr>\n",
       "  </thead>\n",
       "  <tbody>\n",
       "    <tr>\n",
       "      <th>0</th>\n",
       "      <td>EMP01</td>\n",
       "      <td>ayushi</td>\n",
       "      <td>F</td>\n",
       "      <td>NaN</td>\n",
       "    </tr>\n",
       "    <tr>\n",
       "      <th>1</th>\n",
       "      <td>EMP02</td>\n",
       "      <td>rohit</td>\n",
       "      <td>M</td>\n",
       "      <td>25000.0</td>\n",
       "    </tr>\n",
       "    <tr>\n",
       "      <th>2</th>\n",
       "      <td>EMP03</td>\n",
       "      <td>pranjali</td>\n",
       "      <td>NaN</td>\n",
       "      <td>27000.0</td>\n",
       "    </tr>\n",
       "    <tr>\n",
       "      <th>3</th>\n",
       "      <td>EMP01</td>\n",
       "      <td>ayushi</td>\n",
       "      <td>F</td>\n",
       "      <td>20000.0</td>\n",
       "    </tr>\n",
       "    <tr>\n",
       "      <th>4</th>\n",
       "      <td>EMP05</td>\n",
       "      <td>NaN</td>\n",
       "      <td>M</td>\n",
       "      <td>25000.0</td>\n",
       "    </tr>\n",
       "    <tr>\n",
       "      <th>5</th>\n",
       "      <td>EMP06</td>\n",
       "      <td>rohit</td>\n",
       "      <td>M</td>\n",
       "      <td>NaN</td>\n",
       "    </tr>\n",
       "    <tr>\n",
       "      <th>6</th>\n",
       "      <td>EMP02</td>\n",
       "      <td>rohit</td>\n",
       "      <td>M</td>\n",
       "      <td>25000.0</td>\n",
       "    </tr>\n",
       "  </tbody>\n",
       "</table>\n",
       "</div>"
      ],
      "text/plain": [
       "    EEID      Name gender   salary\n",
       "0  EMP01    ayushi      F      NaN\n",
       "1  EMP02     rohit      M  25000.0\n",
       "2  EMP03  pranjali    NaN  27000.0\n",
       "3  EMP01    ayushi      F  20000.0\n",
       "4  EMP05       NaN      M  25000.0\n",
       "5  EMP06     rohit      M      NaN\n",
       "6  EMP02     rohit      M  25000.0"
      ]
     },
     "execution_count": 37,
     "metadata": {},
     "output_type": "execute_result"
    }
   ],
   "source": [
    "import pandas as pd\n",
    "\n",
    "df = pd.read_csv('company1.csv')\n",
    "\n",
    "df"
   ]
  },
  {
   "cell_type": "code",
   "execution_count": 38,
   "metadata": {},
   "outputs": [
    {
     "data": {
      "text/plain": [
       "(7, 4)"
      ]
     },
     "execution_count": 38,
     "metadata": {},
     "output_type": "execute_result"
    }
   ],
   "source": [
    "df.shape"
   ]
  },
  {
   "cell_type": "code",
   "execution_count": 39,
   "metadata": {},
   "outputs": [
    {
     "data": {
      "text/plain": [
       "[{'EEID': 'EMP01', 'Name': 'ayushi', 'gender': 'F', 'salary': nan},\n",
       " {'EEID': 'EMP02', 'Name': 'rohit', 'gender': 'M', 'salary': 25000.0},\n",
       " {'EEID': 'EMP03', 'Name': 'pranjali', 'gender': nan, 'salary': 27000.0},\n",
       " {'EEID': 'EMP01', 'Name': 'ayushi', 'gender': 'F', 'salary': 20000.0},\n",
       " {'EEID': 'EMP05', 'Name': nan, 'gender': 'M', 'salary': 25000.0},\n",
       " {'EEID': 'EMP06', 'Name': 'rohit', 'gender': 'M', 'salary': nan},\n",
       " {'EEID': 'EMP02', 'Name': 'rohit', 'gender': 'M', 'salary': 25000.0}]"
      ]
     },
     "execution_count": 39,
     "metadata": {},
     "output_type": "execute_result"
    }
   ],
   "source": [
    "df.to_dict('records')"
   ]
  },
  {
   "cell_type": "code",
   "execution_count": 40,
   "metadata": {},
   "outputs": [
    {
     "data": {
      "text/plain": [
       "InsertManyResult([ObjectId('65c852aeeff6729376cbc35b'), ObjectId('65c852aeeff6729376cbc35c'), ObjectId('65c852aeeff6729376cbc35d'), ObjectId('65c852aeeff6729376cbc35e'), ObjectId('65c852aeeff6729376cbc35f'), ObjectId('65c852aeeff6729376cbc360'), ObjectId('65c852aeeff6729376cbc361')], acknowledged=True)"
      ]
     },
     "execution_count": 40,
     "metadata": {},
     "output_type": "execute_result"
    }
   ],
   "source": [
    "collection.insert_many(df.to_dict('records'))"
   ]
  },
  {
   "cell_type": "markdown",
   "metadata": {},
   "source": [
    "*** CRUD METHOD ***"
   ]
  },
  {
   "cell_type": "code",
   "execution_count": 30,
   "metadata": {},
   "outputs": [
    {
     "data": {
      "text/plain": [
       "InsertOneResult(ObjectId('65c84f97eff6729376cbc359'), acknowledged=True)"
      ]
     },
     "execution_count": 30,
     "metadata": {},
     "output_type": "execute_result"
    }
   ],
   "source": [
    "##  CREATE METHOD------------\n",
    "\n",
    "collection.insert_one({\n",
    "    'name': 'azaz' , \n",
    "    'age': 21,\n",
    "    'lang': 'Python',\n",
    "    'batch': 'decode 1.0'\n",
    "})"
   ]
  },
  {
   "cell_type": "code",
   "execution_count": 31,
   "metadata": {},
   "outputs": [],
   "source": [
    "client.close()"
   ]
  },
  {
   "cell_type": "code",
   "execution_count": 48,
   "metadata": {},
   "outputs": [],
   "source": [
    "## find method -----------\n",
    "\n",
    "result = list(collection.find().limit(2).skip(2))"
   ]
  },
  {
   "cell_type": "code",
   "execution_count": 49,
   "metadata": {},
   "outputs": [
    {
     "data": {
      "text/plain": [
       "2"
      ]
     },
     "execution_count": 49,
     "metadata": {},
     "output_type": "execute_result"
    }
   ],
   "source": [
    "len(result)"
   ]
  },
  {
   "cell_type": "code",
   "execution_count": 50,
   "metadata": {},
   "outputs": [
    {
     "name": "stdout",
     "output_type": "stream",
     "text": [
      "{'_id': ObjectId('65c84df3eff6729376cbc354'), 'EEID': 'EMP03', 'Name': 'pranjali', 'gender': nan, 'salary': 27000.0}\n",
      "{'_id': ObjectId('65c84df3eff6729376cbc355'), 'EEID': 'EMP01', 'Name': 'ayushi', 'gender': 'F', 'salary': 20000.0}\n"
     ]
    }
   ],
   "source": [
    "for i in result:\n",
    "    print(i)"
   ]
  },
  {
   "cell_type": "code",
   "execution_count": 54,
   "metadata": {},
   "outputs": [
    {
     "name": "stdout",
     "output_type": "stream",
     "text": [
      "{'_id': ObjectId('65c84f97eff6729376cbc359'), 'name': 'azaz', 'age': 21, 'lang': 'Python', 'batch': 'decode 1.0'}\n"
     ]
    }
   ],
   "source": [
    "res = (collection.find({'age':21}))\n",
    "\n",
    "for i in res:\n",
    "    print(i)"
   ]
  },
  {
   "cell_type": "code",
   "execution_count": 58,
   "metadata": {},
   "outputs": [
    {
     "name": "stdout",
     "output_type": "stream",
     "text": [
      "{'_id': ObjectId('65c84df3eff6729376cbc352'), 'EEID': 'EMP01', 'Name': 'ayushi', 'gender': 'F', 'salary': nan}\n",
      "{'_id': ObjectId('65c84df3eff6729376cbc353'), 'EEID': 'EMP02', 'Name': 'rohit', 'gender': 'M', 'salary': 25000.0}\n",
      "{'_id': ObjectId('65c84df3eff6729376cbc354'), 'EEID': 'EMP03', 'Name': 'pranjali', 'gender': nan, 'salary': 27000.0}\n",
      "{'_id': ObjectId('65c84df3eff6729376cbc355'), 'EEID': 'EMP01', 'Name': 'ayushi', 'gender': 'F', 'salary': 20000.0}\n",
      "{'_id': ObjectId('65c84df3eff6729376cbc356'), 'EEID': 'EMP05', 'Name': nan, 'gender': 'M', 'salary': 25000.0}\n",
      "{'_id': ObjectId('65c84df3eff6729376cbc357'), 'EEID': 'EMP06', 'Name': 'rohit', 'gender': 'M', 'salary': nan}\n",
      "{'_id': ObjectId('65c84df3eff6729376cbc358'), 'EEID': 'EMP02', 'Name': 'rohit', 'gender': 'M', 'salary': 25000.0}\n",
      "{'_id': ObjectId('65c84f97eff6729376cbc359'), 'name': 'azaz', 'age': 21, 'lang': 'Python', 'batch': 'decode 1.0'}\n",
      "{'_id': ObjectId('65c852aeeff6729376cbc35b'), 'EEID': 'EMP01', 'Name': 'ayushi', 'gender': 'F', 'salary': nan}\n",
      "{'_id': ObjectId('65c852aeeff6729376cbc35c'), 'EEID': 'EMP02', 'Name': 'rohit', 'gender': 'M', 'salary': 25000.0}\n",
      "{'_id': ObjectId('65c852aeeff6729376cbc35d'), 'EEID': 'EMP03', 'Name': 'pranjali', 'gender': nan, 'salary': 27000.0}\n",
      "{'_id': ObjectId('65c852aeeff6729376cbc35e'), 'EEID': 'EMP01', 'Name': 'ayushi', 'gender': 'F', 'salary': 20000.0}\n",
      "{'_id': ObjectId('65c852aeeff6729376cbc35f'), 'EEID': 'EMP05', 'Name': nan, 'gender': 'M', 'salary': 25000.0}\n",
      "{'_id': ObjectId('65c852aeeff6729376cbc360'), 'EEID': 'EMP06', 'Name': 'rohit', 'gender': 'M', 'salary': nan}\n",
      "{'_id': ObjectId('65c852aeeff6729376cbc361'), 'EEID': 'EMP02', 'Name': 'rohit', 'gender': 'M', 'salary': 25000.0}\n"
     ]
    }
   ],
   "source": [
    "res = list(collection.find())\n",
    "\n",
    "for i in res:\n",
    "    print(i)"
   ]
  },
  {
   "cell_type": "code",
   "execution_count": 60,
   "metadata": {},
   "outputs": [
    {
     "name": "stdout",
     "output_type": "stream",
     "text": [
      "{'_id': ObjectId('65c84f97eff6729376cbc359'), 'name': 'azaz', 'age': 21, 'lang': 'Python', 'batch': 'decode 1.0'}\n",
      "{'_id': ObjectId('65c84df3eff6729376cbc352'), 'EEID': 'EMP01', 'Name': 'ayushi', 'gender': 'F', 'salary': nan}\n",
      "{'_id': ObjectId('65c84df3eff6729376cbc355'), 'EEID': 'EMP01', 'Name': 'ayushi', 'gender': 'F', 'salary': 20000.0}\n",
      "{'_id': ObjectId('65c852aeeff6729376cbc35b'), 'EEID': 'EMP01', 'Name': 'ayushi', 'gender': 'F', 'salary': nan}\n",
      "{'_id': ObjectId('65c852aeeff6729376cbc35e'), 'EEID': 'EMP01', 'Name': 'ayushi', 'gender': 'F', 'salary': 20000.0}\n",
      "{'_id': ObjectId('65c84df3eff6729376cbc353'), 'EEID': 'EMP02', 'Name': 'rohit', 'gender': 'M', 'salary': 25000.0}\n",
      "{'_id': ObjectId('65c84df3eff6729376cbc358'), 'EEID': 'EMP02', 'Name': 'rohit', 'gender': 'M', 'salary': 25000.0}\n",
      "{'_id': ObjectId('65c852aeeff6729376cbc35c'), 'EEID': 'EMP02', 'Name': 'rohit', 'gender': 'M', 'salary': 25000.0}\n",
      "{'_id': ObjectId('65c852aeeff6729376cbc361'), 'EEID': 'EMP02', 'Name': 'rohit', 'gender': 'M', 'salary': 25000.0}\n",
      "{'_id': ObjectId('65c84df3eff6729376cbc354'), 'EEID': 'EMP03', 'Name': 'pranjali', 'gender': nan, 'salary': 27000.0}\n",
      "{'_id': ObjectId('65c852aeeff6729376cbc35d'), 'EEID': 'EMP03', 'Name': 'pranjali', 'gender': nan, 'salary': 27000.0}\n",
      "{'_id': ObjectId('65c84df3eff6729376cbc356'), 'EEID': 'EMP05', 'Name': nan, 'gender': 'M', 'salary': 25000.0}\n",
      "{'_id': ObjectId('65c852aeeff6729376cbc35f'), 'EEID': 'EMP05', 'Name': nan, 'gender': 'M', 'salary': 25000.0}\n",
      "{'_id': ObjectId('65c84df3eff6729376cbc357'), 'EEID': 'EMP06', 'Name': 'rohit', 'gender': 'M', 'salary': nan}\n",
      "{'_id': ObjectId('65c852aeeff6729376cbc360'), 'EEID': 'EMP06', 'Name': 'rohit', 'gender': 'M', 'salary': nan}\n"
     ]
    }
   ],
   "source": [
    "res = list(collection.find().sort('EEID'))\n",
    "\n",
    "for i in res:\n",
    "    print(i)"
   ]
  }
 ],
 "metadata": {
  "kernelspec": {
   "display_name": "Python 3",
   "language": "python",
   "name": "python3"
  },
  "language_info": {
   "codemirror_mode": {
    "name": "ipython",
    "version": 3
   },
   "file_extension": ".py",
   "mimetype": "text/x-python",
   "name": "python",
   "nbconvert_exporter": "python",
   "pygments_lexer": "ipython3",
   "version": "3.10.7"
  }
 },
 "nbformat": 4,
 "nbformat_minor": 2
}
