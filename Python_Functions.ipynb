{
  "nbformat": 4,
  "nbformat_minor": 0,
  "metadata": {
    "colab": {
      "provenance": []
    },
    "kernelspec": {
      "name": "python3",
      "display_name": "Python 3"
    },
    "language_info": {
      "name": "python"
    }
  },
  "cells": [
    {
      "cell_type": "code",
      "execution_count": null,
      "metadata": {
        "id": "giErK48Nkqr-"
      },
      "outputs": [],
      "source": [
        "def firstFunction():\n",
        "  print(\"Hello Students\")\n",
        "\n"
      ]
    },
    {
      "cell_type": "code",
      "source": [
        "firstFunction()"
      ],
      "metadata": {
        "colab": {
          "base_uri": "https://localhost:8080/"
        },
        "id": "lnCmsggQniKW",
        "outputId": "2509edac-ba76-44c9-d6dc-113821e38b96"
      },
      "execution_count": null,
      "outputs": [
        {
          "output_type": "stream",
          "name": "stdout",
          "text": [
            "Hello Students\n"
          ]
        }
      ]
    },
    {
      "cell_type": "code",
      "source": [
        "def add(a,b):\n",
        "  sum = a+b\n",
        "  return sum\n",
        "\n"
      ],
      "metadata": {
        "id": "2Mnx7X8RnyYR"
      },
      "execution_count": null,
      "outputs": []
    },
    {
      "cell_type": "code",
      "source": [
        "print(add(10,20))"
      ],
      "metadata": {
        "colab": {
          "base_uri": "https://localhost:8080/"
        },
        "id": "uuNUvH6EoDBr",
        "outputId": "d6043b65-06d0-453b-c931-2bd90690f110"
      },
      "execution_count": null,
      "outputs": [
        {
          "output_type": "stream",
          "name": "stdout",
          "text": [
            "30\n"
          ]
        }
      ]
    },
    {
      "cell_type": "code",
      "source": [
        "x = 101 #Global Variable/scope\n",
        "\n",
        "def func():\n",
        "  x = 102\n",
        "  print(x)\n",
        "\n",
        "func()\n",
        "print(x)"
      ],
      "metadata": {
        "colab": {
          "base_uri": "https://localhost:8080/"
        },
        "id": "tCI9ecbkqLxf",
        "outputId": "6ae9b967-0525-452d-e2cd-c9ae9f5df71f"
      },
      "execution_count": null,
      "outputs": [
        {
          "output_type": "stream",
          "name": "stdout",
          "text": [
            "102\n",
            "101\n"
          ]
        }
      ]
    },
    {
      "cell_type": "code",
      "source": [
        "#Default argument\n",
        "\n",
        "\n",
        "def greet(name, message=\"Good Morning\"):\n",
        "  print(name, message)\n",
        "\n",
        "greet(\"Vishwa\")"
      ],
      "metadata": {
        "colab": {
          "base_uri": "https://localhost:8080/"
        },
        "id": "GhtjXJtDq6aP",
        "outputId": "e346582e-b0d4-4998-8c55-b7d9b6640c55"
      },
      "execution_count": null,
      "outputs": [
        {
          "output_type": "stream",
          "name": "stdout",
          "text": [
            "Vishwa Good Morning\n"
          ]
        }
      ]
    },
    {
      "cell_type": "code",
      "source": [
        "#keyword arguments\n",
        "def greet(name, age, message):\n",
        "  print(message, name, \"your age is\", age)\n",
        "\n",
        "greet(age=99, message=\"Hello\",name=\"Vishwa\")"
      ],
      "metadata": {
        "colab": {
          "base_uri": "https://localhost:8080/"
        },
        "id": "7Z8dwBkqrnQE",
        "outputId": "31b5bd56-be83-4f73-cfb5-ab93c9ece23d"
      },
      "execution_count": null,
      "outputs": [
        {
          "output_type": "stream",
          "name": "stdout",
          "text": [
            "Hello Vishwa your age is 99\n"
          ]
        }
      ]
    },
    {
      "cell_type": "code",
      "source": [
        "#positional arguments\n",
        "\n",
        "def add_numbers(x, y):\n",
        "  print(\"x \", x)\n",
        "  print(\"y \", y)\n",
        "  print(x+y)\n",
        "\n",
        "add_numbers(6,5)"
      ],
      "metadata": {
        "colab": {
          "base_uri": "https://localhost:8080/"
        },
        "id": "1FoPyo6JsY2I",
        "outputId": "f6a54553-d777-43e9-f5d3-616f7d97c0e4"
      },
      "execution_count": null,
      "outputs": [
        {
          "output_type": "stream",
          "name": "stdout",
          "text": [
            "x  6\n",
            "y  5\n",
            "11\n"
          ]
        }
      ]
    },
    {
      "cell_type": "code",
      "source": [
        "def sum_numbers(*args):\n",
        "  print(type(args))\n",
        "  print(args)\n",
        "\n",
        "  sum = 0\n",
        "  for num in args :\n",
        "    sum +=num\n",
        "  return sum"
      ],
      "metadata": {
        "id": "w-6lZB2VwV0l"
      },
      "execution_count": null,
      "outputs": []
    },
    {
      "cell_type": "code",
      "source": [
        "print(sum_numbers(1,2,3,4,5))"
      ],
      "metadata": {
        "colab": {
          "base_uri": "https://localhost:8080/"
        },
        "id": "TQzXCyMbwmuB",
        "outputId": "6f7e0990-8eac-4834-a51c-c1b573512cd0"
      },
      "execution_count": null,
      "outputs": [
        {
          "output_type": "stream",
          "name": "stdout",
          "text": [
            "<class 'tuple'>\n",
            "(1, 2, 3, 4, 5)\n",
            "15\n"
          ]
        }
      ]
    },
    {
      "cell_type": "code",
      "source": [
        "def fn(a,b,*args):\n",
        "  print(a)\n",
        "  print(b)\n",
        "  print(args)\n",
        "  print(*args)\n",
        "\n",
        "\n",
        "fn(5,6,7,8,9)\n"
      ],
      "metadata": {
        "colab": {
          "base_uri": "https://localhost:8080/"
        },
        "id": "YRfCdXFWxLz9",
        "outputId": "19c90f21-e513-494d-c317-16de6d91c381"
      },
      "execution_count": null,
      "outputs": [
        {
          "output_type": "stream",
          "name": "stdout",
          "text": [
            "5\n",
            "6\n",
            "(7, 8, 9)\n",
            "7 8 9\n"
          ]
        }
      ]
    },
    {
      "cell_type": "code",
      "source": [
        "def fn(*args,a,b):\n",
        "  print(a)\n",
        "  print(b)\n",
        "  print(args)\n",
        "  print(*args)\n",
        "\n",
        "\n",
        "fn(5,6,7,8,9)"
      ],
      "metadata": {
        "colab": {
          "base_uri": "https://localhost:8080/",
          "height": 180
        },
        "id": "UZOHgE13xfWc",
        "outputId": "0ab2f390-9191-4a00-dc57-9669359fe0e6"
      },
      "execution_count": null,
      "outputs": [
        {
          "output_type": "error",
          "ename": "TypeError",
          "evalue": "fn() missing 2 required keyword-only arguments: 'a' and 'b'",
          "traceback": [
            "\u001b[0;31m---------------------------------------------------------------------------\u001b[0m",
            "\u001b[0;31mTypeError\u001b[0m                                 Traceback (most recent call last)",
            "\u001b[0;32m<ipython-input-24-4fdaeb42a8c9>\u001b[0m in \u001b[0;36m<cell line: 8>\u001b[0;34m()\u001b[0m\n\u001b[1;32m      6\u001b[0m \u001b[0;34m\u001b[0m\u001b[0m\n\u001b[1;32m      7\u001b[0m \u001b[0;34m\u001b[0m\u001b[0m\n\u001b[0;32m----> 8\u001b[0;31m \u001b[0mfn\u001b[0m\u001b[0;34m(\u001b[0m\u001b[0;36m5\u001b[0m\u001b[0;34m,\u001b[0m\u001b[0;36m6\u001b[0m\u001b[0;34m,\u001b[0m\u001b[0;36m7\u001b[0m\u001b[0;34m,\u001b[0m\u001b[0;36m8\u001b[0m\u001b[0;34m,\u001b[0m\u001b[0;36m9\u001b[0m\u001b[0;34m)\u001b[0m\u001b[0;34m\u001b[0m\u001b[0;34m\u001b[0m\u001b[0m\n\u001b[0m",
            "\u001b[0;31mTypeError\u001b[0m: fn() missing 2 required keyword-only arguments: 'a' and 'b'"
          ]
        }
      ]
    },
    {
      "cell_type": "code",
      "source": [
        "def fn(*args,a,b):\n",
        "  print(a)\n",
        "  print(b)\n",
        "  print(args)\n",
        "  print(*args)\n",
        "\n",
        "\n",
        "fn(5,6,7,a=8,b=9)"
      ],
      "metadata": {
        "colab": {
          "base_uri": "https://localhost:8080/"
        },
        "id": "3R87wE-rxzbS",
        "outputId": "704c15ff-94f8-4625-b3a8-ef594c06d6e5"
      },
      "execution_count": null,
      "outputs": [
        {
          "output_type": "stream",
          "name": "stdout",
          "text": [
            "8\n",
            "9\n",
            "(5, 6, 7)\n",
            "5 6 7\n"
          ]
        }
      ]
    },
    {
      "cell_type": "code",
      "source": [
        "def display_info(**kwargs):\n",
        "  print(kwargs)\n",
        "  print(type(kwargs))\n",
        "\n",
        "  for key, value in kwargs.items():\n",
        "    print(key ,\" -> \" ,value)"
      ],
      "metadata": {
        "id": "0wdUI3lL1V4f"
      },
      "execution_count": null,
      "outputs": []
    },
    {
      "cell_type": "code",
      "source": [
        "display_info(name=\"Vishwa\", age=99, city = \"Bangalore\")"
      ],
      "metadata": {
        "colab": {
          "base_uri": "https://localhost:8080/"
        },
        "id": "7riMDED21kza",
        "outputId": "7e58bd24-f771-4d7c-fe41-10efd609ace5"
      },
      "execution_count": null,
      "outputs": [
        {
          "output_type": "stream",
          "name": "stdout",
          "text": [
            "{'name': 'Vishwa', 'age': 99, 'city': 'Bangalore'}\n",
            "<class 'dict'>\n",
            "name  :  Vishwa\n",
            "age  :  99\n",
            "city  :  Bangalore\n"
          ]
        }
      ]
    },
    {
      "cell_type": "code",
      "source": [
        "def func (a, b, *args, **kwargs):\n",
        "  print(a)\n",
        "  print(b)\n",
        "  print(args)\n",
        "  print(kwargs)\n",
        "\n",
        "\n",
        "func(5,6,7,8,9,name=\"Vishwa\", age=99)"
      ],
      "metadata": {
        "colab": {
          "base_uri": "https://localhost:8080/"
        },
        "id": "kmH2hmqO238u",
        "outputId": "5364d9a3-0d4c-4789-9202-a84fafc23e06"
      },
      "execution_count": null,
      "outputs": [
        {
          "output_type": "stream",
          "name": "stdout",
          "text": [
            "5\n",
            "6\n",
            "(7, 8, 9)\n",
            "{'name': 'Vishwa', 'age': 99}\n"
          ]
        }
      ]
    },
    {
      "cell_type": "code",
      "source": [
        "def func1(**kwargs, a,b):\n",
        "  print(kwargs)\n",
        "  print(a)\n",
        "  print(b)\n",
        "\n",
        "\n",
        "func1(name=\"Vishwa\",age=99, 7,9)"
      ],
      "metadata": {
        "colab": {
          "base_uri": "https://localhost:8080/",
          "height": 108
        },
        "id": "0oVZyL0G3Mv0",
        "outputId": "e1f5df16-b4a0-4760-902d-6cf29aa92ebb"
      },
      "execution_count": null,
      "outputs": [
        {
          "output_type": "error",
          "ename": "SyntaxError",
          "evalue": "invalid syntax (<ipython-input-37-d0c180f4061d>, line 1)",
          "traceback": [
            "\u001b[0;36m  File \u001b[0;32m\"<ipython-input-37-d0c180f4061d>\"\u001b[0;36m, line \u001b[0;32m1\u001b[0m\n\u001b[0;31m    def func1(**kwargs, a,b):\u001b[0m\n\u001b[0m                        ^\u001b[0m\n\u001b[0;31mSyntaxError\u001b[0m\u001b[0;31m:\u001b[0m invalid syntax\n"
          ]
        }
      ]
    },
    {
      "cell_type": "code",
      "source": [
        "def add_numbers(a : int,b : int)-> int :\n",
        "  return a+b"
      ],
      "metadata": {
        "id": "V6PDtn213lh0"
      },
      "execution_count": null,
      "outputs": []
    },
    {
      "cell_type": "code",
      "source": [
        "print(add_numbers(5.5,7.7))"
      ],
      "metadata": {
        "colab": {
          "base_uri": "https://localhost:8080/"
        },
        "id": "uHc21H7O31re",
        "outputId": "e7b6668d-b4c4-4991-8bc5-ec2c8da3d68a"
      },
      "execution_count": null,
      "outputs": [
        {
          "output_type": "stream",
          "name": "stdout",
          "text": [
            "13.2\n"
          ]
        }
      ]
    },
    {
      "cell_type": "code",
      "source": [
        "def outer():\n",
        "  print(\"Hello from the outer\")\n",
        "\n",
        "  def inner():\n",
        "    print(\"Hello from the inner\")\n",
        "\n",
        "  return inner"
      ],
      "metadata": {
        "id": "z1j2lUlx4DjW"
      },
      "execution_count": null,
      "outputs": []
    },
    {
      "cell_type": "code",
      "source": [
        "fn = outer()"
      ],
      "metadata": {
        "colab": {
          "base_uri": "https://localhost:8080/"
        },
        "id": "ARfwRMqf4TnX",
        "outputId": "b4e5aa8c-d1b0-4f16-e5bc-1bb8f68f4d01"
      },
      "execution_count": null,
      "outputs": [
        {
          "output_type": "stream",
          "name": "stdout",
          "text": [
            "Hello from the outer\n"
          ]
        }
      ]
    },
    {
      "cell_type": "code",
      "source": [
        "fn()"
      ],
      "metadata": {
        "colab": {
          "base_uri": "https://localhost:8080/"
        },
        "id": "l5Pi02Vh4bLe",
        "outputId": "1941b248-7917-4292-9291-233b31369af4"
      },
      "execution_count": null,
      "outputs": [
        {
          "output_type": "stream",
          "name": "stdout",
          "text": [
            "Hello from the inner\n"
          ]
        }
      ]
    },
    {
      "cell_type": "code",
      "source": [
        "outer()()"
      ],
      "metadata": {
        "colab": {
          "base_uri": "https://localhost:8080/"
        },
        "id": "Z2XR-cQE4eDt",
        "outputId": "e5496e97-3bd3-4c87-cb47-06806744305f"
      },
      "execution_count": null,
      "outputs": [
        {
          "output_type": "stream",
          "name": "stdout",
          "text": [
            "Hello from the outer\n",
            "Hello from the inner\n"
          ]
        }
      ]
    },
    {
      "cell_type": "code",
      "source": [
        "#Pass by Value\n",
        "\n",
        "num = 5\n",
        "\n",
        "def modify_num(num):\n",
        "  num +=1\n",
        "  print(num)\n",
        "\n",
        "modify_num(num)\n",
        "\n",
        "print(\"Original num\", num)"
      ],
      "metadata": {
        "colab": {
          "base_uri": "https://localhost:8080/"
        },
        "id": "70wJspoLhROn",
        "outputId": "c929962a-69a0-459a-95c3-2fd28c8d20bd"
      },
      "execution_count": null,
      "outputs": [
        {
          "output_type": "stream",
          "name": "stdout",
          "text": [
            "6\n",
            "Original num 5\n"
          ]
        }
      ]
    },
    {
      "cell_type": "code",
      "source": [
        "# Immutable datatypes : Numbers, String, tuple -- Passed by Value"
      ],
      "metadata": {
        "id": "xMIbbIBhh_yR"
      },
      "execution_count": null,
      "outputs": []
    },
    {
      "cell_type": "code",
      "source": [
        "# Pass by reference : -> Mutable datatypes : List, Disctionary"
      ],
      "metadata": {
        "id": "aKKSzfdEiKYC"
      },
      "execution_count": null,
      "outputs": []
    },
    {
      "cell_type": "code",
      "source": [
        "my_list = [1,2,4]\n",
        "\n",
        "def modify_list(li):\n",
        "  li.append(5)\n",
        "  print(li)\n",
        "\n",
        "print(\"Before calling fun\", my_list)\n",
        "\n",
        "modify_list(my_list)\n",
        "\n",
        "print(\"After calling fun\", my_list)"
      ],
      "metadata": {
        "colab": {
          "base_uri": "https://localhost:8080/"
        },
        "id": "3eyIZ9hRiRHm",
        "outputId": "a6aeeb2e-6f02-44a7-eae2-eb61194b2edd"
      },
      "execution_count": null,
      "outputs": [
        {
          "output_type": "stream",
          "name": "stdout",
          "text": [
            "Before calling fun [1, 2, 4]\n",
            "[1, 2, 4, 5]\n",
            "After calling fun [1, 2, 4, 5]\n"
          ]
        }
      ]
    },
    {
      "cell_type": "code",
      "source": [
        "#Lambda functions\n",
        "\n",
        "func = lambda x : x+10\n",
        "\n",
        "print(func(5))\n",
        "\n"
      ],
      "metadata": {
        "colab": {
          "base_uri": "https://localhost:8080/"
        },
        "id": "3LYMsTAskX5C",
        "outputId": "79635548-ec2b-4783-8620-a9555feb30bd"
      },
      "execution_count": null,
      "outputs": [
        {
          "output_type": "stream",
          "name": "stdout",
          "text": [
            "15\n"
          ]
        }
      ]
    },
    {
      "cell_type": "code",
      "source": [
        "add = lambda a , b : a+b\n",
        "\n",
        "print(add(5,6))"
      ],
      "metadata": {
        "colab": {
          "base_uri": "https://localhost:8080/"
        },
        "id": "qQCapZUKl54h",
        "outputId": "619d8bf4-0152-4a5b-ca63-596a6f65e835"
      },
      "execution_count": null,
      "outputs": [
        {
          "output_type": "stream",
          "name": "stdout",
          "text": [
            "11\n"
          ]
        }
      ]
    },
    {
      "cell_type": "code",
      "source": [
        "def myFunc() :\n",
        "  #return a new function\n",
        "  return lambda msg : print(msg)\n",
        "\n",
        "myFunc()(\"Hello World\")"
      ],
      "metadata": {
        "colab": {
          "base_uri": "https://localhost:8080/"
        },
        "id": "MkQ1XuckmLH_",
        "outputId": "9d23e6ed-0bd7-4084-9862-90933a12a835"
      },
      "execution_count": null,
      "outputs": [
        {
          "output_type": "stream",
          "name": "stdout",
          "text": [
            "Hello World\n"
          ]
        }
      ]
    }
  ]
}