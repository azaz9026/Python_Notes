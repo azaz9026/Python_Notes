{
  "nbformat": 4,
  "nbformat_minor": 0,
  "metadata": {
    "colab": {
      "provenance": [],
      "toc_visible": true,
      "authorship_tag": "ABX9TyOq6DHe8lEGkhU9WpBe9nV4",
      "include_colab_link": true
    },
    "kernelspec": {
      "name": "python3",
      "display_name": "Python 3"
    },
    "language_info": {
      "name": "python"
    }
  },
  "cells": [
    {
      "cell_type": "markdown",
      "metadata": {
        "id": "view-in-github",
        "colab_type": "text"
      },
      "source": [
        "<a href=\"https://colab.research.google.com/github/azaz9026/Python_Notes/blob/main/Functions_Revision.ipynb\" target=\"_parent\"><img src=\"https://colab.research.google.com/assets/colab-badge.svg\" alt=\"Open In Colab\"/></a>"
      ]
    },
    {
      "cell_type": "markdown",
      "source": [
        "1. User-Define **Function**"
      ],
      "metadata": {
        "id": "lq9o4nRTr0V1"
      }
    },
    {
      "cell_type": "markdown",
      "source": [
        "User-defined functions in programming languages like Python allow you to create your own reusable blocks of code to perform specific tasks. Functions encapsulate logic, making the code modular, easier to understand, and maintainable."
      ],
      "metadata": {
        "id": "e1S1gEbNr2G8"
      }
    },
    {
      "cell_type": "code",
      "source": [
        "def greetings():\n",
        "  print(\"Hi Everyone\")\n",
        "\n",
        "greetings()"
      ],
      "metadata": {
        "colab": {
          "base_uri": "https://localhost:8080/"
        },
        "id": "w5fO5E37r5YC",
        "outputId": "1626a559-bd49-4674-bcfd-dbaf67f9782a"
      },
      "execution_count": 2,
      "outputs": [
        {
          "output_type": "stream",
          "name": "stdout",
          "text": [
            "Hi Everyone\n"
          ]
        }
      ]
    },
    {
      "cell_type": "code",
      "source": [
        "def greetings2(name):\n",
        "  print(\"Hi\" , name)\n",
        "\n",
        "greetings2(\"Azaz\")\n",
        "\n",
        ""
      ],
      "metadata": {
        "colab": {
          "base_uri": "https://localhost:8080/"
        },
        "id": "quX3-IFAshQ2",
        "outputId": "f0513974-ea48-4264-db54-b52c2f31328b"
      },
      "execution_count": 4,
      "outputs": [
        {
          "output_type": "stream",
          "name": "stdout",
          "text": [
            "Hi Azaz\n"
          ]
        }
      ]
    },
    {
      "cell_type": "code",
      "source": [
        "def sum(a,b):\n",
        "  c = a+b\n",
        "  return c\n",
        "\n",
        "sum(1,2)"
      ],
      "metadata": {
        "colab": {
          "base_uri": "https://localhost:8080/"
        },
        "id": "WLouxtlas6Dc",
        "outputId": "f89f1283-39d5-4056-d8cc-02d370b8c952"
      },
      "execution_count": 5,
      "outputs": [
        {
          "output_type": "execute_result",
          "data": {
            "text/plain": [
              "3"
            ]
          },
          "metadata": {},
          "execution_count": 5
        }
      ]
    },
    {
      "cell_type": "code",
      "source": [
        "sum(\"md\" , \"Azaz\")"
      ],
      "metadata": {
        "colab": {
          "base_uri": "https://localhost:8080/",
          "height": 36
        },
        "id": "McGVxMDCtT8G",
        "outputId": "cc81855e-cc6e-4ef5-dc9b-f173c5a120b3"
      },
      "execution_count": 6,
      "outputs": [
        {
          "output_type": "execute_result",
          "data": {
            "text/plain": [
              "'mdAzaz'"
            ],
            "application/vnd.google.colaboratory.intrinsic+json": {
              "type": "string"
            }
          },
          "metadata": {},
          "execution_count": 6
        }
      ]
    },
    {
      "cell_type": "code",
      "source": [
        "def sum():\n",
        "  a = int(input(\"Enter your number a:\"))\n",
        "  b = int(input(\"Enter your number b:\"))\n",
        "  c = a + b\n",
        "  return c\n",
        "\n",
        "sum()"
      ],
      "metadata": {
        "colab": {
          "base_uri": "https://localhost:8080/"
        },
        "id": "tD9LVUkgtc8Q",
        "outputId": "48c5e542-f335-4f76-f942-0d5ade685aec"
      },
      "execution_count": 8,
      "outputs": [
        {
          "name": "stdout",
          "output_type": "stream",
          "text": [
            "Enter your number a:2\n",
            "Enter your number b:2\n"
          ]
        },
        {
          "output_type": "execute_result",
          "data": {
            "text/plain": [
              "4"
            ]
          },
          "metadata": {},
          "execution_count": 8
        }
      ]
    }
  ]
}