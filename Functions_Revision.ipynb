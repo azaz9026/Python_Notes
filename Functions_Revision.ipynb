{
  "nbformat": 4,
  "nbformat_minor": 0,
  "metadata": {
    "colab": {
      "provenance": [],
      "toc_visible": true,
      "authorship_tag": "ABX9TyOPX0u/jVtZ2cUngpU+Bl3o",
      "include_colab_link": true
    },
    "kernelspec": {
      "name": "python3",
      "display_name": "Python 3"
    },
    "language_info": {
      "name": "python"
    }
  },
  "cells": [
    {
      "cell_type": "markdown",
      "metadata": {
        "id": "view-in-github",
        "colab_type": "text"
      },
      "source": [
        "<a href=\"https://colab.research.google.com/github/azaz9026/Python_Notes/blob/main/Functions_Revision.ipynb\" target=\"_parent\"><img src=\"https://colab.research.google.com/assets/colab-badge.svg\" alt=\"Open In Colab\"/></a>"
      ]
    },
    {
      "cell_type": "markdown",
      "source": [
        "1. User-Define **Function**"
      ],
      "metadata": {
        "id": "lq9o4nRTr0V1"
      }
    },
    {
      "cell_type": "markdown",
      "source": [
        "User-defined functions in programming languages like Python allow you to create your own reusable blocks of code to perform specific tasks. Functions encapsulate logic, making the code modular, easier to understand, and maintainable."
      ],
      "metadata": {
        "id": "e1S1gEbNr2G8"
      }
    },
    {
      "cell_type": "code",
      "source": [
        "def greetings():\n",
        "  print(\"Hi Everyone\")\n",
        "\n",
        "greetings()"
      ],
      "metadata": {
        "colab": {
          "base_uri": "https://localhost:8080/"
        },
        "id": "w5fO5E37r5YC",
        "outputId": "1626a559-bd49-4674-bcfd-dbaf67f9782a"
      },
      "execution_count": null,
      "outputs": [
        {
          "output_type": "stream",
          "name": "stdout",
          "text": [
            "Hi Everyone\n"
          ]
        }
      ]
    },
    {
      "cell_type": "code",
      "source": [
        "def greetings2(name):\n",
        "  print(\"Hi\" , name)\n",
        "\n",
        "greetings2(\"Azaz\")\n",
        "\n"
      ],
      "metadata": {
        "colab": {
          "base_uri": "https://localhost:8080/"
        },
        "id": "quX3-IFAshQ2",
        "outputId": "f0513974-ea48-4264-db54-b52c2f31328b"
      },
      "execution_count": null,
      "outputs": [
        {
          "output_type": "stream",
          "name": "stdout",
          "text": [
            "Hi Azaz\n"
          ]
        }
      ]
    },
    {
      "cell_type": "code",
      "source": [
        "def sum(a,b):\n",
        "  c = a+b\n",
        "  return c\n",
        "\n",
        "sum(1,2)"
      ],
      "metadata": {
        "colab": {
          "base_uri": "https://localhost:8080/"
        },
        "id": "WLouxtlas6Dc",
        "outputId": "f89f1283-39d5-4056-d8cc-02d370b8c952"
      },
      "execution_count": null,
      "outputs": [
        {
          "output_type": "execute_result",
          "data": {
            "text/plain": [
              "3"
            ]
          },
          "metadata": {},
          "execution_count": 5
        }
      ]
    },
    {
      "cell_type": "code",
      "source": [
        "sum(\"md\" , \"Azaz\")"
      ],
      "metadata": {
        "colab": {
          "base_uri": "https://localhost:8080/",
          "height": 36
        },
        "id": "McGVxMDCtT8G",
        "outputId": "cc81855e-cc6e-4ef5-dc9b-f173c5a120b3"
      },
      "execution_count": null,
      "outputs": [
        {
          "output_type": "execute_result",
          "data": {
            "text/plain": [
              "'mdAzaz'"
            ],
            "application/vnd.google.colaboratory.intrinsic+json": {
              "type": "string"
            }
          },
          "metadata": {},
          "execution_count": 6
        }
      ]
    },
    {
      "cell_type": "code",
      "source": [
        "def sum():\n",
        "  a = int(input(\"Enter your number a:\"))\n",
        "  b = int(input(\"Enter your number b:\"))\n",
        "  c = a + b\n",
        "  return c\n",
        "\n",
        "result = sum()\n",
        "print(result)\n",
        "\n"
      ],
      "metadata": {
        "colab": {
          "base_uri": "https://localhost:8080/"
        },
        "id": "tD9LVUkgtc8Q",
        "outputId": "2fbe1a96-1dea-4dd7-a972-a55c4e1b71c9"
      },
      "execution_count": null,
      "outputs": [
        {
          "output_type": "stream",
          "name": "stdout",
          "text": [
            "Enter your number a:1\n",
            "Enter your number b:1\n",
            "2\n"
          ]
        }
      ]
    },
    {
      "cell_type": "code",
      "source": [
        "type(result)"
      ],
      "metadata": {
        "colab": {
          "base_uri": "https://localhost:8080/"
        },
        "id": "nvCT6Gq_uylS",
        "outputId": "d071e767-2864-466c-b3a7-e6442c99cd13"
      },
      "execution_count": null,
      "outputs": [
        {
          "output_type": "execute_result",
          "data": {
            "text/plain": [
              "int"
            ]
          },
          "metadata": {},
          "execution_count": 11
        }
      ]
    },
    {
      "cell_type": "code",
      "source": [
        "def sum2():\n",
        "  a = int(input('Enter your number a: '))\n",
        "  b = int(input('Enter your number b: '))\n",
        "  print( a + b)\n",
        "\n",
        "result1 = sum2()\n",
        "print(result1)"
      ],
      "metadata": {
        "colab": {
          "base_uri": "https://localhost:8080/"
        },
        "id": "i1Gvk89FvPGx",
        "outputId": "c4c6a5cc-baa4-4a6b-a085-7809e8079e61"
      },
      "execution_count": null,
      "outputs": [
        {
          "output_type": "stream",
          "name": "stdout",
          "text": [
            "Enter your number a: 1\n",
            "Enter your number b: 1\n",
            "2\n",
            "None\n"
          ]
        }
      ]
    },
    {
      "cell_type": "code",
      "source": [
        "type(result1)"
      ],
      "metadata": {
        "colab": {
          "base_uri": "https://localhost:8080/"
        },
        "id": "gjlJZLx-vVLp",
        "outputId": "ab3684ef-c862-4348-85ce-f9cccbb10b08"
      },
      "execution_count": null,
      "outputs": [
        {
          "output_type": "execute_result",
          "data": {
            "text/plain": [
              "NoneType"
            ]
          },
          "metadata": {},
          "execution_count": 17
        }
      ]
    },
    {
      "cell_type": "code",
      "source": [
        "def travel_or_not (bike , car):\n",
        "  print(f\"You have BIKE: {bike}\")\n",
        "  print(f\"You have CAR: {car}\")\n",
        "  print(f\"You can travel 100 KMs: {bike or car}\\n\")\n",
        "\n",
        "\n",
        "travel_or_not(True, False)\n"
      ],
      "metadata": {
        "colab": {
          "base_uri": "https://localhost:8080/"
        },
        "id": "PqX7IYqTwxfd",
        "outputId": "c306caef-9992-4154-8215-e8a245e8aa08"
      },
      "execution_count": null,
      "outputs": [
        {
          "output_type": "stream",
          "name": "stdout",
          "text": [
            "You have BIKE: True\n",
            "You have CAR: False\n",
            "You can travel 100 KMs: True\n",
            "\n"
          ]
        }
      ]
    },
    {
      "cell_type": "markdown",
      "source": [
        "function to find the square of a number"
      ],
      "metadata": {
        "id": "UVfrF1D3x32P"
      }
    },
    {
      "cell_type": "code",
      "source": [
        "def square(x):\n",
        "  return x**2\n",
        "\n",
        "square(5)"
      ],
      "metadata": {
        "colab": {
          "base_uri": "https://localhost:8080/"
        },
        "id": "rgG2ReGUx46_",
        "outputId": "777a44c1-84a9-4822-f706-6f481575293e"
      },
      "execution_count": null,
      "outputs": [
        {
          "output_type": "execute_result",
          "data": {
            "text/plain": [
              "25"
            ]
          },
          "metadata": {},
          "execution_count": 20
        }
      ]
    },
    {
      "cell_type": "markdown",
      "source": [
        "function to find raise to power of x values"
      ],
      "metadata": {
        "id": "fHukZOlp0HZ6"
      }
    },
    {
      "cell_type": "code",
      "source": [
        "def square(x , y):\n",
        "  return x**y\n",
        "\n",
        "square(5 , 2)"
      ],
      "metadata": {
        "colab": {
          "base_uri": "https://localhost:8080/"
        },
        "id": "FkxuEUaIyH5Z",
        "outputId": "7bd75afb-39b2-4c66-99e7-973ab5a03370"
      },
      "execution_count": null,
      "outputs": [
        {
          "output_type": "execute_result",
          "data": {
            "text/plain": [
              "25"
            ]
          },
          "metadata": {},
          "execution_count": 21
        }
      ]
    },
    {
      "cell_type": "code",
      "source": [
        "lists = [1,2,3,4,5]\n",
        "sum(lists)"
      ],
      "metadata": {
        "colab": {
          "base_uri": "https://localhost:8080/"
        },
        "id": "8v4IMQU5yhcN",
        "outputId": "502505f5-a059-4e97-b902-70e5d8b3e6bd"
      },
      "execution_count": null,
      "outputs": [
        {
          "output_type": "execute_result",
          "data": {
            "text/plain": [
              "15"
            ]
          },
          "metadata": {},
          "execution_count": 1
        }
      ]
    },
    {
      "cell_type": "markdown",
      "source": [
        "def a a function sum_of_list which will return a summed uo value of list"
      ],
      "metadata": {
        "id": "Yf3inXTp0LQz"
      }
    },
    {
      "cell_type": "code",
      "source": [
        "\n",
        "\n",
        "def sum_lists(n):\n",
        "  s = 0\n",
        "  for i in n:\n",
        "    s = s + i\n",
        "  return s\n",
        "\n",
        "\n",
        "lists = [1,2,3,4,5]\n",
        "sum_lists(lists)\n"
      ],
      "metadata": {
        "colab": {
          "base_uri": "https://localhost:8080/"
        },
        "id": "GmDDt_0ly_Ts",
        "outputId": "7623d177-4260-47ef-c3c6-464cb41863df"
      },
      "execution_count": null,
      "outputs": [
        {
          "output_type": "execute_result",
          "data": {
            "text/plain": [
              "15"
            ]
          },
          "metadata": {},
          "execution_count": 6
        }
      ]
    },
    {
      "cell_type": "markdown",
      "source": [
        "function to accept list as an input and list of cube of odd numbers\n"
      ],
      "metadata": {
        "id": "Gw1NfgFO0oVS"
      }
    },
    {
      "cell_type": "code",
      "source": [
        "def cub(lis):\n",
        "  o = []\n",
        "  for i in lis:\n",
        "    if i % 2 != 0:\n",
        "      o.append(i**3)\n",
        "  return o\n",
        "\n",
        "lists = [1,2,3,4,5]\n",
        "cub(lists)\n"
      ],
      "metadata": {
        "colab": {
          "base_uri": "https://localhost:8080/"
        },
        "id": "TuGbgMiH0pKq",
        "outputId": "e9ad3820-12ef-4fd1-f81b-1e0236347086"
      },
      "execution_count": null,
      "outputs": [
        {
          "output_type": "execute_result",
          "data": {
            "text/plain": [
              "[1, 27, 125]"
            ]
          },
          "metadata": {},
          "execution_count": 8
        }
      ]
    },
    {
      "cell_type": "code",
      "source": [
        "def cubs(li):\n",
        "  res = [i**3 for i in li if i % 2 != 0]\n",
        "  return res\n",
        "\n",
        "lists = [1,2,3,4,5]\n",
        "cubs(lists)"
      ],
      "metadata": {
        "colab": {
          "base_uri": "https://localhost:8080/"
        },
        "id": "B3J7BNoB1phD",
        "outputId": "5cd6090f-3b0e-4b9a-8585-57c2d0690f75"
      },
      "execution_count": null,
      "outputs": [
        {
          "output_type": "execute_result",
          "data": {
            "text/plain": [
              "[1, 27, 125]"
            ]
          },
          "metadata": {},
          "execution_count": 9
        }
      ]
    },
    {
      "cell_type": "code",
      "source": [
        "def sum(a, b, c):\n",
        "  return a + b + c\n",
        "\n",
        "sum(1,2,3)"
      ],
      "metadata": {
        "colab": {
          "base_uri": "https://localhost:8080/"
        },
        "id": "JjBJTNjg26Pi",
        "outputId": "13c275ed-e706-404b-cdec-18c8a03eec56"
      },
      "execution_count": null,
      "outputs": [
        {
          "output_type": "execute_result",
          "data": {
            "text/plain": [
              "6"
            ]
          },
          "metadata": {},
          "execution_count": 10
        }
      ]
    },
    {
      "cell_type": "code",
      "source": [
        "def sum(a = 0, b = 0, c = 0):\n",
        "  return a + b + c\n",
        "sum(2,6)\n",
        "sum(5,6,7)"
      ],
      "metadata": {
        "id": "BktG1hF13Dwq",
        "outputId": "6031569a-43c0-4a7c-8593-12a8fb489baf",
        "colab": {
          "base_uri": "https://localhost:8080/"
        }
      },
      "execution_count": null,
      "outputs": [
        {
          "output_type": "execute_result",
          "data": {
            "text/plain": [
              "18"
            ]
          },
          "metadata": {},
          "execution_count": 12
        }
      ]
    },
    {
      "cell_type": "code",
      "source": [
        "def read(*args):\n",
        "  for i in args:\n",
        "    return i\n",
        "\n",
        "a = [1,2,3,4,5,6,7,8,9]\n",
        "read(a)"
      ],
      "metadata": {
        "colab": {
          "base_uri": "https://localhost:8080/"
        },
        "id": "4VIsQSkySnaf",
        "outputId": "c276e1e9-3c9a-46a7-e5f4-5c2b703afbb8"
      },
      "execution_count": null,
      "outputs": [
        {
          "output_type": "execute_result",
          "data": {
            "text/plain": [
              "[1, 2, 3, 4, 5, 6, 7, 8, 9]"
            ]
          },
          "metadata": {},
          "execution_count": 8
        }
      ]
    },
    {
      "cell_type": "code",
      "source": [
        "def sum(*num):\n",
        "  s = 0\n",
        "  for i in num:\n",
        "    s += i\n",
        "  return s"
      ],
      "metadata": {
        "id": "LTGIZK0eTVlG"
      },
      "execution_count": null,
      "outputs": []
    },
    {
      "cell_type": "code",
      "source": [
        "sum(2,3,4,5,6,7,8,)"
      ],
      "metadata": {
        "colab": {
          "base_uri": "https://localhost:8080/"
        },
        "id": "DZay3OMcTXTH",
        "outputId": "4592fbc8-2551-450d-cc40-d676bc6e9c51"
      },
      "execution_count": null,
      "outputs": [
        {
          "output_type": "execute_result",
          "data": {
            "text/plain": [
              "35"
            ]
          },
          "metadata": {},
          "execution_count": 11
        }
      ]
    },
    {
      "cell_type": "markdown",
      "source": [
        "branch_and_subjects_in_graduation>> number of subjects and branch which will be mandate input"
      ],
      "metadata": {
        "id": "CUHjVM_fVMoT"
      }
    },
    {
      "cell_type": "code",
      "source": [
        "def branch_and_subjects_in_graduation(*subjects, branch):\n",
        "  print(f\"My branch is {branch}\")\n",
        "  return f\"I like these subjects in graduation {subjects}\""
      ],
      "metadata": {
        "id": "QfjD3mhIVG_-"
      },
      "execution_count": null,
      "outputs": []
    },
    {
      "cell_type": "code",
      "source": [
        "branch_and_subjects_in_graduation('DSP','SP','DE','AE', branch = 'Electronics')"
      ],
      "metadata": {
        "colab": {
          "base_uri": "https://localhost:8080/",
          "height": 53
        },
        "id": "9GXDsI5TVLpB",
        "outputId": "b0b63745-5fb4-412b-a3a2-186d4e8e9458"
      },
      "execution_count": null,
      "outputs": [
        {
          "output_type": "stream",
          "name": "stdout",
          "text": [
            "My branch is Electronics\n"
          ]
        },
        {
          "output_type": "execute_result",
          "data": {
            "text/plain": [
              "\"I like these subjects in graduation ('DSP', 'SP', 'DE', 'AE')\""
            ],
            "application/vnd.google.colaboratory.intrinsic+json": {
              "type": "string"
            }
          },
          "metadata": {},
          "execution_count": 14
        }
      ]
    },
    {
      "cell_type": "code",
      "source": [
        "def key_word(**kwargs):\n",
        "  for i , j in kwargs.items():\n",
        "     print (f'subject = {i} , marks is that = {j}')\n",
        "\n",
        "\n",
        "key_word(Digital_Image_Processing = 78, Microprocessor= 79, Signals_and_systems=83)"
      ],
      "metadata": {
        "colab": {
          "base_uri": "https://localhost:8080/"
        },
        "id": "bhcT7JjJW03d",
        "outputId": "fb692a21-8a52-43fc-8ca9-fd691bf505f7"
      },
      "execution_count": null,
      "outputs": [
        {
          "output_type": "stream",
          "name": "stdout",
          "text": [
            "subject = Digital_Image_Processing , marks is that = 78\n",
            "subject = Microprocessor , marks is that = 79\n",
            "subject = Signals_and_systems , marks is that = 83\n"
          ]
        }
      ]
    },
    {
      "cell_type": "code",
      "source": [
        "def marks_in_subjects(**kwargs):\n",
        "\n",
        "  def total_marks(marks_list):\n",
        "    return sum(marks_list)\n",
        "\n",
        "  marks_list = list()\n",
        "  for i, j in kwargs.items():\n",
        "    marks_list.append(j)\n",
        "    print(f'Subjects = {i} Marks secured = {j}')\n",
        "  return total_marks(marks_list)\n",
        "\n",
        "\n",
        "marks_in_subjects(Digital_Image_Process = 79, Microprocess = 82, Digital_Analytics = 82, Maths = 90)"
      ],
      "metadata": {
        "colab": {
          "base_uri": "https://localhost:8080/"
        },
        "id": "5BjtFwbsYrL5",
        "outputId": "c8741c18-6f4c-48cd-9ccf-a31847534be4"
      },
      "execution_count": null,
      "outputs": [
        {
          "output_type": "stream",
          "name": "stdout",
          "text": [
            "Subjects = Digital_Image_Process Marks secured = 79\n",
            "Subjects = Microprocess Marks secured = 82\n",
            "Subjects = Digital_Analytics Marks secured = 82\n",
            "Subjects = Maths Marks secured = 90\n"
          ]
        },
        {
          "output_type": "execute_result",
          "data": {
            "text/plain": [
              "333"
            ]
          },
          "metadata": {},
          "execution_count": 1
        }
      ]
    },
    {
      "cell_type": "code",
      "source": [
        "def add(num1 : int , num2 : int ) -> int:\n",
        "  ''' add tow number '''\n",
        "  num3 = num1 + num2\n",
        "  return num3\n",
        "\n",
        "\n",
        "\n",
        "# Driver code\n",
        "num1, num2 = 5, 15\n",
        "ans = add(num1, num2)\n",
        "print(f\"The addition of {num1} and {num2} results {ans}.\")\n",
        "\n",
        "\n"
      ],
      "metadata": {
        "colab": {
          "base_uri": "https://localhost:8080/"
        },
        "id": "5m7fPHOlZq8y",
        "outputId": "5b80aeb8-2c83-4115-ceea-76a749af0377"
      },
      "execution_count": null,
      "outputs": [
        {
          "output_type": "stream",
          "name": "stdout",
          "text": [
            "The addition of 5 and 15 results 20.\n"
          ]
        }
      ]
    },
    {
      "cell_type": "code",
      "source": [
        "add('Md', 'Azaz')"
      ],
      "metadata": {
        "colab": {
          "base_uri": "https://localhost:8080/",
          "height": 36
        },
        "id": "Fp3AkUSjaVQG",
        "outputId": "06dedc21-b7ca-4510-d83d-3200caf32e9a"
      },
      "execution_count": null,
      "outputs": [
        {
          "output_type": "execute_result",
          "data": {
            "text/plain": [
              "'MdAzaz'"
            ],
            "application/vnd.google.colaboratory.intrinsic+json": {
              "type": "string"
            }
          },
          "metadata": {},
          "execution_count": 4
        }
      ]
    },
    {
      "cell_type": "code",
      "source": [
        "iterator_value = 'Hi Everyone'\n",
        "iterable_obj = iter(iterator_value)\n",
        "\n",
        "while True:\n",
        "  item = next(iterable_obj)\n",
        "  print(item)"
      ],
      "metadata": {
        "colab": {
          "base_uri": "https://localhost:8080/",
          "height": 418
        },
        "id": "kOemYyg9w6rl",
        "outputId": "c925279f-e38d-4caf-93b8-86584c4033a7"
      },
      "execution_count": 2,
      "outputs": [
        {
          "output_type": "stream",
          "name": "stdout",
          "text": [
            "H\n",
            "i\n",
            " \n",
            "E\n",
            "v\n",
            "e\n",
            "r\n",
            "y\n",
            "o\n",
            "n\n",
            "e\n"
          ]
        },
        {
          "output_type": "error",
          "ename": "StopIteration",
          "evalue": "",
          "traceback": [
            "\u001b[0;31m---------------------------------------------------------------------------\u001b[0m",
            "\u001b[0;31mStopIteration\u001b[0m                             Traceback (most recent call last)",
            "\u001b[0;32m<ipython-input-2-c7139e63b66e>\u001b[0m in \u001b[0;36m<cell line: 4>\u001b[0;34m()\u001b[0m\n\u001b[1;32m      3\u001b[0m \u001b[0;34m\u001b[0m\u001b[0m\n\u001b[1;32m      4\u001b[0m \u001b[0;32mwhile\u001b[0m \u001b[0;32mTrue\u001b[0m\u001b[0;34m:\u001b[0m\u001b[0;34m\u001b[0m\u001b[0;34m\u001b[0m\u001b[0m\n\u001b[0;32m----> 5\u001b[0;31m   \u001b[0mitem\u001b[0m \u001b[0;34m=\u001b[0m \u001b[0mnext\u001b[0m\u001b[0;34m(\u001b[0m\u001b[0miterable_obj\u001b[0m\u001b[0;34m)\u001b[0m\u001b[0;34m\u001b[0m\u001b[0;34m\u001b[0m\u001b[0m\n\u001b[0m\u001b[1;32m      6\u001b[0m   \u001b[0mprint\u001b[0m\u001b[0;34m(\u001b[0m\u001b[0mitem\u001b[0m\u001b[0;34m)\u001b[0m\u001b[0;34m\u001b[0m\u001b[0;34m\u001b[0m\u001b[0m\n",
            "\u001b[0;31mStopIteration\u001b[0m: "
          ]
        }
      ]
    },
    {
      "cell_type": "code",
      "source": [
        "mytuple = (\"apple\", \"banana\", \"cherry\")\n",
        "my_it = iter(mytuple)"
      ],
      "metadata": {
        "id": "hxmsWbz0xbp-"
      },
      "execution_count": 3,
      "outputs": []
    },
    {
      "cell_type": "code",
      "source": [
        "next(my_it)"
      ],
      "metadata": {
        "colab": {
          "base_uri": "https://localhost:8080/",
          "height": 36
        },
        "id": "LOhGWGLWxe5e",
        "outputId": "99a0dbb9-f962-4470-88b4-3f16a4731909"
      },
      "execution_count": 4,
      "outputs": [
        {
          "output_type": "execute_result",
          "data": {
            "text/plain": [
              "'apple'"
            ],
            "application/vnd.google.colaboratory.intrinsic+json": {
              "type": "string"
            }
          },
          "metadata": {},
          "execution_count": 4
        }
      ]
    },
    {
      "cell_type": "code",
      "source": [
        "mystr = \"PWSkills\"\n",
        "myit = iter(mystr)\n",
        "\n",
        "print(next(myit))\n",
        "print(next(myit))\n",
        "print(next(myit))\n",
        "print(next(myit))\n",
        "print(next(myit))\n",
        "print(next(myit))\n",
        "print(next(myit))\n",
        "print(next(myit))\n",
        "print(next(myit))"
      ],
      "metadata": {
        "colab": {
          "base_uri": "https://localhost:8080/",
          "height": 349
        },
        "id": "zLjtYnOixl8g",
        "outputId": "1b308f58-070f-46c8-dd65-35813008515e"
      },
      "execution_count": 5,
      "outputs": [
        {
          "output_type": "stream",
          "name": "stdout",
          "text": [
            "P\n",
            "W\n",
            "S\n",
            "k\n",
            "i\n",
            "l\n",
            "l\n",
            "s\n"
          ]
        },
        {
          "output_type": "error",
          "ename": "StopIteration",
          "evalue": "",
          "traceback": [
            "\u001b[0;31m---------------------------------------------------------------------------\u001b[0m",
            "\u001b[0;31mStopIteration\u001b[0m                             Traceback (most recent call last)",
            "\u001b[0;32m<ipython-input-5-45905114234f>\u001b[0m in \u001b[0;36m<cell line: 12>\u001b[0;34m()\u001b[0m\n\u001b[1;32m     10\u001b[0m \u001b[0mprint\u001b[0m\u001b[0;34m(\u001b[0m\u001b[0mnext\u001b[0m\u001b[0;34m(\u001b[0m\u001b[0mmyit\u001b[0m\u001b[0;34m)\u001b[0m\u001b[0;34m)\u001b[0m\u001b[0;34m\u001b[0m\u001b[0;34m\u001b[0m\u001b[0m\n\u001b[1;32m     11\u001b[0m \u001b[0mprint\u001b[0m\u001b[0;34m(\u001b[0m\u001b[0mnext\u001b[0m\u001b[0;34m(\u001b[0m\u001b[0mmyit\u001b[0m\u001b[0;34m)\u001b[0m\u001b[0;34m)\u001b[0m\u001b[0;34m\u001b[0m\u001b[0;34m\u001b[0m\u001b[0m\n\u001b[0;32m---> 12\u001b[0;31m \u001b[0mprint\u001b[0m\u001b[0;34m(\u001b[0m\u001b[0mnext\u001b[0m\u001b[0;34m(\u001b[0m\u001b[0mmyit\u001b[0m\u001b[0;34m)\u001b[0m\u001b[0;34m)\u001b[0m\u001b[0;34m\u001b[0m\u001b[0;34m\u001b[0m\u001b[0m\n\u001b[0m",
            "\u001b[0;31mStopIteration\u001b[0m: "
          ]
        }
      ]
    },
    {
      "cell_type": "code",
      "source": [
        "name  = \"md azaz\"\n",
        "it = iter(name)"
      ],
      "metadata": {
        "id": "ySNNFSiAxwv7"
      },
      "execution_count": 7,
      "outputs": []
    },
    {
      "cell_type": "code",
      "source": [
        "while True:\n",
        "  try:\n",
        "    item = next(it)\n",
        "    print(item)\n",
        "  except StopIteration:\n",
        "    break\n",
        "\n"
      ],
      "metadata": {
        "colab": {
          "base_uri": "https://localhost:8080/"
        },
        "id": "GInPYosTxu8n",
        "outputId": "6fda07d3-950c-4043-e963-d147d77f786a"
      },
      "execution_count": 8,
      "outputs": [
        {
          "output_type": "stream",
          "name": "stdout",
          "text": [
            "m\n",
            "d\n",
            " \n",
            "a\n",
            "z\n",
            "a\n",
            "z\n"
          ]
        }
      ]
    },
    {
      "cell_type": "code",
      "source": [
        "def find_power(number, power):\n",
        "    \"\"\"This function returns the power of the number\n",
        "\n",
        "    Args:\n",
        "        number (int): insert any integer value\n",
        "        power (int): insert any integer value\n",
        "\n",
        "    Returns:\n",
        "        integer: power of number\n",
        "    \"\"\"\n",
        "    return number**power\n",
        "\n",
        "number = 5\n",
        "power = 3\n",
        "result = find_power(number, power)\n",
        "\n",
        "print(f\"{number} to the power of {power} is {result}\")"
      ],
      "metadata": {
        "id": "tfHjiDvNziID"
      },
      "execution_count": null,
      "outputs": []
    },
    {
      "cell_type": "code",
      "source": [
        "result = lambda number , power : number ** power\n",
        "\n",
        "result(3 ,2)"
      ],
      "metadata": {
        "colab": {
          "base_uri": "https://localhost:8080/"
        },
        "id": "6UJkmRBNzjTO",
        "outputId": "d41f4241-2dbb-4600-8d33-95ec6989a18a"
      },
      "execution_count": 10,
      "outputs": [
        {
          "output_type": "execute_result",
          "data": {
            "text/plain": [
              "9"
            ]
          },
          "metadata": {},
          "execution_count": 10
        }
      ]
    },
    {
      "cell_type": "code",
      "source": [
        "is_even = lambda x : x%2 ==0\n",
        "is_even(8)"
      ],
      "metadata": {
        "colab": {
          "base_uri": "https://localhost:8080/"
        },
        "id": "eBeufmkr0O_0",
        "outputId": "d3b85e15-e931-4ac6-8ee0-a5c19c5e94b2"
      },
      "execution_count": 11,
      "outputs": [
        {
          "output_type": "execute_result",
          "data": {
            "text/plain": [
              "True"
            ]
          },
          "metadata": {},
          "execution_count": 11
        }
      ]
    },
    {
      "cell_type": "markdown",
      "source": [
        ".Multiple arguments to Lambda function:a and b are the arguments and a+b is the expression which gets evaluated and returned."
      ],
      "metadata": {
        "id": "qKlkMR0n0adu"
      }
    },
    {
      "cell_type": "code",
      "source": [
        "x = lambda a,b : a+b\n",
        "x(2,2)"
      ],
      "metadata": {
        "colab": {
          "base_uri": "https://localhost:8080/"
        },
        "id": "9SlamuEH0cYG",
        "outputId": "9f4fc76a-97a2-4262-b19c-bdaa1eab5a8b"
      },
      "execution_count": 12,
      "outputs": [
        {
          "output_type": "execute_result",
          "data": {
            "text/plain": [
              "4"
            ]
          },
          "metadata": {},
          "execution_count": 12
        }
      ]
    },
    {
      "cell_type": "code",
      "source": [
        "def table(x):\n",
        "  for i in range(1,11):\n",
        "    res = x * i\n",
        "    print(f\"{x} * {i} = {res}\")\n",
        "\n",
        "\n",
        "table(2)"
      ],
      "metadata": {
        "colab": {
          "base_uri": "https://localhost:8080/"
        },
        "id": "Fe1xmeC00_7s",
        "outputId": "92d7f183-b708-4513-e668-c7fee83b44af"
      },
      "execution_count": 14,
      "outputs": [
        {
          "output_type": "stream",
          "name": "stdout",
          "text": [
            "2 * 1 = 2\n",
            "2 * 2 = 4\n",
            "2 * 3 = 6\n",
            "2 * 4 = 8\n",
            "2 * 5 = 10\n",
            "2 * 6 = 12\n",
            "2 * 7 = 14\n",
            "2 * 8 = 16\n",
            "2 * 9 = 18\n",
            "2 * 10 = 20\n"
          ]
        }
      ]
    },
    {
      "cell_type": "code",
      "source": [
        "n = int(input(\"Enter the number?\"))\n",
        "b = lambda a :a * n\n",
        "for i in range(1,11):\n",
        "    print(n,\"X\",i,\"=\",b(i))"
      ],
      "metadata": {
        "colab": {
          "base_uri": "https://localhost:8080/"
        },
        "id": "zhWNz6gx1_Ha",
        "outputId": "b5473188-b8a9-482a-8f6f-b9eec2808c8f"
      },
      "execution_count": 15,
      "outputs": [
        {
          "output_type": "stream",
          "name": "stdout",
          "text": [
            "Enter the number?5\n",
            "5 X 1 = 5\n",
            "5 X 2 = 10\n",
            "5 X 3 = 15\n",
            "5 X 4 = 20\n",
            "5 X 5 = 25\n",
            "5 X 6 = 30\n",
            "5 X 7 = 35\n",
            "5 X 8 = 40\n",
            "5 X 9 = 45\n",
            "5 X 10 = 50\n"
          ]
        }
      ]
    },
    {
      "cell_type": "code",
      "source": [
        "x = lambda n : [f'{n} * {i}  = {n*i}' for i in range(1,11)]\n",
        "x(5)"
      ],
      "metadata": {
        "colab": {
          "base_uri": "https://localhost:8080/"
        },
        "id": "KUGdFnWA2RXj",
        "outputId": "4df3431b-35cb-4f44-8267-7f6b65eac4bc"
      },
      "execution_count": 18,
      "outputs": [
        {
          "output_type": "execute_result",
          "data": {
            "text/plain": [
              "['5 * 1  = 5',\n",
              " '5 * 2  = 10',\n",
              " '5 * 3  = 15',\n",
              " '5 * 4  = 20',\n",
              " '5 * 5  = 25',\n",
              " '5 * 6  = 30',\n",
              " '5 * 7  = 35',\n",
              " '5 * 8  = 40',\n",
              " '5 * 9  = 45',\n",
              " '5 * 10  = 50']"
            ]
          },
          "metadata": {},
          "execution_count": 18
        }
      ]
    },
    {
      "cell_type": "code",
      "source": [
        "s = lambda a, b, c : a+b+c\n",
        "s(2,3,4)"
      ],
      "metadata": {
        "colab": {
          "base_uri": "https://localhost:8080/"
        },
        "id": "K6f6LPxf26kI",
        "outputId": "39cd91fb-2474-4b77-cb39-0bcef159ab45"
      },
      "execution_count": 19,
      "outputs": [
        {
          "output_type": "execute_result",
          "data": {
            "text/plain": [
              "9"
            ]
          },
          "metadata": {},
          "execution_count": 19
        }
      ]
    },
    {
      "cell_type": "markdown",
      "source": [
        "Map function\n"
      ],
      "metadata": {
        "id": "sGFN5fLX3Dkv"
      }
    },
    {
      "cell_type": "markdown",
      "source": [
        "The map() function in Python is used to apply a specified function to each item in an iterable (like a list) and returns an iterator that yields the results. It's a way to efficiently perform operations on all elements of a sequence without using explicit loops."
      ],
      "metadata": {
        "id": "S5MxzHz_3V89"
      }
    },
    {
      "cell_type": "markdown",
      "source": [
        "map(function, iterable)\n",
        "\n",
        "function: A function that will be applied to each item of the iterable.\n",
        "iterable: An iterable (e.g., list, tuple, etc.) whose elements will be passed to the function one by one."
      ],
      "metadata": {
        "id": "xOhOd9El4GhX"
      }
    },
    {
      "cell_type": "code",
      "source": [
        "def square(x):\n",
        "    return x * x\n",
        "numbers = [1, 2, 3, 4, 5]\n",
        "\n",
        "square(numbers)"
      ],
      "metadata": {
        "colab": {
          "base_uri": "https://localhost:8080/",
          "height": 331
        },
        "id": "mrcGZovy4DX0",
        "outputId": "5fb9dee2-0d50-45a2-b891-24e7b3199e6a"
      },
      "execution_count": 20,
      "outputs": [
        {
          "output_type": "error",
          "ename": "TypeError",
          "evalue": "can't multiply sequence by non-int of type 'list'",
          "traceback": [
            "\u001b[0;31m---------------------------------------------------------------------------\u001b[0m",
            "\u001b[0;31mTypeError\u001b[0m                                 Traceback (most recent call last)",
            "\u001b[0;32m<ipython-input-20-8d757ed48b62>\u001b[0m in \u001b[0;36m<cell line: 5>\u001b[0;34m()\u001b[0m\n\u001b[1;32m      3\u001b[0m \u001b[0mnumbers\u001b[0m \u001b[0;34m=\u001b[0m \u001b[0;34m[\u001b[0m\u001b[0;36m1\u001b[0m\u001b[0;34m,\u001b[0m \u001b[0;36m2\u001b[0m\u001b[0;34m,\u001b[0m \u001b[0;36m3\u001b[0m\u001b[0;34m,\u001b[0m \u001b[0;36m4\u001b[0m\u001b[0;34m,\u001b[0m \u001b[0;36m5\u001b[0m\u001b[0;34m]\u001b[0m\u001b[0;34m\u001b[0m\u001b[0;34m\u001b[0m\u001b[0m\n\u001b[1;32m      4\u001b[0m \u001b[0;34m\u001b[0m\u001b[0m\n\u001b[0;32m----> 5\u001b[0;31m \u001b[0msquare\u001b[0m\u001b[0;34m(\u001b[0m\u001b[0mnumbers\u001b[0m\u001b[0;34m)\u001b[0m\u001b[0;34m\u001b[0m\u001b[0;34m\u001b[0m\u001b[0m\n\u001b[0m",
            "\u001b[0;32m<ipython-input-20-8d757ed48b62>\u001b[0m in \u001b[0;36msquare\u001b[0;34m(x)\u001b[0m\n\u001b[1;32m      1\u001b[0m \u001b[0;32mdef\u001b[0m \u001b[0msquare\u001b[0m\u001b[0;34m(\u001b[0m\u001b[0mx\u001b[0m\u001b[0;34m)\u001b[0m\u001b[0;34m:\u001b[0m\u001b[0;34m\u001b[0m\u001b[0;34m\u001b[0m\u001b[0m\n\u001b[0;32m----> 2\u001b[0;31m     \u001b[0;32mreturn\u001b[0m \u001b[0mx\u001b[0m \u001b[0;34m*\u001b[0m \u001b[0mx\u001b[0m\u001b[0;34m\u001b[0m\u001b[0;34m\u001b[0m\u001b[0m\n\u001b[0m\u001b[1;32m      3\u001b[0m \u001b[0mnumbers\u001b[0m \u001b[0;34m=\u001b[0m \u001b[0;34m[\u001b[0m\u001b[0;36m1\u001b[0m\u001b[0;34m,\u001b[0m \u001b[0;36m2\u001b[0m\u001b[0;34m,\u001b[0m \u001b[0;36m3\u001b[0m\u001b[0;34m,\u001b[0m \u001b[0;36m4\u001b[0m\u001b[0;34m,\u001b[0m \u001b[0;36m5\u001b[0m\u001b[0;34m]\u001b[0m\u001b[0;34m\u001b[0m\u001b[0;34m\u001b[0m\u001b[0m\n\u001b[1;32m      4\u001b[0m \u001b[0;34m\u001b[0m\u001b[0m\n\u001b[1;32m      5\u001b[0m \u001b[0msquare\u001b[0m\u001b[0;34m(\u001b[0m\u001b[0mnumbers\u001b[0m\u001b[0;34m)\u001b[0m\u001b[0;34m\u001b[0m\u001b[0;34m\u001b[0m\u001b[0m\n",
            "\u001b[0;31mTypeError\u001b[0m: can't multiply sequence by non-int of type 'list'"
          ]
        }
      ]
    },
    {
      "cell_type": "code",
      "source": [
        "numbers = [1, 2, 3, 4, 5]\n",
        "\n",
        "list(map(square , numbers))"
      ],
      "metadata": {
        "colab": {
          "base_uri": "https://localhost:8080/"
        },
        "id": "XPwx8UIi4JrZ",
        "outputId": "80bc7c83-1d9f-4fdf-8f74-c9852449a464"
      },
      "execution_count": 23,
      "outputs": [
        {
          "output_type": "execute_result",
          "data": {
            "text/plain": [
              "[1, 4, 9, 16, 25]"
            ]
          },
          "metadata": {},
          "execution_count": 23
        }
      ]
    },
    {
      "cell_type": "code",
      "source": [
        "numbers = [1, 2, 3, 4, 5]\n",
        "\n",
        "tuple(map(str, numbers))"
      ],
      "metadata": {
        "colab": {
          "base_uri": "https://localhost:8080/"
        },
        "id": "R3CuU1PY4o_c",
        "outputId": "ec53d78b-2bff-41d3-c063-f3bd7f9f37f2"
      },
      "execution_count": 24,
      "outputs": [
        {
          "output_type": "execute_result",
          "data": {
            "text/plain": [
              "('1', '2', '3', '4', '5')"
            ]
          },
          "metadata": {},
          "execution_count": 24
        }
      ]
    },
    {
      "cell_type": "code",
      "source": [
        "# Applying the built-in function 'len' to a list of strings\n",
        "words = ['apple', 'banana', 'orange', 'kiwi']\n",
        "list(map(len , words))\n",
        "\n"
      ],
      "metadata": {
        "colab": {
          "base_uri": "https://localhost:8080/"
        },
        "id": "EsnNLe3b4wOV",
        "outputId": "a6e0120d-26d6-49d6-dc11-8b6c038135c3"
      },
      "execution_count": 26,
      "outputs": [
        {
          "output_type": "execute_result",
          "data": {
            "text/plain": [
              "[5, 6, 6, 4]"
            ]
          },
          "metadata": {},
          "execution_count": 26
        }
      ]
    },
    {
      "cell_type": "code",
      "source": [
        "words = ['apple', 'banana', 'orange', 'kiwi']\n",
        "\n",
        "for i in words:\n",
        "  print(len(i))"
      ],
      "metadata": {
        "colab": {
          "base_uri": "https://localhost:8080/"
        },
        "id": "xPEEPzoe5JJ1",
        "outputId": "d208cfda-9238-474c-888e-9a8361ed8ab9"
      },
      "execution_count": 27,
      "outputs": [
        {
          "output_type": "stream",
          "name": "stdout",
          "text": [
            "5\n",
            "6\n",
            "6\n",
            "4\n"
          ]
        }
      ]
    },
    {
      "cell_type": "markdown",
      "source": [
        "Lambda with Map Syntax:\n",
        "\n",
        "map(lambda arguments: expression, iterable)"
      ],
      "metadata": {
        "id": "HtXwkGjO5nW-"
      }
    },
    {
      "cell_type": "code",
      "source": [
        "n = [2,11,5,7]\n",
        "print(list(map(lambda x : x>10 , n)))"
      ],
      "metadata": {
        "colab": {
          "base_uri": "https://localhost:8080/"
        },
        "id": "jyaL6XMI6MkS",
        "outputId": "a910f74d-afc1-48d9-96a9-8423de7adbe6"
      },
      "execution_count": 28,
      "outputs": [
        {
          "output_type": "stream",
          "name": "stdout",
          "text": [
            "[False, True, False, False]\n"
          ]
        }
      ]
    },
    {
      "cell_type": "code",
      "source": [
        "n = [2,11,5,7]\n",
        "print(list(map(lambda x : x**2 , n)))"
      ],
      "metadata": {
        "colab": {
          "base_uri": "https://localhost:8080/"
        },
        "id": "cdKcGxXM6a_H",
        "outputId": "316053e7-18e9-45ab-e5c8-6a159a8e7a11"
      },
      "execution_count": 29,
      "outputs": [
        {
          "output_type": "stream",
          "name": "stdout",
          "text": [
            "[4, 121, 25, 49]\n"
          ]
        }
      ]
    },
    {
      "cell_type": "markdown",
      "source": [
        "Create lambda function calculate the remainder after dividing each number by 2?"
      ],
      "metadata": {
        "id": "7h-O42tQ7FqD"
      }
    },
    {
      "cell_type": "code",
      "source": [
        "numbers_list = [2, 6, 8, 10, 11, 4, 12, 7, 13, 17, 0, 3, 21]\n",
        "print(list(map(lambda x: x%2, numbers_list)))"
      ],
      "metadata": {
        "colab": {
          "base_uri": "https://localhost:8080/"
        },
        "id": "vNLUVmHM7FJE",
        "outputId": "b7c924a7-5ae9-43ed-d788-b790f6aabee5"
      },
      "execution_count": 30,
      "outputs": [
        {
          "output_type": "stream",
          "name": "stdout",
          "text": [
            "[0, 0, 0, 0, 1, 0, 0, 1, 1, 1, 0, 1, 1]\n"
          ]
        }
      ]
    },
    {
      "cell_type": "code",
      "source": [
        "list_a = [1, 2, 3]\n",
        "list_b = [10, 20, 30]\n",
        "list_a + list_b"
      ],
      "metadata": {
        "colab": {
          "base_uri": "https://localhost:8080/"
        },
        "id": "4IGwjmBZ7cu_",
        "outputId": "1ffe7523-0668-45ce-f6ed-e79f8fd00959"
      },
      "execution_count": 33,
      "outputs": [
        {
          "output_type": "execute_result",
          "data": {
            "text/plain": [
              "[1, 2, 3, 10, 20, 30]"
            ]
          },
          "metadata": {},
          "execution_count": 33
        }
      ]
    },
    {
      "cell_type": "code",
      "source": [
        "print(list(map(lambda x, y : x+y, list_a, list_b)))"
      ],
      "metadata": {
        "colab": {
          "base_uri": "https://localhost:8080/"
        },
        "id": "kjRYwxrm7ejo",
        "outputId": "40886bff-a861-4e91-8c05-2ee8af311e06"
      },
      "execution_count": 34,
      "outputs": [
        {
          "output_type": "stream",
          "name": "stdout",
          "text": [
            "[11, 22, 33]\n"
          ]
        }
      ]
    },
    {
      "cell_type": "markdown",
      "source": [
        "Filter Function\n",
        "\n",
        "The filter() function in Python is used to construct an iterator from elements of an iterable (such as a list) for which a specified function returns True. It's an elegant way to filter elements based on a given condition.\n",
        "\n",
        "Filter Function syntax:"
      ],
      "metadata": {
        "id": "h-B7mMdT8TmQ"
      }
    },
    {
      "cell_type": "code",
      "source": [
        "def is_even(num):\n",
        "    return num % 2 == 0\n",
        "\n",
        "numbers = [1, 2, 3, 4, 5, 6, 7, 8, 9, 10]"
      ],
      "metadata": {
        "id": "o7O11hwb8REz"
      },
      "execution_count": 37,
      "outputs": []
    },
    {
      "cell_type": "code",
      "source": [
        "for i in numbers:\n",
        "  result = is_even(i)\n",
        "  if result == True:\n",
        "    print(i)"
      ],
      "metadata": {
        "colab": {
          "base_uri": "https://localhost:8080/"
        },
        "id": "hN80dMra8OgF",
        "outputId": "6560fcde-65fc-4e0e-8994-ac10bbf5e77f"
      },
      "execution_count": 38,
      "outputs": [
        {
          "output_type": "stream",
          "name": "stdout",
          "text": [
            "2\n",
            "4\n",
            "6\n",
            "8\n",
            "10\n"
          ]
        }
      ]
    },
    {
      "cell_type": "code",
      "source": [
        "list(filter(is_even , numbers))"
      ],
      "metadata": {
        "colab": {
          "base_uri": "https://localhost:8080/"
        },
        "id": "i3CP7_iw8abg",
        "outputId": "d0f7a197-59e3-46f0-d03b-fc8838178e71"
      },
      "execution_count": 39,
      "outputs": [
        {
          "output_type": "execute_result",
          "data": {
            "text/plain": [
              "[2, 4, 6, 8, 10]"
            ]
          },
          "metadata": {},
          "execution_count": 39
        }
      ]
    },
    {
      "cell_type": "code",
      "source": [
        "# List of strings\n",
        "l = ['sat', 'bat', 'cat', 'mat']\n",
        "\n",
        "# map() can listify the list of strings individually\n",
        "test = list(map(list, l))\n",
        "print(test)"
      ],
      "metadata": {
        "colab": {
          "base_uri": "https://localhost:8080/"
        },
        "id": "_I90THxp815z",
        "outputId": "3d54f022-3561-443e-b35a-4e1829437c08"
      },
      "execution_count": 40,
      "outputs": [
        {
          "output_type": "stream",
          "name": "stdout",
          "text": [
            "[['s', 'a', 't'], ['b', 'a', 't'], ['c', 'a', 't'], ['m', 'a', 't']]\n"
          ]
        }
      ]
    },
    {
      "cell_type": "code",
      "source": [
        "list('abc')"
      ],
      "metadata": {
        "colab": {
          "base_uri": "https://localhost:8080/"
        },
        "id": "LrrVwVoR9JwW",
        "outputId": "767ef3f5-c82e-43f6-a84c-0418b49f360c"
      },
      "execution_count": 41,
      "outputs": [
        {
          "output_type": "execute_result",
          "data": {
            "text/plain": [
              "['a', 'b', 'c']"
            ]
          },
          "metadata": {},
          "execution_count": 41
        }
      ]
    },
    {
      "cell_type": "code",
      "source": [
        "words = ['apple', 'banana', 'orange', 'kiwi', 'pineapple']\n",
        "\n",
        "def filter_by_length(word):\n",
        "    return len(word) > 5\n",
        "\n",
        "filtered_words = filter(filter_by_length, words)\n",
        "print(list(filtered_words))"
      ],
      "metadata": {
        "colab": {
          "base_uri": "https://localhost:8080/"
        },
        "id": "d-loKaLH9PFt",
        "outputId": "aba0462a-0c32-4b43-8367-9bda6d08da23"
      },
      "execution_count": 42,
      "outputs": [
        {
          "output_type": "stream",
          "name": "stdout",
          "text": [
            "['banana', 'orange', 'pineapple']\n"
          ]
        }
      ]
    },
    {
      "cell_type": "code",
      "source": [
        "numbers = [1, 2, 3, 4, 5, 6, 7, 8, 9, 10]\n",
        "print(list(filter(lambda x : x>5 , numbers)))"
      ],
      "metadata": {
        "colab": {
          "base_uri": "https://localhost:8080/"
        },
        "id": "mjGqIqj69Ztp",
        "outputId": "23ee0d5d-3124-4386-e92f-9a3791e40a11"
      },
      "execution_count": 43,
      "outputs": [
        {
          "output_type": "stream",
          "name": "stdout",
          "text": [
            "[6, 7, 8, 9, 10]\n"
          ]
        }
      ]
    },
    {
      "cell_type": "markdown",
      "source": [
        "Reduce Function\n",
        "\n",
        "The reduce() function, previously part of the core Python functools module (now in the functools submodule for Python 3 onwards), is used to perform a repetitive operation on a sequence of elements until only one value remains. The function accumulates the results of a binary function (that takes two arguments) as it traverses the sequence from left to right.\n",
        "\n",
        "Reduce Function Syntax:"
      ],
      "metadata": {
        "id": "Ei7UuvnWB-tF"
      }
    },
    {
      "cell_type": "code",
      "source": [
        "from functools import reduce\n",
        "def find_max(x, y):\n",
        "    return x if x > y else y"
      ],
      "metadata": {
        "id": "ecspRy5OCA9L"
      },
      "execution_count": 47,
      "outputs": []
    },
    {
      "cell_type": "code",
      "source": [
        "numbers = [3, 7, 2, 9, 1, 4, 6]\n",
        "print(reduce(find_max, numbers))"
      ],
      "metadata": {
        "colab": {
          "base_uri": "https://localhost:8080/"
        },
        "id": "Ied0CSfFCPMN",
        "outputId": "018f44d7-5353-40d7-b481-9b3209fe2394"
      },
      "execution_count": 46,
      "outputs": [
        {
          "output_type": "stream",
          "name": "stdout",
          "text": [
            "9\n"
          ]
        }
      ]
    },
    {
      "cell_type": "code",
      "source": [
        "numbers = [3, 7, 2, 9, 1, 4, 6]\n",
        "\n",
        "reduce(lambda x, y: x * y, numbers)"
      ],
      "metadata": {
        "colab": {
          "base_uri": "https://localhost:8080/"
        },
        "id": "NpPriGySCfeJ",
        "outputId": "29c09d18-bf90-4324-b455-46939ac217ef"
      },
      "execution_count": 48,
      "outputs": [
        {
          "output_type": "execute_result",
          "data": {
            "text/plain": [
              "9072"
            ]
          },
          "metadata": {},
          "execution_count": 48
        }
      ]
    },
    {
      "cell_type": "code",
      "source": [
        "from itertools import accumulate"
      ],
      "metadata": {
        "id": "EZO22aOGCtrt"
      },
      "execution_count": 49,
      "outputs": []
    },
    {
      "cell_type": "code",
      "source": [
        "list(accumulate(numbers, lambda x, y: x * y))"
      ],
      "metadata": {
        "colab": {
          "base_uri": "https://localhost:8080/"
        },
        "id": "JKmZPNMUCvm_",
        "outputId": "bac30354-1593-4c47-d30a-ba73e1e8d9b6"
      },
      "execution_count": 50,
      "outputs": [
        {
          "output_type": "execute_result",
          "data": {
            "text/plain": [
              "[3, 21, 42, 378, 378, 1512, 9072]"
            ]
          },
          "metadata": {},
          "execution_count": 50
        }
      ]
    }
  ]
}
