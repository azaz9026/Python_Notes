{
 "cells": [
  {
   "cell_type": "code",
   "execution_count": 5,
   "metadata": {},
   "outputs": [
    {
     "data": {
      "text/plain": [
       "2"
      ]
     },
     "execution_count": 5,
     "metadata": {},
     "output_type": "execute_result"
    }
   ],
   "source": [
    "num = input(\"Enter the number : \")"
   ]
  },
  {
   "cell_type": "code",
   "execution_count": 7,
   "metadata": {},
   "outputs": [
    {
     "data": {
      "text/plain": [
       "4"
      ]
     },
     "execution_count": 7,
     "metadata": {},
     "output_type": "execute_result"
    }
   ],
   "source": [
    "result = num**2\n",
    "result"
   ]
  },
  {
   "cell_type": "code",
   "execution_count": 14,
   "metadata": {},
   "outputs": [
    {
     "name": "stdout",
     "output_type": "stream",
     "text": [
      "The square of the number is 484\n",
      "This is the final block\n"
     ]
    }
   ],
   "source": [
    "try:\n",
    "    num = int(input('Enter yhe number :- '))\n",
    "except Exception as e:\n",
    "    print( f'Error :-  {e} ' )\n",
    "else:\n",
    "    result = num**2\n",
    "    print( f'The square of the number is {result}' )\n",
    "finally:\n",
    "    del(num)\n",
    "    del(result)\n",
    "    print( 'This is the final block' )"
   ]
  },
  {
   "cell_type": "code",
   "execution_count": 24,
   "metadata": {},
   "outputs": [],
   "source": [
    "# OOPs\n",
    "\n",
    "class Iphone:\n",
    "    def __init__(self , iphone_model , RAM , Space , Camera):\n",
    "        self.iphone_model = iphone_model\n",
    "        self.RAM = RAM \n",
    "        self.Space = Space \n",
    "        self.Camera = Camera\n",
    "\n",
    "    def home(self):\n",
    "        print('Home Screen')\n",
    "    \n",
    "    def browsing(self):\n",
    "        print('Browser')\n",
    "\n",
    "\n",
    "\n"
   ]
  },
  {
   "cell_type": "code",
   "execution_count": 25,
   "metadata": {},
   "outputs": [],
   "source": [
    "iphone_1 = Iphone('15' , 12 , 128 , 20)\n",
    "iphone_2 = Iphone('15 Pro Max' , 12 , 128 , 25)\n"
   ]
  },
  {
   "cell_type": "code",
   "execution_count": null,
   "metadata": {},
   "outputs": [],
   "source": []
  }
 ],
 "metadata": {
  "kernelspec": {
   "display_name": "Python 3",
   "language": "python",
   "name": "python3"
  },
  "language_info": {
   "codemirror_mode": {
    "name": "ipython",
    "version": 3
   },
   "file_extension": ".py",
   "mimetype": "text/x-python",
   "name": "python",
   "nbconvert_exporter": "python",
   "pygments_lexer": "ipython3",
   "version": "3.10.7"
  }
 },
 "nbformat": 4,
 "nbformat_minor": 2
}
