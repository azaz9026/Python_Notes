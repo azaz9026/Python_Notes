{
 "cells": [
  {
   "cell_type": "markdown",
   "metadata": {},
   "source": [
    "# Assignments"
   ]
  },
  {
   "cell_type": "markdown",
   "metadata": {},
   "source": [
    "# Question 1.3.\n",
    "name = [\"Mohan\", \"dash\", \"karam\", \"chandra\",\"gandhi\",\"Bapu\"]\n",
    "\n",
    "do the following operations in this list;"
   ]
  },
  {
   "cell_type": "code",
   "execution_count": 1,
   "metadata": {},
   "outputs": [],
   "source": [
    "name = [\"Mohan\", \"dash\", \"karam\", \"chandra\", \"gandhi\", \"Bapu\"]"
   ]
  },
  {
   "cell_type": "markdown",
   "metadata": {},
   "source": [
    "a) Add an element \"freedom_fighter\" in this list at the 0th index."
   ]
  },
  {
   "cell_type": "code",
   "execution_count": 2,
   "metadata": {},
   "outputs": [
    {
     "name": "stdout",
     "output_type": "stream",
     "text": [
      "['freedom_fighter', 'Mohan', 'dash', 'karam', 'chandra', 'gandhi', 'Bapu']\n"
     ]
    }
   ],
   "source": [
    "name.insert(0, \"freedom_fighter\")\n",
    "print(name)  # Output: ['freedom_fighter', 'Mohan', 'dash', 'karam', 'chandra', 'gandhi', 'Bapu']\n"
   ]
  },
  {
   "cell_type": "markdown",
   "metadata": {},
   "source": [
    "b) Calculate the value of length1 + length2"
   ]
  },
  {
   "cell_type": "code",
   "execution_count": 3,
   "metadata": {},
   "outputs": [
    {
     "name": "stdout",
     "output_type": "stream",
     "text": [
      "8\n"
     ]
    }
   ],
   "source": [
    "# Given list after modification from part a\n",
    "name = [\"freedom_fighter\", \"Mohan\", \"dash\", \"karam\", \"chandra\", \"gandhi\", \"Bapu\"]\n",
    "\n",
    "length1 = len(name[-len(name)+1:-1:2])\n",
    "length2 = len(name[-len(name)+1:-1])\n",
    "\n",
    "print(length1 + length2)  # Output: 3 + 6 = 9\n"
   ]
  },
  {
   "cell_type": "markdown",
   "metadata": {},
   "source": [
    "c) Add two more elements in the list [\"NetaJi\", \"Bose\"] at the end of the list."
   ]
  },
  {
   "cell_type": "code",
   "execution_count": 4,
   "metadata": {},
   "outputs": [
    {
     "name": "stdout",
     "output_type": "stream",
     "text": [
      "['freedom_fighter', 'Mohan', 'dash', 'karam', 'chandra', 'gandhi', 'Bapu', 'NetaJi', 'Bose']\n"
     ]
    }
   ],
   "source": [
    "name.extend([\"NetaJi\", \"Bose\"])\n",
    "print(name)  # Output: ['freedom_fighter', 'Mohan', 'dash', 'karam', 'chandra', 'gandhi', 'Bapu', 'NetaJi', 'Bose']\n"
   ]
  },
  {
   "cell_type": "markdown",
   "metadata": {},
   "source": [
    "d) Swap the first and last elements in the list and print the modified list."
   ]
  },
  {
   "cell_type": "code",
   "execution_count": 5,
   "metadata": {},
   "outputs": [
    {
     "name": "stdout",
     "output_type": "stream",
     "text": [
      "['Mohan', 'dash', 'karam', 'chandra', 'gandhi', 'Bapuji']\n"
     ]
    }
   ],
   "source": [
    "name = [\"Bapuji\", \"dash\", \"karam\", \"chandra\", \"gandhi\", \"Mohan\"]\n",
    "temp = name[-1]\n",
    "name[-1] = name[0]\n",
    "name[0] = temp\n",
    "print(name)  # Output: ['Mohan', 'dash', 'karam', 'chandra', 'gandhi', 'Bapuji']\n"
   ]
  },
  {
   "cell_type": "markdown",
   "metadata": {},
   "source": [
    "Final Code with All Operations\n",
    "Here's the complete code with all the operations combined:"
   ]
  },
  {
   "cell_type": "code",
   "execution_count": 6,
   "metadata": {},
   "outputs": [
    {
     "name": "stdout",
     "output_type": "stream",
     "text": [
      "['freedom_fighter', 'Mohan', 'dash', 'karam', 'chandra', 'gandhi', 'Bapu']\n",
      "8\n",
      "['freedom_fighter', 'Mohan', 'dash', 'karam', 'chandra', 'gandhi', 'Bapu', 'NetaJi', 'Bose']\n",
      "['Mohan', 'dash', 'karam', 'chandra', 'gandhi', 'Bapuji']\n"
     ]
    }
   ],
   "source": [
    "# Initial list\n",
    "name = [\"Mohan\", \"dash\", \"karam\", \"chandra\", \"gandhi\", \"Bapu\"]\n",
    "\n",
    "# a) Add \"freedom_fighter\" at the 0th index\n",
    "name.insert(0, \"freedom_fighter\")\n",
    "print(name)  # Output: ['freedom_fighter', 'Mohan', 'dash', 'karam', 'chandra', 'gandhi', 'Bapu']\n",
    "\n",
    "# b) Calculate the value of length1 + length2\n",
    "length1 = len(name[-len(name)+1:-1:2])\n",
    "length2 = len(name[-len(name)+1:-1])\n",
    "print(length1 + length2)  # Output: 9\n",
    "\n",
    "# c) Add [\"NetaJi\", \"Bose\"] at the end of the list\n",
    "name.extend([\"NetaJi\", \"Bose\"])\n",
    "print(name)  # Output: ['freedom_fighter', 'Mohan', 'dash', 'karam', 'chandra', 'gandhi', 'Bapu', 'NetaJi', 'Bose']\n",
    "\n",
    "# d) Swap the first and last elements in the list and print the modified list\n",
    "name = [\"Bapuji\", \"dash\", \"karam\", \"chandra\", \"gandhi\", \"Mohan\"]\n",
    "temp = name[-1]\n",
    "name[-1] = name[0]\n",
    "name[0] = temp\n",
    "print(name)  # Output: ['Mohan', 'dash', 'karam', 'chandra', 'gandhi', 'Bapuji']\n"
   ]
  },
  {
   "cell_type": "markdown",
   "metadata": {},
   "source": [
    "# Question 1.4.\n",
    "\n",
    "Find the output of the following.\n",
    "\n",
    "animal = ['Human','cat','mat','cat','rat','Human', 'Lion']\n",
    "\n",
    "print(animal.count('Human'))\n",
    "\n",
    "print(animal.index('rat'))\n",
    "\n",
    "print(len(animal))"
   ]
  },
  {
   "cell_type": "code",
   "execution_count": 7,
   "metadata": {},
   "outputs": [],
   "source": [
    "animal = ['Human', 'cat', 'mat', 'cat', 'rat', 'Human', 'Lion']\n"
   ]
  },
  {
   "cell_type": "markdown",
   "metadata": {},
   "source": [
    "Operations and Outputs\n",
    "\n",
    "Count the occurrences of 'Human'"
   ]
  },
  {
   "cell_type": "code",
   "execution_count": 11,
   "metadata": {},
   "outputs": [
    {
     "name": "stdout",
     "output_type": "stream",
     "text": [
      "2\n"
     ]
    }
   ],
   "source": [
    "print(animal.count('Human'))"
   ]
  },
  {
   "cell_type": "code",
   "execution_count": 9,
   "metadata": {},
   "outputs": [
    {
     "name": "stdout",
     "output_type": "stream",
     "text": [
      "4\n"
     ]
    }
   ],
   "source": [
    "print(animal.index('rat'))"
   ]
  },
  {
   "cell_type": "code",
   "execution_count": 10,
   "metadata": {},
   "outputs": [
    {
     "name": "stdout",
     "output_type": "stream",
     "text": [
      "7\n"
     ]
    }
   ],
   "source": [
    "print(len(animal))"
   ]
  },
  {
   "cell_type": "markdown",
   "metadata": {},
   "source": [
    "Summary of Outputs\n",
    "\n",
    "print(animal.count('Human')) → 2\n",
    "print(animal.index('rat')) → 4\n",
    "print(len(animal)) → 7\n",
    "\n",
    "Here is the complete code snippet with the outputs:"
   ]
  },
  {
   "cell_type": "code",
   "execution_count": 12,
   "metadata": {},
   "outputs": [
    {
     "name": "stdout",
     "output_type": "stream",
     "text": [
      "2\n",
      "4\n",
      "7\n"
     ]
    }
   ],
   "source": [
    "animal = ['Human', 'cat', 'mat', 'cat', 'rat', 'Human', 'Lion']\n",
    "print(animal.count('Human'))  # Output: 2\n",
    "print(animal.index('rat'))    # Output: 4\n",
    "print(len(animal))            # Output: 7"
   ]
  },
  {
   "cell_type": "markdown",
   "metadata": {},
   "source": [
    "# Question 1.5. \n",
    "\n",
    "tuple1=(10,20,\"Apple\",3.4,'a',[\"master\",\"ji\"],(\"sita\",\"geeta\",22),[{\"roll_no\"N1},\n",
    "\n",
    "{\"name\"N\"Navneet\"}])"
   ]
  },
  {
   "cell_type": "markdown",
   "metadata": {},
   "source": [
    "Given Tuple"
   ]
  },
  {
   "cell_type": "code",
   "execution_count": 17,
   "metadata": {},
   "outputs": [],
   "source": [
    "tuple1 = (\n",
    "    10, 20, \"Apple\", 3.4, 'a',\n",
    "    [\"master\", \"ji\"],\n",
    "    (\"sita\", \"geeta\", 22),\n",
    "    [{\"roll_no\": \"N1\"}, {\"name\": \"Navneet\"}]\n",
    ")"
   ]
  },
  {
   "cell_type": "code",
   "execution_count": 20,
   "metadata": {},
   "outputs": [
    {
     "name": "stdout",
     "output_type": "stream",
     "text": [
      "8\n",
      "Navneet\n",
      "N1\n",
      "ji\n"
     ]
    },
    {
     "ename": "IndexError",
     "evalue": "list index out of range",
     "output_type": "error",
     "traceback": [
      "\u001b[1;31m---------------------------------------------------------------------------\u001b[0m",
      "\u001b[1;31mIndexError\u001b[0m                                Traceback (most recent call last)",
      "Cell \u001b[1;32mIn[20], line 22\u001b[0m\n\u001b[0;32m     19\u001b[0m \u001b[38;5;28mprint\u001b[39m(tuple1[\u001b[38;5;241m-\u001b[39m\u001b[38;5;241m3\u001b[39m][\u001b[38;5;241m1\u001b[39m])  \u001b[38;5;66;03m# Output: geeta\u001b[39;00m\n\u001b[0;32m     21\u001b[0m \u001b[38;5;66;03m# e) Fetch the element \"22\" from this tuple\u001b[39;00m\n\u001b[1;32m---> 22\u001b[0m element_22 \u001b[38;5;241m=\u001b[39m \u001b[43mtuple1\u001b[49m\u001b[43m[\u001b[49m\u001b[38;5;241;43m-\u001b[39;49m\u001b[38;5;241;43m3\u001b[39;49m\u001b[43m]\u001b[49m\u001b[43m[\u001b[49m\u001b[38;5;241;43m2\u001b[39;49m\u001b[43m]\u001b[49m\n\u001b[0;32m     23\u001b[0m \u001b[38;5;28mprint\u001b[39m(element_22)  \u001b[38;5;66;03m# Output: 22\u001b[39;00m\n",
      "\u001b[1;31mIndexError\u001b[0m: list index out of range"
     ]
    }
   ],
   "source": [
    "tuple1 = (\n",
    "    10, 20, \"Apple\", 3.4, 'a',\n",
    "    [\"master\", \"ji\"],\n",
    "    (\"sita\", \"geeta\", 22),\n",
    "    [{\"roll_no\": \"N1\"}, {\"name\": \"Navneet\"}]\n",
    ")\n",
    "\n",
    "# a) Print the length of the tuple\n",
    "print(len(tuple1))  # Output: 8\n",
    "\n",
    "# b) Print the value associated with the key \"name\" in the last element of the tuple\n",
    "print(tuple1[-1][-1][\"name\"])  # Output: Navneet\n",
    "\n",
    "# c) Fetch the value of \"roll_no\" from this tuple\n",
    "roll_no_value = tuple1[-1][0][\"roll_no\"]\n",
    "print(roll_no_value)  # Output: N1\n",
    "\n",
    "# d) Print the second element of the second-to-last element in the tuple\n",
    "print(tuple1[-3][1])  # Output: geeta\n",
    "\n",
    "# e) Fetch the element \"22\" from this tuple\n",
    "element_22 = tuple1[-3][2]\n",
    "print(element_22)  # Output: 22\n"
   ]
  },
  {
   "cell_type": "markdown",
   "metadata": {},
   "source": [
    "***1.6. Write a program to display the appropriate message as per the color of signal(RED-Stop/Yellow-Stay/\n",
    "Green-Go) at the road crossing.***"
   ]
  },
  {
   "cell_type": "code",
   "execution_count": 21,
   "metadata": {},
   "outputs": [],
   "source": [
    "def traffic_signal_message(color):\n",
    "    color = color.lower()\n",
    "    if color == 'red':\n",
    "        return \"RED - Stop\"\n",
    "    elif color == 'yellow':\n",
    "        return \"YELLOW - Stay\"\n",
    "    elif color == 'green':\n",
    "        return \"GREEN - Go\"\n",
    "    else:\n",
    "        return \"Invalid color. Please enter RED, YELLOW, or GREEN.\"\n",
    "\n",
    "# Example usage:\n",
    "signal_color = input(\"Enter the traffic signal color (RED/YELLOW/GREEN): \")\n",
    "message = traffic_signal_message(signal_color)\n",
    "print(message)\n"
   ]
  },
  {
   "cell_type": "markdown",
   "metadata": {},
   "source": [
    "***1.7. Write a program to create a simple calculator performing only four basic operations(+,-,/,*)***"
   ]
  },
  {
   "cell_type": "code",
   "execution_count": 3,
   "metadata": {},
   "outputs": [
    {
     "name": "stdout",
     "output_type": "stream",
     "text": [
      "Result: Invalid operator\n"
     ]
    }
   ],
   "source": [
    "def calculator(num1, num2, operator):\n",
    "    if operator == '+':\n",
    "        return num1 + num2\n",
    "    elif operator == '-':\n",
    "        return num1 - num2\n",
    "    elif operator == '*':\n",
    "        return num1 * num2\n",
    "    elif operator == '/':\n",
    "        if num2 != 0:\n",
    "            return num1 / num2\n",
    "        else:\n",
    "            return \"Error: Division by zero\"\n",
    "    else:\n",
    "        return \"Invalid operator\"\n",
    "\n",
    "# Example usage:\n",
    "num1 = float(input(\"Enter the first number: \"))\n",
    "num2 = float(input(\"Enter the second number: \"))\n",
    "op = input(\"Enter the operator (+, -, *, /): \")\n",
    "\n",
    "result = calculator(num1, num2, op)\n",
    "print(f\"Result: {result}\")\n"
   ]
  },
  {
   "cell_type": "markdown",
   "metadata": {},
   "source": [
    "***1.8. Write a program to find the larger of the three pre-specified numbers using ternary operators.***"
   ]
  },
  {
   "cell_type": "code",
   "execution_count": 6,
   "metadata": {},
   "outputs": [
    {
     "name": "stdout",
     "output_type": "stream",
     "text": [
      "The largest number is: 30\n"
     ]
    }
   ],
   "source": [
    "# Pre-specified numbers\n",
    "num1 = 20\n",
    "num2 = 30\n",
    "num3 = 15\n",
    "\n",
    "largest = num1 if (num1 > num2 and num1 > num3) else (num2 if (num2 > num3) else num3)\n",
    "print(f\"The largest number is: {largest}\")\n"
   ]
  },
  {
   "cell_type": "markdown",
   "metadata": {},
   "source": [
    "***1.9. Write a program to find the factors of a whole number using a while loop.***"
   ]
  },
  {
   "cell_type": "code",
   "execution_count": 4,
   "metadata": {},
   "outputs": [
    {
     "name": "stdout",
     "output_type": "stream",
     "text": [
      "The factors of 5 are: [1, 5]\n"
     ]
    }
   ],
   "source": [
    "def find_factors(number):\n",
    "    factors = []\n",
    "    divisor = 1\n",
    "    while divisor <= number:\n",
    "        if number % divisor == 0:\n",
    "            factors.append(divisor)\n",
    "        divisor += 1\n",
    "    return factors\n",
    "\n",
    "# Example usage:\n",
    "number = int(input(\"Enter a whole number: \"))\n",
    "if number <= 0:\n",
    "    print(\"Please enter a positive integer.\")\n",
    "else:\n",
    "    print(f\"The factors of {number} are: {find_factors(number)}\")\n"
   ]
  },
  {
   "cell_type": "markdown",
   "metadata": {},
   "source": [
    "***1.10. Write a program to find the sum of all the positive numbers entered by the user. As soon as the user\n",
    "enters a negative number, stop taking in any further input from the user and display the sum .***"
   ]
  },
  {
   "cell_type": "code",
   "execution_count": 7,
   "metadata": {},
   "outputs": [],
   "source": [
    "total_sum = 0\n",
    "while True:\n",
    "    num = float(input(\"Enter a number (negative to stop): \"))\n",
    "    if num < 0:\n",
    "        break\n",
    "    total_sum += num\n",
    "\n",
    "print(f\"Sum of positive numbers entered: {total_sum}\")\n"
   ]
  },
  {
   "cell_type": "markdown",
   "metadata": {},
   "source": [
    "***1.11. Write a program to find prime numbers between 2 to 100 using nested for loops.***"
   ]
  },
  {
   "cell_type": "code",
   "execution_count": 1,
   "metadata": {},
   "outputs": [
    {
     "name": "stdout",
     "output_type": "stream",
     "text": [
      "Prime numbers between 2 and 100:\n",
      "2 3 5 7 11 13 17 19 23 29 31 37 41 43 47 53 59 61 67 71 73 79 83 89 97 \n"
     ]
    }
   ],
   "source": [
    "# Function to check if a number is prime\n",
    "def is_prime(num):\n",
    "    if num <= 1:\n",
    "        return False\n",
    "    for i in range(2, int(num**0.5) + 1):\n",
    "        if num % i == 0:\n",
    "            return False\n",
    "    return True\n",
    "\n",
    "# Finding prime numbers between 2 and 100\n",
    "print(\"Prime numbers between 2 and 100:\")\n",
    "for num in range(2, 101):\n",
    "    if is_prime(num):\n",
    "        print(num, end=\" \")\n",
    "print()\n"
   ]
  },
  {
   "cell_type": "markdown",
   "metadata": {},
   "source": [
    "***1.12. Write the programs for the following***\n",
    "\n",
    "AcceTt the marks of the student in five major subjects and disTlay the sameS?\n",
    "\n",
    "Calculate the sum of the marks of all subjects.Divide the total marks by number of subjects (i.e. 5), calculate\n",
    "\n",
    "percentage = total marks/5 and disTlay the percentages?\n",
    "\n",
    "Find the grade of the student as Ter the following criteria . Hint: Use Match & case for this.:"
   ]
  },
  {
   "cell_type": "code",
   "execution_count": null,
   "metadata": {},
   "outputs": [],
   "source": [
    "def accept_marks():\n",
    "    marks = []\n",
    "    for i in range(5):\n",
    "        subject = input(f\"Enter marks for subject {i+1}: \")\n",
    "        marks.append(float(subject))\n",
    "    return marks\n",
    "\n",
    "def display_marks(marks):\n",
    "    print(\"Marks of the student in five major subjects:\")\n",
    "    for i in range(5):\n",
    "        print(f\"Subject {i+1}: {marks[i]}\")\n",
    "\n",
    "# Example usage:\n",
    "marks = accept_marks()\n",
    "display_marks(marks)\n"
   ]
  },
  {
   "cell_type": "code",
   "execution_count": null,
   "metadata": {},
   "outputs": [],
   "source": [
    "def calculate_sum(marks):\n",
    "    total = sum(marks)\n",
    "    return total\n",
    "\n",
    "def calculate_percentage(total):\n",
    "    percentage = total / 5\n",
    "    return percentage\n",
    "\n",
    "# Example usage (assuming marks are already entered):\n",
    "total_marks = calculate_sum(marks)\n",
    "percentage = calculate_percentage(total_marks)\n",
    "print(f\"Total marks: {total_marks}\")\n",
    "print(f\"Percentage: {percentage}%\")\n"
   ]
  },
  {
   "cell_type": "code",
   "execution_count": null,
   "metadata": {},
   "outputs": [],
   "source": [
    "def calculate_grade(percentage):\n",
    "    match percentage:\n",
    "        case 90 <= percentage <= 100:\n",
    "            return \"A\"\n",
    "        case 80 <= percentage < 90:\n",
    "            return \"B\"\n",
    "        case 70 <= percentage < 80:\n",
    "            return \"C\"\n",
    "        case 60 <= percentage < 70:\n",
    "            return \"D\"\n",
    "        case percentage < 60:\n",
    "            return \"Fail\"\n",
    "        case _:\n",
    "            return \"Invalid Percentage\"\n",
    "\n",
    "# Example usage (assuming percentage is calculated):\n",
    "grade = calculate_grade(percentage)\n",
    "print(f\"Grade: {grade}\")\n"
   ]
  },
  {
   "cell_type": "markdown",
   "metadata": {},
   "source": [
    "***1.13. Write a program for VIBGYOR Spectrum based on their Wavelength using.\n",
    "Wavelength Range:***"
   ]
  },
  {
   "cell_type": "code",
   "execution_count": null,
   "metadata": {},
   "outputs": [],
   "source": [
    "def get_color(wavelength):\n",
    "    if 380 <= wavelength < 450:\n",
    "        return \"Violet\"\n",
    "    elif 450 <= wavelength < 495:\n",
    "        return \"Indigo\"\n",
    "    elif 495 <= wavelength < 570:\n",
    "        return \"Blue\"\n",
    "    elif 570 <= wavelength < 590:\n",
    "        return \"Green\"\n",
    "    elif 590 <= wavelength < 620:\n",
    "        return \"Yellow\"\n",
    "    elif 620 <= wavelength < 750:\n",
    "        return \"Orange\"\n",
    "    elif 750 <= wavelength <= 780:\n",
    "        return \"Red\"\n",
    "    else:\n",
    "        return \"Out of visible spectrum\"\n",
    "\n",
    "# Example usage:\n",
    "try:\n",
    "    wavelength = float(input(\"Enter wavelength in nanometers: \"))\n",
    "    color = get_color(wavelength)\n",
    "    print(f\"The color corresponding to {wavelength} nm is {color}.\")\n",
    "except ValueError:\n",
    "    print(\"Please enter a valid number.\")\n"
   ]
  },
  {
   "cell_type": "markdown",
   "metadata": {},
   "source": [
    "***1.14.Consider the gravitational interactions between the Earth, Moon, and Sun in our solar system.\n",
    "Given:***"
   ]
  },
  {
   "cell_type": "code",
   "execution_count": 5,
   "metadata": {},
   "outputs": [],
   "source": [
    "mass_earth = 5.972e24  # Mass of Earth in kilograms\n",
    "mass_moon = 7.34767309e22  # Mass of Moon in kilograms\n",
    "mass_sun = 1.989e30  # Mass of Sun in kilograms\n",
    "distance_earth_sun = 149.6e9  # Average distance between Earth and Sun in meters\n",
    "distance_moon_earth = 3.844e8  # Average distance between Moon and Earth in meters\n"
   ]
  },
  {
   "cell_type": "code",
   "execution_count": 6,
   "metadata": {},
   "outputs": [
    {
     "name": "stdout",
     "output_type": "stream",
     "text": [
      "Gravitational force between Earth and Sun: 3.54e+22 Newtons\n"
     ]
    }
   ],
   "source": [
    "# Constants\n",
    "G = 6.67430e-11  # Gravitational constant in m³ kg⁻¹ s⁻²\n",
    "\n",
    "# Calculate gravitational force between Earth and Sun\n",
    "force_earth_sun = G * mass_earth * mass_sun / (distance_earth_sun ** 2)\n",
    "\n",
    "print(f\"Gravitational force between Earth and Sun: {force_earth_sun:.2e} Newtons\")\n"
   ]
  },
  {
   "cell_type": "code",
   "execution_count": 7,
   "metadata": {},
   "outputs": [
    {
     "name": "stdout",
     "output_type": "stream",
     "text": [
      "Gravitational force between Moon and Earth: 1.98e+20 Newtons\n"
     ]
    }
   ],
   "source": [
    "# Calculate gravitational force between Moon and Earth\n",
    "force_moon_earth = G * mass_moon * mass_earth / (distance_moon_earth ** 2)\n",
    "\n",
    "print(f\"Gravitational force between Moon and Earth: {force_moon_earth:.2e} Newtons\")\n"
   ]
  },
  {
   "cell_type": "code",
   "execution_count": 8,
   "metadata": {},
   "outputs": [
    {
     "name": "stdout",
     "output_type": "stream",
     "text": [
      "The stronger gravitational force is from the Sun (Earth is more attracted to the Sun).\n"
     ]
    }
   ],
   "source": [
    "# Compare the gravitational forces\n",
    "if force_earth_sun > force_moon_earth:\n",
    "    stronger_body = \"Sun (Earth is more attracted to the Sun)\"\n",
    "else:\n",
    "    stronger_body = \"Moon (Moon is more attracted to the Earth)\"\n",
    "\n",
    "print(f\"The stronger gravitational force is from the {stronger_body}.\")\n"
   ]
  }
 ],
 "metadata": {
  "kernelspec": {
   "display_name": "Python 3",
   "language": "python",
   "name": "python3"
  },
  "language_info": {
   "codemirror_mode": {
    "name": "ipython",
    "version": 3
   },
   "file_extension": ".py",
   "mimetype": "text/x-python",
   "name": "python",
   "nbconvert_exporter": "python",
   "pygments_lexer": "ipython3",
   "version": "3.10.7"
  }
 },
 "nbformat": 4,
 "nbformat_minor": 2
}
