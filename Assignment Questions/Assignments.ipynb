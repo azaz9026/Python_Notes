{
 "cells": [
  {
   "cell_type": "markdown",
   "metadata": {},
   "source": [
    "# Assignments"
   ]
  },
  {
   "cell_type": "markdown",
   "metadata": {},
   "source": [
    "# Question 1.3.\n",
    "name = [\"Mohan\", \"dash\", \"karam\", \"chandra\",\"gandhi\",\"Bapu\"]\n",
    "\n",
    "do the following operations in this list;"
   ]
  },
  {
   "cell_type": "code",
   "execution_count": 1,
   "metadata": {},
   "outputs": [],
   "source": [
    "name = [\"Mohan\", \"dash\", \"karam\", \"chandra\", \"gandhi\", \"Bapu\"]"
   ]
  },
  {
   "cell_type": "markdown",
   "metadata": {},
   "source": [
    "a) Add an element \"freedom_fighter\" in this list at the 0th index."
   ]
  },
  {
   "cell_type": "code",
   "execution_count": 2,
   "metadata": {},
   "outputs": [
    {
     "name": "stdout",
     "output_type": "stream",
     "text": [
      "['freedom_fighter', 'Mohan', 'dash', 'karam', 'chandra', 'gandhi', 'Bapu']\n"
     ]
    }
   ],
   "source": [
    "name.insert(0, \"freedom_fighter\")\n",
    "print(name)  # Output: ['freedom_fighter', 'Mohan', 'dash', 'karam', 'chandra', 'gandhi', 'Bapu']\n"
   ]
  },
  {
   "cell_type": "markdown",
   "metadata": {},
   "source": [
    "b) Calculate the value of length1 + length2"
   ]
  },
  {
   "cell_type": "code",
   "execution_count": 3,
   "metadata": {},
   "outputs": [
    {
     "name": "stdout",
     "output_type": "stream",
     "text": [
      "8\n"
     ]
    }
   ],
   "source": [
    "# Given list after modification from part a\n",
    "name = [\"freedom_fighter\", \"Mohan\", \"dash\", \"karam\", \"chandra\", \"gandhi\", \"Bapu\"]\n",
    "\n",
    "length1 = len(name[-len(name)+1:-1:2])\n",
    "length2 = len(name[-len(name)+1:-1])\n",
    "\n",
    "print(length1 + length2)  # Output: 3 + 6 = 9\n"
   ]
  },
  {
   "cell_type": "markdown",
   "metadata": {},
   "source": [
    "c) Add two more elements in the list [\"NetaJi\", \"Bose\"] at the end of the list."
   ]
  },
  {
   "cell_type": "code",
   "execution_count": 4,
   "metadata": {},
   "outputs": [
    {
     "name": "stdout",
     "output_type": "stream",
     "text": [
      "['freedom_fighter', 'Mohan', 'dash', 'karam', 'chandra', 'gandhi', 'Bapu', 'NetaJi', 'Bose']\n"
     ]
    }
   ],
   "source": [
    "name.extend([\"NetaJi\", \"Bose\"])\n",
    "print(name)  # Output: ['freedom_fighter', 'Mohan', 'dash', 'karam', 'chandra', 'gandhi', 'Bapu', 'NetaJi', 'Bose']\n"
   ]
  },
  {
   "cell_type": "markdown",
   "metadata": {},
   "source": [
    "d) Swap the first and last elements in the list and print the modified list."
   ]
  },
  {
   "cell_type": "code",
   "execution_count": 5,
   "metadata": {},
   "outputs": [
    {
     "name": "stdout",
     "output_type": "stream",
     "text": [
      "['Mohan', 'dash', 'karam', 'chandra', 'gandhi', 'Bapuji']\n"
     ]
    }
   ],
   "source": [
    "name = [\"Bapuji\", \"dash\", \"karam\", \"chandra\", \"gandhi\", \"Mohan\"]\n",
    "temp = name[-1]\n",
    "name[-1] = name[0]\n",
    "name[0] = temp\n",
    "print(name)  # Output: ['Mohan', 'dash', 'karam', 'chandra', 'gandhi', 'Bapuji']\n"
   ]
  },
  {
   "cell_type": "markdown",
   "metadata": {},
   "source": [
    "Final Code with All Operations\n",
    "Here's the complete code with all the operations combined:"
   ]
  },
  {
   "cell_type": "code",
   "execution_count": 6,
   "metadata": {},
   "outputs": [
    {
     "name": "stdout",
     "output_type": "stream",
     "text": [
      "['freedom_fighter', 'Mohan', 'dash', 'karam', 'chandra', 'gandhi', 'Bapu']\n",
      "8\n",
      "['freedom_fighter', 'Mohan', 'dash', 'karam', 'chandra', 'gandhi', 'Bapu', 'NetaJi', 'Bose']\n",
      "['Mohan', 'dash', 'karam', 'chandra', 'gandhi', 'Bapuji']\n"
     ]
    }
   ],
   "source": [
    "# Initial list\n",
    "name = [\"Mohan\", \"dash\", \"karam\", \"chandra\", \"gandhi\", \"Bapu\"]\n",
    "\n",
    "# a) Add \"freedom_fighter\" at the 0th index\n",
    "name.insert(0, \"freedom_fighter\")\n",
    "print(name)  # Output: ['freedom_fighter', 'Mohan', 'dash', 'karam', 'chandra', 'gandhi', 'Bapu']\n",
    "\n",
    "# b) Calculate the value of length1 + length2\n",
    "length1 = len(name[-len(name)+1:-1:2])\n",
    "length2 = len(name[-len(name)+1:-1])\n",
    "print(length1 + length2)  # Output: 9\n",
    "\n",
    "# c) Add [\"NetaJi\", \"Bose\"] at the end of the list\n",
    "name.extend([\"NetaJi\", \"Bose\"])\n",
    "print(name)  # Output: ['freedom_fighter', 'Mohan', 'dash', 'karam', 'chandra', 'gandhi', 'Bapu', 'NetaJi', 'Bose']\n",
    "\n",
    "# d) Swap the first and last elements in the list and print the modified list\n",
    "name = [\"Bapuji\", \"dash\", \"karam\", \"chandra\", \"gandhi\", \"Mohan\"]\n",
    "temp = name[-1]\n",
    "name[-1] = name[0]\n",
    "name[0] = temp\n",
    "print(name)  # Output: ['Mohan', 'dash', 'karam', 'chandra', 'gandhi', 'Bapuji']\n"
   ]
  },
  {
   "cell_type": "markdown",
   "metadata": {},
   "source": [
    "# Question 1.4.\n",
    "\n",
    "Find the output of the following.\n",
    "\n",
    "animal = ['Human','cat','mat','cat','rat','Human', 'Lion']\n",
    "\n",
    "print(animal.count('Human'))\n",
    "\n",
    "print(animal.index('rat'))\n",
    "\n",
    "print(len(animal))"
   ]
  },
  {
   "cell_type": "code",
   "execution_count": 7,
   "metadata": {},
   "outputs": [],
   "source": [
    "animal = ['Human', 'cat', 'mat', 'cat', 'rat', 'Human', 'Lion']\n"
   ]
  },
  {
   "cell_type": "markdown",
   "metadata": {},
   "source": [
    "Operations and Outputs\n",
    "\n",
    "Count the occurrences of 'Human'"
   ]
  },
  {
   "cell_type": "code",
   "execution_count": 11,
   "metadata": {},
   "outputs": [
    {
     "name": "stdout",
     "output_type": "stream",
     "text": [
      "2\n"
     ]
    }
   ],
   "source": [
    "print(animal.count('Human'))"
   ]
  },
  {
   "cell_type": "code",
   "execution_count": 9,
   "metadata": {},
   "outputs": [
    {
     "name": "stdout",
     "output_type": "stream",
     "text": [
      "4\n"
     ]
    }
   ],
   "source": [
    "print(animal.index('rat'))"
   ]
  },
  {
   "cell_type": "code",
   "execution_count": 10,
   "metadata": {},
   "outputs": [
    {
     "name": "stdout",
     "output_type": "stream",
     "text": [
      "7\n"
     ]
    }
   ],
   "source": [
    "print(len(animal))"
   ]
  },
  {
   "cell_type": "markdown",
   "metadata": {},
   "source": [
    "Summary of Outputs\n",
    "\n",
    "print(animal.count('Human')) → 2\n",
    "print(animal.index('rat')) → 4\n",
    "print(len(animal)) → 7\n",
    "\n",
    "Here is the complete code snippet with the outputs:"
   ]
  },
  {
   "cell_type": "code",
   "execution_count": 12,
   "metadata": {},
   "outputs": [
    {
     "name": "stdout",
     "output_type": "stream",
     "text": [
      "2\n",
      "4\n",
      "7\n"
     ]
    }
   ],
   "source": [
    "animal = ['Human', 'cat', 'mat', 'cat', 'rat', 'Human', 'Lion']\n",
    "print(animal.count('Human'))  # Output: 2\n",
    "print(animal.index('rat'))    # Output: 4\n",
    "print(len(animal))            # Output: 7"
   ]
  },
  {
   "cell_type": "markdown",
   "metadata": {},
   "source": [
    "# Question 1.5. \n",
    "\n",
    "tuple1=(10,20,\"Apple\",3.4,'a',[\"master\",\"ji\"],(\"sita\",\"geeta\",22),[{\"roll_no\"N1},\n",
    "\n",
    "{\"name\"N\"Navneet\"}])"
   ]
  },
  {
   "cell_type": "markdown",
   "metadata": {},
   "source": [
    "Given Tuple"
   ]
  },
  {
   "cell_type": "code",
   "execution_count": 17,
   "metadata": {},
   "outputs": [],
   "source": [
    "tuple1 = (\n",
    "    10, 20, \"Apple\", 3.4, 'a',\n",
    "    [\"master\", \"ji\"],\n",
    "    (\"sita\", \"geeta\", 22),\n",
    "    [{\"roll_no\": \"N1\"}, {\"name\": \"Navneet\"}]\n",
    ")"
   ]
  },
  {
   "cell_type": "code",
   "execution_count": 20,
   "metadata": {},
   "outputs": [
    {
     "name": "stdout",
     "output_type": "stream",
     "text": [
      "8\n",
      "Navneet\n",
      "N1\n",
      "ji\n"
     ]
    },
    {
     "ename": "IndexError",
     "evalue": "list index out of range",
     "output_type": "error",
     "traceback": [
      "\u001b[1;31m---------------------------------------------------------------------------\u001b[0m",
      "\u001b[1;31mIndexError\u001b[0m                                Traceback (most recent call last)",
      "Cell \u001b[1;32mIn[20], line 22\u001b[0m\n\u001b[0;32m     19\u001b[0m \u001b[38;5;28mprint\u001b[39m(tuple1[\u001b[38;5;241m-\u001b[39m\u001b[38;5;241m3\u001b[39m][\u001b[38;5;241m1\u001b[39m])  \u001b[38;5;66;03m# Output: geeta\u001b[39;00m\n\u001b[0;32m     21\u001b[0m \u001b[38;5;66;03m# e) Fetch the element \"22\" from this tuple\u001b[39;00m\n\u001b[1;32m---> 22\u001b[0m element_22 \u001b[38;5;241m=\u001b[39m \u001b[43mtuple1\u001b[49m\u001b[43m[\u001b[49m\u001b[38;5;241;43m-\u001b[39;49m\u001b[38;5;241;43m3\u001b[39;49m\u001b[43m]\u001b[49m\u001b[43m[\u001b[49m\u001b[38;5;241;43m2\u001b[39;49m\u001b[43m]\u001b[49m\n\u001b[0;32m     23\u001b[0m \u001b[38;5;28mprint\u001b[39m(element_22)  \u001b[38;5;66;03m# Output: 22\u001b[39;00m\n",
      "\u001b[1;31mIndexError\u001b[0m: list index out of range"
     ]
    }
   ],
   "source": [
    "tuple1 = (\n",
    "    10, 20, \"Apple\", 3.4, 'a',\n",
    "    [\"master\", \"ji\"],\n",
    "    (\"sita\", \"geeta\", 22),\n",
    "    [{\"roll_no\": \"N1\"}, {\"name\": \"Navneet\"}]\n",
    ")\n",
    "\n",
    "# a) Print the length of the tuple\n",
    "print(len(tuple1))  # Output: 8\n",
    "\n",
    "# b) Print the value associated with the key \"name\" in the last element of the tuple\n",
    "print(tuple1[-1][-1][\"name\"])  # Output: Navneet\n",
    "\n",
    "# c) Fetch the value of \"roll_no\" from this tuple\n",
    "roll_no_value = tuple1[-1][0][\"roll_no\"]\n",
    "print(roll_no_value)  # Output: N1\n",
    "\n",
    "# d) Print the second element of the second-to-last element in the tuple\n",
    "print(tuple1[-3][1])  # Output: geeta\n",
    "\n",
    "# e) Fetch the element \"22\" from this tuple\n",
    "element_22 = tuple1[-3][2]\n",
    "print(element_22)  # Output: 22\n"
   ]
  },
  {
   "cell_type": "markdown",
   "metadata": {},
   "source": [
    "***1.6. Write a program to display the appropriate message as per the color of signal(RED-Stop/Yellow-Stay/\n",
    "Green-Go) at the road crossing.***"
   ]
  },
  {
   "cell_type": "code",
   "execution_count": 21,
   "metadata": {},
   "outputs": [],
   "source": [
    "def traffic_signal_message(color):\n",
    "    color = color.lower()\n",
    "    if color == 'red':\n",
    "        return \"RED - Stop\"\n",
    "    elif color == 'yellow':\n",
    "        return \"YELLOW - Stay\"\n",
    "    elif color == 'green':\n",
    "        return \"GREEN - Go\"\n",
    "    else:\n",
    "        return \"Invalid color. Please enter RED, YELLOW, or GREEN.\"\n",
    "\n",
    "# Example usage:\n",
    "signal_color = input(\"Enter the traffic signal color (RED/YELLOW/GREEN): \")\n",
    "message = traffic_signal_message(signal_color)\n",
    "print(message)\n"
   ]
  },
  {
   "cell_type": "markdown",
   "metadata": {},
   "source": [
    "***1.7. Write a program to create a simple calculator performing only four basic operations(+,-,/,*)***"
   ]
  },
  {
   "cell_type": "code",
   "execution_count": 3,
   "metadata": {},
   "outputs": [
    {
     "name": "stdout",
     "output_type": "stream",
     "text": [
      "Result: Invalid operator\n"
     ]
    }
   ],
   "source": [
    "def calculator(num1, num2, operator):\n",
    "    if operator == '+':\n",
    "        return num1 + num2\n",
    "    elif operator == '-':\n",
    "        return num1 - num2\n",
    "    elif operator == '*':\n",
    "        return num1 * num2\n",
    "    elif operator == '/':\n",
    "        if num2 != 0:\n",
    "            return num1 / num2\n",
    "        else:\n",
    "            return \"Error: Division by zero\"\n",
    "    else:\n",
    "        return \"Invalid operator\"\n",
    "\n",
    "# Example usage:\n",
    "num1 = float(input(\"Enter the first number: \"))\n",
    "num2 = float(input(\"Enter the second number: \"))\n",
    "op = input(\"Enter the operator (+, -, *, /): \")\n",
    "\n",
    "result = calculator(num1, num2, op)\n",
    "print(f\"Result: {result}\")\n"
   ]
  },
  {
   "cell_type": "markdown",
   "metadata": {},
   "source": [
    "***1.8. Write a program to find the larger of the three pre-specified numbers using ternary operators.***"
   ]
  },
  {
   "cell_type": "code",
   "execution_count": 6,
   "metadata": {},
   "outputs": [
    {
     "name": "stdout",
     "output_type": "stream",
     "text": [
      "The largest number is: 30\n"
     ]
    }
   ],
   "source": [
    "# Pre-specified numbers\n",
    "num1 = 20\n",
    "num2 = 30\n",
    "num3 = 15\n",
    "\n",
    "largest = num1 if (num1 > num2 and num1 > num3) else (num2 if (num2 > num3) else num3)\n",
    "print(f\"The largest number is: {largest}\")\n"
   ]
  },
  {
   "cell_type": "markdown",
   "metadata": {},
   "source": [
    "***1.9. Write a program to find the factors of a whole number using a while loop.***"
   ]
  },
  {
   "cell_type": "code",
   "execution_count": 4,
   "metadata": {},
   "outputs": [
    {
     "name": "stdout",
     "output_type": "stream",
     "text": [
      "The factors of 5 are: [1, 5]\n"
     ]
    }
   ],
   "source": [
    "def find_factors(number):\n",
    "    factors = []\n",
    "    divisor = 1\n",
    "    while divisor <= number:\n",
    "        if number % divisor == 0:\n",
    "            factors.append(divisor)\n",
    "        divisor += 1\n",
    "    return factors\n",
    "\n",
    "# Example usage:\n",
    "number = int(input(\"Enter a whole number: \"))\n",
    "if number <= 0:\n",
    "    print(\"Please enter a positive integer.\")\n",
    "else:\n",
    "    print(f\"The factors of {number} are: {find_factors(number)}\")\n"
   ]
  },
  {
   "cell_type": "markdown",
   "metadata": {},
   "source": [
    "***1.10. Write a program to find the sum of all the positive numbers entered by the user. As soon as the user\n",
    "enters a negative number, stop taking in any further input from the user and display the sum .***"
   ]
  },
  {
   "cell_type": "code",
   "execution_count": 7,
   "metadata": {},
   "outputs": [],
   "source": [
    "total_sum = 0\n",
    "while True:\n",
    "    num = float(input(\"Enter a number (negative to stop): \"))\n",
    "    if num < 0:\n",
    "        break\n",
    "    total_sum += num\n",
    "\n",
    "print(f\"Sum of positive numbers entered: {total_sum}\")\n"
   ]
  },
  {
   "cell_type": "markdown",
   "metadata": {},
   "source": [
    "***1.11. Write a program to find prime numbers between 2 to 100 using nested for loops.***"
   ]
  },
  {
   "cell_type": "code",
   "execution_count": 1,
   "metadata": {},
   "outputs": [
    {
     "name": "stdout",
     "output_type": "stream",
     "text": [
      "Prime numbers between 2 and 100:\n",
      "2 3 5 7 11 13 17 19 23 29 31 37 41 43 47 53 59 61 67 71 73 79 83 89 97 \n"
     ]
    }
   ],
   "source": [
    "# Function to check if a number is prime\n",
    "def is_prime(num):\n",
    "    if num <= 1:\n",
    "        return False\n",
    "    for i in range(2, int(num**0.5) + 1):\n",
    "        if num % i == 0:\n",
    "            return False\n",
    "    return True\n",
    "\n",
    "# Finding prime numbers between 2 and 100\n",
    "print(\"Prime numbers between 2 and 100:\")\n",
    "for num in range(2, 101):\n",
    "    if is_prime(num):\n",
    "        print(num, end=\" \")\n",
    "print()\n"
   ]
  },
  {
   "cell_type": "markdown",
   "metadata": {},
   "source": [
    "***1.12. Write the programs for the following***\n",
    "\n",
    "AcceTt the marks of the student in five major subjects and disTlay the sameS?\n",
    "\n",
    "Calculate the sum of the marks of all subjects.Divide the total marks by number of subjects (i.e. 5), calculate\n",
    "\n",
    "percentage = total marks/5 and disTlay the percentages?\n",
    "\n",
    "Find the grade of the student as Ter the following criteria . Hint: Use Match & case for this.:"
   ]
  },
  {
   "cell_type": "code",
   "execution_count": null,
   "metadata": {},
   "outputs": [],
   "source": [
    "def accept_marks():\n",
    "    marks = []\n",
    "    for i in range(5):\n",
    "        subject = input(f\"Enter marks for subject {i+1}: \")\n",
    "        marks.append(float(subject))\n",
    "    return marks\n",
    "\n",
    "def display_marks(marks):\n",
    "    print(\"Marks of the student in five major subjects:\")\n",
    "    for i in range(5):\n",
    "        print(f\"Subject {i+1}: {marks[i]}\")\n",
    "\n",
    "# Example usage:\n",
    "marks = accept_marks()\n",
    "display_marks(marks)\n"
   ]
  },
  {
   "cell_type": "code",
   "execution_count": null,
   "metadata": {},
   "outputs": [],
   "source": [
    "def calculate_sum(marks):\n",
    "    total = sum(marks)\n",
    "    return total\n",
    "\n",
    "def calculate_percentage(total):\n",
    "    percentage = total / 5\n",
    "    return percentage\n",
    "\n",
    "# Example usage (assuming marks are already entered):\n",
    "total_marks = calculate_sum(marks)\n",
    "percentage = calculate_percentage(total_marks)\n",
    "print(f\"Total marks: {total_marks}\")\n",
    "print(f\"Percentage: {percentage}%\")\n"
   ]
  },
  {
   "cell_type": "code",
   "execution_count": null,
   "metadata": {},
   "outputs": [],
   "source": [
    "def calculate_grade(percentage):\n",
    "    match percentage:\n",
    "        case 90 <= percentage <= 100:\n",
    "            return \"A\"\n",
    "        case 80 <= percentage < 90:\n",
    "            return \"B\"\n",
    "        case 70 <= percentage < 80:\n",
    "            return \"C\"\n",
    "        case 60 <= percentage < 70:\n",
    "            return \"D\"\n",
    "        case percentage < 60:\n",
    "            return \"Fail\"\n",
    "        case _:\n",
    "            return \"Invalid Percentage\"\n",
    "\n",
    "# Example usage (assuming percentage is calculated):\n",
    "grade = calculate_grade(percentage)\n",
    "print(f\"Grade: {grade}\")\n"
   ]
  },
  {
   "cell_type": "markdown",
   "metadata": {},
   "source": [
    "***1.13. Write a program for VIBGYOR Spectrum based on their Wavelength using.\n",
    "Wavelength Range:***"
   ]
  },
  {
   "cell_type": "code",
   "execution_count": null,
   "metadata": {},
   "outputs": [],
   "source": [
    "def get_color(wavelength):\n",
    "    if 380 <= wavelength < 450:\n",
    "        return \"Violet\"\n",
    "    elif 450 <= wavelength < 495:\n",
    "        return \"Indigo\"\n",
    "    elif 495 <= wavelength < 570:\n",
    "        return \"Blue\"\n",
    "    elif 570 <= wavelength < 590:\n",
    "        return \"Green\"\n",
    "    elif 590 <= wavelength < 620:\n",
    "        return \"Yellow\"\n",
    "    elif 620 <= wavelength < 750:\n",
    "        return \"Orange\"\n",
    "    elif 750 <= wavelength <= 780:\n",
    "        return \"Red\"\n",
    "    else:\n",
    "        return \"Out of visible spectrum\"\n",
    "\n",
    "# Example usage:\n",
    "try:\n",
    "    wavelength = float(input(\"Enter wavelength in nanometers: \"))\n",
    "    color = get_color(wavelength)\n",
    "    print(f\"The color corresponding to {wavelength} nm is {color}.\")\n",
    "except ValueError:\n",
    "    print(\"Please enter a valid number.\")\n"
   ]
  },
  {
   "cell_type": "markdown",
   "metadata": {},
   "source": [
    "***1.14.Consider the gravitational interactions between the Earth, Moon, and Sun in our solar system.\n",
    "Given:***"
   ]
  },
  {
   "cell_type": "code",
   "execution_count": 5,
   "metadata": {},
   "outputs": [],
   "source": [
    "mass_earth = 5.972e24  # Mass of Earth in kilograms\n",
    "mass_moon = 7.34767309e22  # Mass of Moon in kilograms\n",
    "mass_sun = 1.989e30  # Mass of Sun in kilograms\n",
    "distance_earth_sun = 149.6e9  # Average distance between Earth and Sun in meters\n",
    "distance_moon_earth = 3.844e8  # Average distance between Moon and Earth in meters\n"
   ]
  },
  {
   "cell_type": "code",
   "execution_count": 6,
   "metadata": {},
   "outputs": [
    {
     "name": "stdout",
     "output_type": "stream",
     "text": [
      "Gravitational force between Earth and Sun: 3.54e+22 Newtons\n"
     ]
    }
   ],
   "source": [
    "# Constants\n",
    "G = 6.67430e-11  # Gravitational constant in m³ kg⁻¹ s⁻²\n",
    "\n",
    "# Calculate gravitational force between Earth and Sun\n",
    "force_earth_sun = G * mass_earth * mass_sun / (distance_earth_sun ** 2)\n",
    "\n",
    "print(f\"Gravitational force between Earth and Sun: {force_earth_sun:.2e} Newtons\")\n"
   ]
  },
  {
   "cell_type": "code",
   "execution_count": 7,
   "metadata": {},
   "outputs": [
    {
     "name": "stdout",
     "output_type": "stream",
     "text": [
      "Gravitational force between Moon and Earth: 1.98e+20 Newtons\n"
     ]
    }
   ],
   "source": [
    "# Calculate gravitational force between Moon and Earth\n",
    "force_moon_earth = G * mass_moon * mass_earth / (distance_moon_earth ** 2)\n",
    "\n",
    "print(f\"Gravitational force between Moon and Earth: {force_moon_earth:.2e} Newtons\")\n"
   ]
  },
  {
   "cell_type": "code",
   "execution_count": 8,
   "metadata": {},
   "outputs": [
    {
     "name": "stdout",
     "output_type": "stream",
     "text": [
      "The stronger gravitational force is from the Sun (Earth is more attracted to the Sun).\n"
     ]
    }
   ],
   "source": [
    "# Compare the gravitational forces\n",
    "if force_earth_sun > force_moon_earth:\n",
    "    stronger_body = \"Sun (Earth is more attracted to the Sun)\"\n",
    "else:\n",
    "    stronger_body = \"Moon (Moon is more attracted to the Earth)\"\n",
    "\n",
    "print(f\"The stronger gravitational force is from the {stronger_body}.\")\n"
   ]
  },
  {
   "cell_type": "markdown",
   "metadata": {},
   "source": [
    "***4. Design and implement a Python program for managing student information using object-oriented\n",
    "principles. Create a class called `Student` with encapsulated attributes for name, age, and roll number.\n",
    "Implement getter and setter methods for these attributes. Additionally, provide methods to display student\n",
    "information and update student details.***"
   ]
  },
  {
   "cell_type": "code",
   "execution_count": 1,
   "metadata": {},
   "outputs": [
    {
     "name": "stdout",
     "output_type": "stream",
     "text": [
      "Name: Alice, Age: 20, Roll Number: S001\n",
      "Name: Alice, Age: 21, Roll Number: S001\n"
     ]
    }
   ],
   "source": [
    "class Student:\n",
    "    def __init__(self, name, age, roll_number):\n",
    "        self.__name = name\n",
    "        self.__age = age\n",
    "        self.__roll_number = roll_number\n",
    "    \n",
    "    def get_name(self):\n",
    "        return self.__name\n",
    "    \n",
    "    def set_name(self, name):\n",
    "        self.__name = name\n",
    "    \n",
    "    def get_age(self):\n",
    "        return self.__age\n",
    "    \n",
    "    def set_age(self, age):\n",
    "        self.__age = age\n",
    "    \n",
    "    def get_roll_number(self):\n",
    "        return self.__roll_number\n",
    "    \n",
    "    def set_roll_number(self, roll_number):\n",
    "        self.__roll_number = roll_number\n",
    "    \n",
    "    def display_info(self):\n",
    "        print(f\"Name: {self.__name}, Age: {self.__age}, Roll Number: {self.__roll_number}\")\n",
    "    \n",
    "    def update_details(self, name=None, age=None, roll_number=None):\n",
    "        if name:\n",
    "            self.__name = name\n",
    "        if age:\n",
    "            self.__age = age\n",
    "        if roll_number:\n",
    "            self.__roll_number = roll_number\n",
    "\n",
    "# Testing the Student class\n",
    "if __name__ == \"__main__\":\n",
    "    # Creating an instance of Student\n",
    "    student1 = Student(\"Alice\", 20, \"S001\")\n",
    "    \n",
    "    # Displaying initial information\n",
    "    student1.display_info()\n",
    "    \n",
    "    # Updating student details\n",
    "    student1.update_details(age=21)\n",
    "    \n",
    "    # Displaying updated information\n",
    "    student1.display_info()\n"
   ]
  },
  {
   "cell_type": "markdown",
   "metadata": {},
   "source": [
    "***3.Develop a Python program for managing library resources efficiently. Design a class named `LibraryBoo`\n",
    "with attributes lie boo name, author, and availability status. Implement methods for borrowing and\n",
    "returning boos while ensuring proper encapsulation of attributes.***"
   ]
  },
  {
   "cell_type": "code",
   "execution_count": 2,
   "metadata": {},
   "outputs": [
    {
     "name": "stdout",
     "output_type": "stream",
     "text": [
      "Book: 'Python Programming' by John Smith - Status: Available\n",
      "Book: 'Machine Learning Basics' by Jane Doe - Status: Not Available\n",
      "Book 'Python Programming' by John Smith has been borrowed.\n",
      "Sorry, 'Machine Learning Basics' by Jane Doe is currently not available.\n",
      "Book 'Python Programming' by John Smith has been returned.\n",
      "Book 'Machine Learning Basics' by Jane Doe has been returned.\n",
      "Book: 'Python Programming' by John Smith - Status: Available\n",
      "Book: 'Machine Learning Basics' by Jane Doe - Status: Available\n"
     ]
    }
   ],
   "source": [
    "class LibraryBook:\n",
    "    def __init__(self, book_name, author, available=True):\n",
    "        self.__book_name = book_name\n",
    "        self.__author = author\n",
    "        self.__available = available\n",
    "    \n",
    "    def get_book_name(self):\n",
    "        return self.__book_name\n",
    "    \n",
    "    def get_author(self):\n",
    "        return self.__author\n",
    "    \n",
    "    def is_available(self):\n",
    "        return self.__available\n",
    "    \n",
    "    def borrow_book(self):\n",
    "        if self.__available:\n",
    "            self.__available = False\n",
    "            print(f\"Book '{self.__book_name}' by {self.__author} has been borrowed.\")\n",
    "        else:\n",
    "            print(f\"Sorry, '{self.__book_name}' by {self.__author} is currently not available.\")\n",
    "    \n",
    "    def return_book(self):\n",
    "        if not self.__available:\n",
    "            self.__available = True\n",
    "            print(f\"Book '{self.__book_name}' by {self.__author} has been returned.\")\n",
    "        else:\n",
    "            print(f\"Error: '{self.__book_name}' by {self.__author} is already available.\")\n",
    "    \n",
    "    def display_info(self):\n",
    "        status = \"Available\" if self.__available else \"Not Available\"\n",
    "        print(f\"Book: '{self.__book_name}' by {self.__author} - Status: {status}\")\n",
    "\n",
    "# Testing the LibraryBook class\n",
    "if __name__ == \"__main__\":\n",
    "    # Creating instances of LibraryBook\n",
    "    book1 = LibraryBook(\"Python Programming\", \"John Smith\")\n",
    "    book2 = LibraryBook(\"Machine Learning Basics\", \"Jane Doe\", False)\n",
    "    \n",
    "    # Displaying book information\n",
    "    book1.display_info()\n",
    "    book2.display_info()\n",
    "    \n",
    "    # Borrowing and returning books\n",
    "    book1.borrow_book()\n",
    "    book2.borrow_book()\n",
    "    \n",
    "    book1.return_book()\n",
    "    book2.return_book()\n",
    "    \n",
    "    # Displaying updated status\n",
    "    book1.display_info()\n",
    "    book2.display_info()\n"
   ]
  },
  {
   "cell_type": "markdown",
   "metadata": {},
   "source": [
    "***4.Create a simple baning system using object-oriented concepts in Python. Design classes representing\n",
    "different types of ban accounts such as savings and checing. Implement methods for deposit, withdraw,\n",
    "and balance inquiry. Utilize inheritance to manage different account types efficiently.\n",
    "Tasks***\n"
   ]
  },
  {
   "cell_type": "code",
   "execution_count": 3,
   "metadata": {},
   "outputs": [
    {
     "name": "stdout",
     "output_type": "stream",
     "text": [
      "Deposited $500. New balance is $1500.\n",
      "Account Number: SA001\n",
      "Current Balance: $1500\n",
      "Deposited $200. New balance is $700.\n",
      "Account Number: CA001\n",
      "Current Balance: $700\n",
      "Withdrew $200. New balance is $1300.\n",
      "Account Number: SA001\n",
      "Current Balance: $1300\n",
      "Withdrew $700. New balance is $0.\n",
      "Account Number: CA001\n",
      "Current Balance: $0\n",
      "Interest applied. New balance is $1326.0.\n",
      "Account Number: SA001\n",
      "Current Balance: $1326.0\n",
      "Applied overdraft fee of $50. New balance is $-50.\n",
      "Account Number: CA001\n",
      "Current Balance: $-50\n"
     ]
    }
   ],
   "source": [
    "class BankAccount:\n",
    "    def __init__(self, account_number, balance=0):\n",
    "        self.account_number = account_number\n",
    "        self.balance = balance\n",
    "    \n",
    "    def deposit(self, amount):\n",
    "        if amount > 0:\n",
    "            self.balance += amount\n",
    "            print(f\"Deposited ${amount}. New balance is ${self.balance}.\")\n",
    "        else:\n",
    "            print(\"Deposit amount must be greater than zero.\")\n",
    "    \n",
    "    def withdraw(self, amount):\n",
    "        if amount > 0:\n",
    "            if self.balance >= amount:\n",
    "                self.balance -= amount\n",
    "                print(f\"Withdrew ${amount}. New balance is ${self.balance}.\")\n",
    "            else:\n",
    "                print(\"Insufficient funds.\")\n",
    "        else:\n",
    "            print(\"Withdrawal amount must be greater than zero.\")\n",
    "    \n",
    "    def inquiry(self):\n",
    "        print(f\"Account Number: {self.account_number}\")\n",
    "        print(f\"Current Balance: ${self.balance}\")\n",
    "\n",
    "\n",
    "class SavingsAccount(BankAccount):\n",
    "    def __init__(self, account_number, balance=0, interest_rate=0.02):\n",
    "        super().__init__(account_number, balance)\n",
    "        self.interest_rate = interest_rate\n",
    "    \n",
    "    def apply_interest(self):\n",
    "        interest = self.balance * self.interest_rate\n",
    "        self.balance += interest\n",
    "        print(f\"Interest applied. New balance is ${self.balance}.\")\n",
    "\n",
    "\n",
    "class CheckingAccount(BankAccount):\n",
    "    def __init__(self, account_number, balance=0, overdraft_limit=100):\n",
    "        super().__init__(account_number, balance)\n",
    "        self.overdraft_limit = overdraft_limit\n",
    "    \n",
    "    def withdraw(self, amount):\n",
    "        if amount > 0:\n",
    "            if self.balance + self.overdraft_limit >= amount:\n",
    "                self.balance -= amount\n",
    "                print(f\"Withdrew ${amount}. New balance is ${self.balance}.\")\n",
    "            else:\n",
    "                print(\"Withdrawal amount exceeds overdraft limit.\")\n",
    "        else:\n",
    "            print(\"Withdrawal amount must be greater than zero.\")\n",
    "    \n",
    "    def apply_overdraft_fee(self, fee_amount):\n",
    "        if fee_amount > 0:\n",
    "            self.balance -= fee_amount\n",
    "            print(f\"Applied overdraft fee of ${fee_amount}. New balance is ${self.balance}.\")\n",
    "        else:\n",
    "            print(\"Overdraft fee amount must be greater than zero.\")\n",
    "\n",
    "\n",
    "# Testing the banking system\n",
    "if __name__ == \"__main__\":\n",
    "    # Creating instances of different account types\n",
    "    savings_acc = SavingsAccount(\"SA001\", 1000)\n",
    "    checking_acc = CheckingAccount(\"CA001\", 500, overdraft_limit=200)\n",
    "    \n",
    "    # Depositing and checking balances\n",
    "    savings_acc.deposit(500)\n",
    "    savings_acc.inquiry()\n",
    "    \n",
    "    checking_acc.deposit(200)\n",
    "    checking_acc.inquiry()\n",
    "    \n",
    "    # Withdrawing and checking balances\n",
    "    savings_acc.withdraw(200)\n",
    "    savings_acc.inquiry()\n",
    "    \n",
    "    checking_acc.withdraw(700)\n",
    "    checking_acc.inquiry()\n",
    "    \n",
    "    # Applying interest (only applicable to SavingsAccount)\n",
    "    savings_acc.apply_interest()\n",
    "    savings_acc.inquiry()\n",
    "    \n",
    "    # Applying overdraft fee (only applicable to CheckingAccount)\n",
    "    checking_acc.apply_overdraft_fee(50)\n",
    "    checking_acc.inquiry()\n"
   ]
  },
  {
   "cell_type": "markdown",
   "metadata": {},
   "source": [
    "***5.Write a Python program that models different animals and their sounds. Design a base class called\n",
    "`Animal` with a method `mae_sound()`. Create subclasses lie `Dog` and `Cat` that override the\n",
    "`mae_sound()` method to produce appropriate sounds.***"
   ]
  },
  {
   "cell_type": "code",
   "execution_count": 4,
   "metadata": {},
   "outputs": [
    {
     "name": "stdout",
     "output_type": "stream",
     "text": [
      "Deposited $500. New balance is $1500.\n",
      "Account Number: SA001\n",
      "Current Balance: $1500\n",
      "Deposited $200. New balance is $700.\n",
      "Account Number: CA001\n",
      "Current Balance: $700\n",
      "Withdrew $200. New balance is $1300.\n",
      "Account Number: SA001\n",
      "Current Balance: $1300\n",
      "Withdrew $700. New balance is $0.\n",
      "Account Number: CA001\n",
      "Current Balance: $0\n",
      "Interest applied. New balance is $1326.0.\n",
      "Account Number: SA001\n",
      "Current Balance: $1326.0\n",
      "Applied overdraft fee of $50. New balance is $-50.\n",
      "Account Number: CA001\n",
      "Current Balance: $-50\n"
     ]
    }
   ],
   "source": [
    "class BankAccount:\n",
    "    def __init__(self, account_number, balance=0):\n",
    "        self.account_number = account_number\n",
    "        self.balance = balance\n",
    "    \n",
    "    def deposit(self, amount):\n",
    "        if amount > 0:\n",
    "            self.balance += amount\n",
    "            print(f\"Deposited ${amount}. New balance is ${self.balance}.\")\n",
    "        else:\n",
    "            print(\"Deposit amount must be greater than zero.\")\n",
    "    \n",
    "    def withdraw(self, amount):\n",
    "        if amount > 0:\n",
    "            if self.balance >= amount:\n",
    "                self.balance -= amount\n",
    "                print(f\"Withdrew ${amount}. New balance is ${self.balance}.\")\n",
    "            else:\n",
    "                print(\"Insufficient funds.\")\n",
    "        else:\n",
    "            print(\"Withdrawal amount must be greater than zero.\")\n",
    "    \n",
    "    def inquiry(self):\n",
    "        print(f\"Account Number: {self.account_number}\")\n",
    "        print(f\"Current Balance: ${self.balance}\")\n",
    "\n",
    "\n",
    "class SavingsAccount(BankAccount):\n",
    "    def __init__(self, account_number, balance=0, interest_rate=0.02):\n",
    "        super().__init__(account_number, balance)\n",
    "        self.interest_rate = interest_rate\n",
    "    \n",
    "    def apply_interest(self):\n",
    "        interest = self.balance * self.interest_rate\n",
    "        self.balance += interest\n",
    "        print(f\"Interest applied. New balance is ${self.balance}.\")\n",
    "\n",
    "\n",
    "class CheckingAccount(BankAccount):\n",
    "    def __init__(self, account_number, balance=0, overdraft_limit=100):\n",
    "        super().__init__(account_number, balance)\n",
    "        self.overdraft_limit = overdraft_limit\n",
    "    \n",
    "    def withdraw(self, amount):\n",
    "        if amount > 0:\n",
    "            if self.balance + self.overdraft_limit >= amount:\n",
    "                self.balance -= amount\n",
    "                print(f\"Withdrew ${amount}. New balance is ${self.balance}.\")\n",
    "            else:\n",
    "                print(\"Withdrawal amount exceeds overdraft limit.\")\n",
    "        else:\n",
    "            print(\"Withdrawal amount must be greater than zero.\")\n",
    "    \n",
    "    def apply_overdraft_fee(self, fee_amount):\n",
    "        if fee_amount > 0:\n",
    "            self.balance -= fee_amount\n",
    "            print(f\"Applied overdraft fee of ${fee_amount}. New balance is ${self.balance}.\")\n",
    "        else:\n",
    "            print(\"Overdraft fee amount must be greater than zero.\")\n",
    "\n",
    "\n",
    "# Testing the banking system\n",
    "if __name__ == \"__main__\":\n",
    "    # Creating instances of different account types\n",
    "    savings_acc = SavingsAccount(\"SA001\", 1000)\n",
    "    checking_acc = CheckingAccount(\"CA001\", 500, overdraft_limit=200)\n",
    "    \n",
    "    # Depositing and checking balances\n",
    "    savings_acc.deposit(500)\n",
    "    savings_acc.inquiry()\n",
    "    \n",
    "    checking_acc.deposit(200)\n",
    "    checking_acc.inquiry()\n",
    "    \n",
    "    # Withdrawing and checking balances\n",
    "    savings_acc.withdraw(200)\n",
    "    savings_acc.inquiry()\n",
    "    \n",
    "    checking_acc.withdraw(700)\n",
    "    checking_acc.inquiry()\n",
    "    \n",
    "    # Applying interest (only applicable to SavingsAccount)\n",
    "    savings_acc.apply_interest()\n",
    "    savings_acc.inquiry()\n",
    "    \n",
    "    # Applying overdraft fee (only applicable to CheckingAccount)\n",
    "    checking_acc.apply_overdraft_fee(50)\n",
    "    checking_acc.inquiry()\n"
   ]
  },
  {
   "cell_type": "markdown",
   "metadata": {},
   "source": [
    "***6.Write a code for Restaurant Management System Using OOPS?***"
   ]
  },
  {
   "cell_type": "code",
   "execution_count": 5,
   "metadata": {},
   "outputs": [
    {
     "name": "stdout",
     "output_type": "stream",
     "text": [
      "Added Spaghetti Carbonara to the menu.\n",
      "Added Chicken Tikka Masala to the menu.\n",
      "Added Espresso to the menu.\n",
      "Added Mojito to the menu.\n",
      "Current Menu:\n",
      "Spaghetti Carbonara - Pasta with creamy sauce and bacon - $12.99 - Main Course - Cuisine: Italian\n",
      "Chicken Tikka Masala - Grilled chicken in spicy tomato sauce - $14.99 - Main Course - Cuisine: Indian\n",
      "Espresso - Strong coffee - $3.99 - Beverage - Type: Coffee\n",
      "Mojito - Refreshing mint drink - $7.99 - Beverage - Type: Cocktail\n",
      "Updated information for Spaghetti Carbonara.\n",
      "Current Menu:\n",
      "Spaghetti Carbonara - Pasta with creamy sauce and bacon - $14.99 - Main Course - Cuisine: Italian\n",
      "Chicken Tikka Masala - Grilled chicken in spicy tomato sauce - $14.99 - Main Course - Cuisine: Indian\n",
      "Espresso - Strong coffee - $3.99 - Beverage - Type: Coffee\n",
      "Mojito - Refreshing mint drink - $7.99 - Beverage - Type: Cocktail\n",
      "Removed Espresso from the menu.\n",
      "Current Menu:\n",
      "Spaghetti Carbonara - Pasta with creamy sauce and bacon - $14.99 - Main Course - Cuisine: Italian\n",
      "Chicken Tikka Masala - Grilled chicken in spicy tomato sauce - $14.99 - Main Course - Cuisine: Indian\n",
      "Mojito - Refreshing mint drink - $7.99 - Beverage - Type: Cocktail\n"
     ]
    }
   ],
   "source": [
    "class MenuItem:\n",
    "    def __init__(self, name, description, price, category):\n",
    "        self.__name = name\n",
    "        self.__description = description\n",
    "        self.__price = price\n",
    "        self.__category = category\n",
    "        self.__id = id(self)  # Unique ID for each MenuItem\n",
    "    \n",
    "    def get_name(self):\n",
    "        return self.__name\n",
    "    \n",
    "    def get_description(self):\n",
    "        return self.__description\n",
    "    \n",
    "    def get_price(self):\n",
    "        return self.__price\n",
    "    \n",
    "    def get_category(self):\n",
    "        return self.__category\n",
    "    \n",
    "    def update_info(self, name=None, description=None, price=None, category=None):\n",
    "        if name:\n",
    "            self.__name = name\n",
    "        if description:\n",
    "            self.__description = description\n",
    "        if price:\n",
    "            self.__price = price\n",
    "        if category:\n",
    "            self.__category = category\n",
    "    \n",
    "    def __str__(self):\n",
    "        return f\"{self.__name} - {self.__description} - ${self.__price} - {self.__category}\"\n",
    "    \n",
    "    def __repr__(self):\n",
    "        return f\"MenuItem(name='{self.__name}', description='{self.__description}', \" \\\n",
    "               f\"price={self.__price}, category='{self.__category}')\"\n",
    "    \n",
    "    def __eq__(self, other):\n",
    "        return isinstance(other, MenuItem) and self.__id == other.__id\n",
    "\n",
    "class FoodItem(MenuItem):\n",
    "    def __init__(self, name, description, price, category, cuisine):\n",
    "        super().__init__(name, description, price, category)\n",
    "        self.__cuisine = cuisine\n",
    "    \n",
    "    def get_cuisine(self):\n",
    "        return self.__cuisine\n",
    "    \n",
    "    def __str__(self):\n",
    "        return super().__str__() + f\" - Cuisine: {self.__cuisine}\"\n",
    "    \n",
    "    def __repr__(self):\n",
    "        return f\"FoodItem(name='{self._MenuItem__name}', description='{self._MenuItem__description}', \" \\\n",
    "               f\"price={self._MenuItem__price}, category='{self._MenuItem__category}', cuisine='{self.__cuisine}')\"\n",
    "\n",
    "class BeverageItem(MenuItem):\n",
    "    def __init__(self, name, description, price, category, type):\n",
    "        super().__init__(name, description, price, category)\n",
    "        self.__type = type\n",
    "    \n",
    "    def get_type(self):\n",
    "        return self.__type\n",
    "    \n",
    "    def __str__(self):\n",
    "        return super().__str__() + f\" - Type: {self.__type}\"\n",
    "    \n",
    "    def __repr__(self):\n",
    "        return f\"BeverageItem(name='{self._MenuItem__name}', description='{self._MenuItem__description}', \" \\\n",
    "               f\"price={self._MenuItem__price}, category='{self._MenuItem__category}', type='{self.__type}')\"\n",
    "\n",
    "class Menu:\n",
    "    def __init__(self):\n",
    "        self.menu_items = []\n",
    "    \n",
    "    def add_item(self, item):\n",
    "        if isinstance(item, MenuItem):\n",
    "            self.menu_items.append(item)\n",
    "            print(f\"Added {item.get_name()} to the menu.\")\n",
    "        else:\n",
    "            print(\"Invalid item. Must be a MenuItem.\")\n",
    "    \n",
    "    def remove_item(self, item):\n",
    "        if item in self.menu_items:\n",
    "            self.menu_items.remove(item)\n",
    "            print(f\"Removed {item.get_name()} from the menu.\")\n",
    "        else:\n",
    "            print(\"Item not found in the menu.\")\n",
    "    \n",
    "    def update_item(self, item, name=None, description=None, price=None, category=None):\n",
    "        if item in self.menu_items:\n",
    "            item.update_info(name, description, price, category)\n",
    "            print(f\"Updated information for {item.get_name()}.\")\n",
    "        else:\n",
    "            print(\"Item not found in the menu.\")\n",
    "    \n",
    "    def display_menu(self):\n",
    "        print(\"Current Menu:\")\n",
    "        for item in self.menu_items:\n",
    "            print(item)\n",
    "\n",
    "# Testing the Restaurant Management System\n",
    "if __name__ == \"__main__\":\n",
    "    # Creating menu items\n",
    "    item1 = FoodItem(\"Spaghetti Carbonara\", \"Pasta with creamy sauce and bacon\", 12.99, \"Main Course\", \"Italian\")\n",
    "    item2 = FoodItem(\"Chicken Tikka Masala\", \"Grilled chicken in spicy tomato sauce\", 14.99, \"Main Course\", \"Indian\")\n",
    "    item3 = BeverageItem(\"Espresso\", \"Strong coffee\", 3.99, \"Beverage\", \"Coffee\")\n",
    "    item4 = BeverageItem(\"Mojito\", \"Refreshing mint drink\", 7.99, \"Beverage\", \"Cocktail\")\n",
    "    \n",
    "    # Creating the menu\n",
    "    menu = Menu()\n",
    "    \n",
    "    # Adding items to the menu\n",
    "    menu.add_item(item1)\n",
    "    menu.add_item(item2)\n",
    "    menu.add_item(item3)\n",
    "    menu.add_item(item4)\n",
    "    \n",
    "    # Displaying the menu\n",
    "    menu.display_menu()\n",
    "    \n",
    "    # Updating an item\n",
    "    menu.update_item(item1, price=14.99)\n",
    "    menu.display_menu()\n",
    "    \n",
    "    # Removing an item\n",
    "    menu.remove_item(item3)\n",
    "    menu.display_menu()\n"
   ]
  },
  {
   "cell_type": "markdown",
   "metadata": {},
   "source": [
    "***8.Write a code for Hotel Management System using oops?***\n"
   ]
  },
  {
   "cell_type": "code",
   "execution_count": 6,
   "metadata": {},
   "outputs": [
    {
     "name": "stdout",
     "output_type": "stream",
     "text": [
      "Room 101 booked for Alice.\n",
      "Checked in Bob to Room 201.\n",
      "Room 101 is available: False\n",
      "Room 201 is available: False\n",
      "Guest in Room 101: Alice\n",
      "Guest in Room 201: Bob\n",
      "Checked out Alice from Room 101.\n",
      "Checked out Bob from Room 201.\n",
      "Room 101 - Type: Standard - Rate: $80 per night - Available\n",
      "Room 201 - Type: Suite - Rate: $150 per night - Available - Suite Type: Executive Suite\n"
     ]
    }
   ],
   "source": [
    "class Room:\n",
    "    def __init__(self, room_number, room_type, rate):\n",
    "        self.__room_number = room_number\n",
    "        self.__room_type = room_type\n",
    "        self.__rate = rate\n",
    "        self.__available = True\n",
    "        self.__guest_name = None\n",
    "    \n",
    "    def book_room(self, guest_name):\n",
    "        if self.__available:\n",
    "            self.__guest_name = guest_name\n",
    "            self.__available = False\n",
    "            print(f\"Room {self.__room_number} booked for {self.__guest_name}.\")\n",
    "        else:\n",
    "            print(f\"Room {self.__room_number} is not available.\")\n",
    "    \n",
    "    def check_in(self, guest_name):\n",
    "        if not self.__available:\n",
    "            print(f\"Room {self.__room_number} is already occupied by {self.__guest_name}.\")\n",
    "        else:\n",
    "            self.__guest_name = guest_name\n",
    "            self.__available = False\n",
    "            print(f\"Checked in {self.__guest_name} to Room {self.__room_number}.\")\n",
    "    \n",
    "    def check_out(self):\n",
    "        if self.__available:\n",
    "            print(f\"Room {self.__room_number} is not occupied.\")\n",
    "        else:\n",
    "            print(f\"Checked out {self.__guest_name} from Room {self.__room_number}.\")\n",
    "            self.__guest_name = None\n",
    "            self.__available = True\n",
    "    \n",
    "    def get_room_number(self):\n",
    "        return self.__room_number\n",
    "    \n",
    "    def get_room_type(self):\n",
    "        return self.__room_type\n",
    "    \n",
    "    def get_rate(self):\n",
    "        return self.__rate\n",
    "    \n",
    "    def is_available(self):\n",
    "        return self.__available\n",
    "    \n",
    "    def get_guest_name(self):\n",
    "        return self.__guest_name\n",
    "    \n",
    "    def __str__(self):\n",
    "        availability = \"Available\" if self.__available else \"Occupied\"\n",
    "        return f\"Room {self.__room_number} - Type: {self.__room_type} - Rate: ${self.__rate} per night - {availability}\"\n",
    "\n",
    "class StandardRoom(Room):\n",
    "    def __init__(self, room_number, rate):\n",
    "        super().__init__(room_number, \"Standard\", rate)\n",
    "\n",
    "class SuiteRoom(Room):\n",
    "    def __init__(self, room_number, rate, suite_type):\n",
    "        super().__init__(room_number, \"Suite\", rate)\n",
    "        self.__suite_type = suite_type\n",
    "    \n",
    "    def get_suite_type(self):\n",
    "        return self.__suite_type\n",
    "    \n",
    "    def __str__(self):\n",
    "        return super().__str__() + f\" - Suite Type: {self.__suite_type}\"\n",
    "\n",
    "\n",
    "# Testing the Hotel Management System\n",
    "if __name__ == \"__main__\":\n",
    "    # Creating room instances\n",
    "    standard_room1 = StandardRoom(101, 80)\n",
    "    suite_room1 = SuiteRoom(201, 150, \"Executive Suite\")\n",
    "    \n",
    "    # Booking and checking in guests\n",
    "    standard_room1.book_room(\"Alice\")\n",
    "    suite_room1.check_in(\"Bob\")\n",
    "    \n",
    "    # Checking room availability and guest info\n",
    "    print(f\"Room {standard_room1.get_room_number()} is available: {standard_room1.is_available()}\")\n",
    "    print(f\"Room {suite_room1.get_room_number()} is available: {suite_room1.is_available()}\")\n",
    "    print(f\"Guest in Room {standard_room1.get_room_number()}: {standard_room1.get_guest_name()}\")\n",
    "    print(f\"Guest in Room {suite_room1.get_room_number()}: {suite_room1.get_guest_name()}\")\n",
    "    \n",
    "    # Checking out guests\n",
    "    standard_room1.check_out()\n",
    "    suite_room1.check_out()\n",
    "    \n",
    "    # Displaying room details\n",
    "    print(standard_room1)\n",
    "    print(suite_room1)\n"
   ]
  },
  {
   "cell_type": "markdown",
   "metadata": {},
   "source": [
    "***8.Write a code for Fitness Club Management System using OOPS?***"
   ]
  },
  {
   "cell_type": "code",
   "execution_count": 7,
   "metadata": {},
   "outputs": [
    {
     "name": "stdout",
     "output_type": "stream",
     "text": [
      "Registered new member: John Doe. Membership type: Family\n",
      "Registered new member: Jane Smith. Membership type: Individual\n",
      "Renewed membership for John Doe.\n",
      "Renewed membership for Jane Smith.\n",
      "Applied family discount of $10 for John Doe.\n",
      "Set fitness goal 'Build muscle' for Jane Smith.\n",
      "Cancelled membership for John Doe.\n",
      "Cancelled membership for Jane Smith.\n",
      "Member: John Doe - Age: 35 - Membership Type: Family - Status: Cancelled - Family Discount: 20\n",
      "Member: Jane Smith - Age: 28 - Membership Type: Individual - Status: Cancelled - Fitness Goal: Build muscle\n"
     ]
    }
   ],
   "source": [
    "class Member:\n",
    "    def __init__(self, name, age, membership_type):\n",
    "        self.__name = name\n",
    "        self.__age = age\n",
    "        self.__membership_type = membership_type\n",
    "        self.__membership_status = \"Active\"\n",
    "        self.__id = id(self)  # Unique ID for each member\n",
    "    \n",
    "    def register_member(self):\n",
    "        print(f\"Registered new member: {self.__name}. Membership type: {self.__membership_type}\")\n",
    "    \n",
    "    def renew_membership(self):\n",
    "        print(f\"Renewed membership for {self.__name}.\")\n",
    "    \n",
    "    def cancel_membership(self):\n",
    "        self.__membership_status = \"Cancelled\"\n",
    "        print(f\"Cancelled membership for {self.__name}.\")\n",
    "    \n",
    "    def get_name(self):\n",
    "        return self.__name\n",
    "    \n",
    "    def get_age(self):\n",
    "        return self.__age\n",
    "    \n",
    "    def get_membership_type(self):\n",
    "        return self.__membership_type\n",
    "    \n",
    "    def get_membership_status(self):\n",
    "        return self.__membership_status\n",
    "    \n",
    "    def __str__(self):\n",
    "        return f\"Member: {self.__name} - Age: {self.__age} - Membership Type: {self.__membership_type} - Status: {self.__membership_status}\"\n",
    "    \n",
    "    def __repr__(self):\n",
    "        return f\"Member(name='{self.__name}', age={self.__age}, membership_type='{self.__membership_type}', membership_status='{self.__membership_status}')\"\n",
    "    \n",
    "    def __eq__(self, other):\n",
    "        return isinstance(other, Member) and self.__id == other.__id\n",
    "\n",
    "class FamilyMember(Member):\n",
    "    def __init__(self, name, age, membership_type, family_discount):\n",
    "        super().__init__(name, age, membership_type)\n",
    "        self.__family_discount = family_discount\n",
    "    \n",
    "    def apply_family_discount(self, amount):\n",
    "        print(f\"Applied family discount of ${amount} for {self.get_name()}.\")\n",
    "\n",
    "    def __str__(self):\n",
    "        return super().__str__() + f\" - Family Discount: {self.__family_discount}\"\n",
    "    \n",
    "    def __repr__(self):\n",
    "        return f\"FamilyMember(name='{self.get_name()}', age={self.get_age()}, \" \\\n",
    "               f\"membership_type='{self.get_membership_type()}', membership_status='{self.get_membership_status()}', \" \\\n",
    "               f\"family_discount={self.__family_discount})\"\n",
    "\n",
    "class IndividualMember(Member):\n",
    "    def __init__(self, name, age, membership_type, fitness_goal):\n",
    "        super().__init__(name, age, membership_type)\n",
    "        self.__fitness_goal = fitness_goal\n",
    "    \n",
    "    def set_fitness_goal(self, goal):\n",
    "        self.__fitness_goal = goal\n",
    "        print(f\"Set fitness goal '{goal}' for {self.get_name()}.\")\n",
    "\n",
    "    def __str__(self):\n",
    "        return super().__str__() + f\" - Fitness Goal: {self.__fitness_goal}\"\n",
    "    \n",
    "    def __repr__(self):\n",
    "        return f\"IndividualMember(name='{self.get_name()}', age={self.get_age()}, \" \\\n",
    "               f\"membership_type='{self.get_membership_type()}', membership_status='{self.get_membership_status()}', \" \\\n",
    "               f\"fitness_goal='{self.__fitness_goal}')\"\n",
    "\n",
    "\n",
    "# Testing the Fitness Club Management System\n",
    "if __name__ == \"__main__\":\n",
    "    # Creating member instances\n",
    "    member1 = FamilyMember(\"John Doe\", 35, \"Family\", 20)\n",
    "    member2 = IndividualMember(\"Jane Smith\", 28, \"Individual\", \"Weight loss\")\n",
    "    \n",
    "    # Registering members\n",
    "    member1.register_member()\n",
    "    member2.register_member()\n",
    "    \n",
    "    # Renewing memberships\n",
    "    member1.renew_membership()\n",
    "    member2.renew_membership()\n",
    "    \n",
    "    # Applying family discount (only applicable to FamilyMember)\n",
    "    member1.apply_family_discount(10)\n",
    "    \n",
    "    # Setting fitness goal (only applicable to IndividualMember)\n",
    "    member2.set_fitness_goal(\"Build muscle\")\n",
    "    \n",
    "    # Cancelling membership\n",
    "    member1.cancel_membership()\n",
    "    member2.cancel_membership()\n",
    "    \n",
    "    # Displaying member details\n",
    "    print(member1)\n",
    "    print(member2)\n"
   ]
  },
  {
   "cell_type": "markdown",
   "metadata": {},
   "source": [
    "***9.Write a code for Event Management System using OOPS***"
   ]
  },
  {
   "cell_type": "code",
   "execution_count": 8,
   "metadata": {},
   "outputs": [
    {
     "name": "stdout",
     "output_type": "stream",
     "text": [
      "Created new event: Birthday Party. Date: 2024-08-01, Time: 18:00, Location: Community Center\n",
      "Created new event: Conference. Date: 2024-09-15, Time: 09:00, Location: Convention Center\n",
      "Added attendee Carol to event: Birthday Party.\n",
      "Added attendee David to event: Conference.\n",
      "Bob is not attending event: Birthday Party.\n",
      "Total attendees for Birthday Party: 1\n",
      "Total attendees for Conference: 1\n",
      "Invited guest Eve to private event: Birthday Party.\n",
      "Set max attendees to 120 for public event: Conference.\n",
      "Event: Birthday Party - Date: 2024-08-01 - Time: 18:00 - Location: Community Center - Invited Guests: ['Alice', 'Bob', 'Eve']\n",
      "Event: Conference - Date: 2024-09-15 - Time: 09:00 - Location: Convention Center - Max Attendees: 120\n"
     ]
    }
   ],
   "source": [
    "class Event:\n",
    "    def __init__(self, name, date, time, location):\n",
    "        self.__name = name\n",
    "        self.__date = date\n",
    "        self.__time = time\n",
    "        self.__location = location\n",
    "        self.__attendees = []\n",
    "        self.__id = id(self)  # Unique ID for each event\n",
    "    \n",
    "    def create_event(self):\n",
    "        print(f\"Created new event: {self.__name}. Date: {self.__date}, Time: {self.__time}, Location: {self.__location}\")\n",
    "    \n",
    "    def add_attendee(self, attendee):\n",
    "        self.__attendees.append(attendee)\n",
    "        print(f\"Added attendee {attendee} to event: {self.__name}.\")\n",
    "    \n",
    "    def remove_attendee(self, attendee):\n",
    "        if attendee in self.__attendees:\n",
    "            self.__attendees.remove(attendee)\n",
    "            print(f\"Removed attendee {attendee} from event: {self.__name}.\")\n",
    "        else:\n",
    "            print(f\"{attendee} is not attending event: {self.__name}.\")\n",
    "    \n",
    "    def get_total_attendees(self):\n",
    "        return len(self.__attendees)\n",
    "    \n",
    "    def get_name(self):\n",
    "        return self.__name\n",
    "    \n",
    "    def get_date(self):\n",
    "        return self.__date\n",
    "    \n",
    "    def get_time(self):\n",
    "        return self.__time\n",
    "    \n",
    "    def get_location(self):\n",
    "        return self.__location\n",
    "    \n",
    "    def __str__(self):\n",
    "        return f\"Event: {self.__name} - Date: {self.__date} - Time: {self.__time} - Location: {self.__location}\"\n",
    "\n",
    "    def __repr__(self):\n",
    "        return f\"Event(name='{self.__name}', date='{self.__date}', time='{self.__time}', location='{self.__location}')\"\n",
    "\n",
    "    def __eq__(self, other):\n",
    "        return isinstance(other, Event) and self.__id == other.__id\n",
    "\n",
    "class PrivateEvent(Event):\n",
    "    def __init__(self, name, date, time, location, invited_guests=[]):\n",
    "        super().__init__(name, date, time, location)\n",
    "        self.__invited_guests = invited_guests\n",
    "    \n",
    "    def invite_guest(self, guest):\n",
    "        self.__invited_guests.append(guest)\n",
    "        print(f\"Invited guest {guest} to private event: {self.get_name()}.\")\n",
    "    \n",
    "    def get_invited_guests(self):\n",
    "        return self.__invited_guests\n",
    "    \n",
    "    def __str__(self):\n",
    "        return super().__str__() + f\" - Invited Guests: {self.__invited_guests}\"\n",
    "\n",
    "    def __repr__(self):\n",
    "        return f\"PrivateEvent(name='{self.get_name()}', date='{self.get_date()}', time='{self.get_time()}', \" \\\n",
    "               f\"location='{self.get_location()}', invited_guests={self.__invited_guests})\"\n",
    "\n",
    "class PublicEvent(Event):\n",
    "    def __init__(self, name, date, time, location, max_attendees):\n",
    "        super().__init__(name, date, time, location)\n",
    "        self.__max_attendees = max_attendees\n",
    "    \n",
    "    def set_max_attendees(self, max_attendees):\n",
    "        self.__max_attendees = max_attendees\n",
    "        print(f\"Set max attendees to {max_attendees} for public event: {self.get_name()}.\")\n",
    "\n",
    "    def get_max_attendees(self):\n",
    "        return self.__max_attendees\n",
    "    \n",
    "    def __str__(self):\n",
    "        return super().__str__() + f\" - Max Attendees: {self.__max_attendees}\"\n",
    "\n",
    "    def __repr__(self):\n",
    "        return f\"PublicEvent(name='{self.get_name()}', date='{self.get_date()}', time='{self.get_time()}', \" \\\n",
    "               f\"location='{self.get_location()}', max_attendees={self.__max_attendees})\"\n",
    "\n",
    "\n",
    "# Testing the Event Management System\n",
    "if __name__ == \"__main__\":\n",
    "    # Creating event instances\n",
    "    event1 = PrivateEvent(\"Birthday Party\", \"2024-08-01\", \"18:00\", \"Community Center\", invited_guests=[\"Alice\", \"Bob\"])\n",
    "    event2 = PublicEvent(\"Conference\", \"2024-09-15\", \"09:00\", \"Convention Center\", max_attendees=100)\n",
    "    \n",
    "    # Creating events\n",
    "    event1.create_event()\n",
    "    event2.create_event()\n",
    "    \n",
    "    # Adding attendees\n",
    "    event1.add_attendee(\"Carol\")\n",
    "    event2.add_attendee(\"David\")\n",
    "    \n",
    "    # Removing attendees\n",
    "    event1.remove_attendee(\"Bob\")\n",
    "    \n",
    "    # Getting total attendees\n",
    "    print(f\"Total attendees for {event1.get_name()}: {event1.get_total_attendees()}\")\n",
    "    print(f\"Total attendees for {event2.get_name()}: {event2.get_total_attendees()}\")\n",
    "    \n",
    "    # Inviting guests (only applicable to PrivateEvent)\n",
    "    event1.invite_guest(\"Eve\")\n",
    "    \n",
    "    # Setting max attendees (only applicable to PublicEvent)\n",
    "    event2.set_max_attendees(120)\n",
    "    \n",
    "    # Displaying event details\n",
    "    print(event1)\n",
    "    print(event2)\n"
   ]
  },
  {
   "cell_type": "markdown",
   "metadata": {},
   "source": [
    "***10.Write a code for Airline Reservation System using OOPS ?***\n"
   ]
  },
  {
   "cell_type": "code",
   "execution_count": 9,
   "metadata": {},
   "outputs": [
    {
     "name": "stdout",
     "output_type": "stream",
     "text": [
      "Seat booked on flight D123. Remaining seats: 149/150\n",
      "Seat booked on flight D123. Remaining seats: 148/150\n",
      "Seat booked on flight I456. Remaining seats: 199/200\n",
      "Cancelled reservation on flight D123. Remaining seats: 149/150\n",
      "Cancelled reservation on flight I456. Remaining seats: 200/200\n",
      "Available seats on D123: 149\n",
      "Available seats on I456: 200\n",
      "Flight D123 - Departure: JFK (09:00) - Arrival: LAX (12:00) - Available Seats: 149/150 - Baggage Allowance: 25 kg\n",
      "Flight I456 - Departure: JFK (14:00) - Arrival: LHR (06:00) - Available Seats: 200/200 - Meal Service: Full service\n"
     ]
    }
   ],
   "source": [
    "class Flight:\n",
    "    def __init__(self, flight_number, departure_airport, arrival_airport, departure_time, arrival_time, total_seats):\n",
    "        self.__flight_number = flight_number\n",
    "        self.__departure_airport = departure_airport\n",
    "        self.__arrival_airport = arrival_airport\n",
    "        self.__departure_time = departure_time\n",
    "        self.__arrival_time = arrival_time\n",
    "        self.__total_seats = total_seats\n",
    "        self.__available_seats = total_seats\n",
    "        self.__id = id(self)  # Unique ID for each flight\n",
    "    \n",
    "    def book_seat(self):\n",
    "        if self.__available_seats > 0:\n",
    "            self.__available_seats -= 1\n",
    "            print(f\"Seat booked on flight {self.__flight_number}. Remaining seats: {self.__available_seats}/{self.__total_seats}\")\n",
    "        else:\n",
    "            print(f\"No available seats left on flight {self.__flight_number}.\")\n",
    "    \n",
    "    def cancel_reservation(self):\n",
    "        if self.__available_seats < self.__total_seats:\n",
    "            self.__available_seats += 1\n",
    "            print(f\"Cancelled reservation on flight {self.__flight_number}. Remaining seats: {self.__available_seats}/{self.__total_seats}\")\n",
    "        else:\n",
    "            print(f\"No reservations to cancel on flight {self.__flight_number}.\")\n",
    "    \n",
    "    def get_available_seats(self):\n",
    "        return self.__available_seats\n",
    "    \n",
    "    def get_flight_number(self):\n",
    "        return self.__flight_number\n",
    "    \n",
    "    def get_departure_airport(self):\n",
    "        return self.__departure_airport\n",
    "    \n",
    "    def get_arrival_airport(self):\n",
    "        return self.__arrival_airport\n",
    "    \n",
    "    def get_departure_time(self):\n",
    "        return self.__departure_time\n",
    "    \n",
    "    def get_arrival_time(self):\n",
    "        return self.__arrival_time\n",
    "    \n",
    "    def __str__(self):\n",
    "        return f\"Flight {self.__flight_number} - Departure: {self.__departure_airport} ({self.__departure_time}) \" \\\n",
    "               f\"- Arrival: {self.__arrival_airport} ({self.__arrival_time}) - Available Seats: {self.__available_seats}/{self.__total_seats}\"\n",
    "\n",
    "    def __repr__(self):\n",
    "        return f\"Flight(flight_number='{self.__flight_number}', departure_airport='{self.__departure_airport}', \" \\\n",
    "               f\"arrival_airport='{self.__arrival_airport}', departure_time='{self.__departure_time}', \" \\\n",
    "               f\"arrival_time='{self.__arrival_time}', total_seats={self.__total_seats})\"\n",
    "\n",
    "    def __eq__(self, other):\n",
    "        return isinstance(other, Flight) and self.__id == other.__id\n",
    "\n",
    "class DomesticFlight(Flight):\n",
    "    def __init__(self, flight_number, departure_airport, arrival_airport, departure_time, arrival_time, total_seats, baggage_allowance):\n",
    "        super().__init__(flight_number, departure_airport, arrival_airport, departure_time, arrival_time, total_seats)\n",
    "        self.__baggage_allowance = baggage_allowance\n",
    "    \n",
    "    def get_baggage_allowance(self):\n",
    "        return self.__baggage_allowance\n",
    "    \n",
    "    def __str__(self):\n",
    "        return super().__str__() + f\" - Baggage Allowance: {self.__baggage_allowance} kg\"\n",
    "\n",
    "    def __repr__(self):\n",
    "        return f\"DomesticFlight(flight_number='{self.get_flight_number()}', departure_airport='{self.get_departure_airport()}', \" \\\n",
    "               f\"arrival_airport='{self.get_arrival_airport()}', departure_time='{self.get_departure_time()}', \" \\\n",
    "               f\"arrival_time='{self.get_arrival_time()}', total_seats={self.get_available_seats()}, \" \\\n",
    "               f\"baggage_allowance={self.__baggage_allowance})\"\n",
    "\n",
    "class InternationalFlight(Flight):\n",
    "    def __init__(self, flight_number, departure_airport, arrival_airport, departure_time, arrival_time, total_seats, meal_service):\n",
    "        super().__init__(flight_number, departure_airport, arrival_airport, departure_time, arrival_time, total_seats)\n",
    "        self.__meal_service = meal_service\n",
    "    \n",
    "    def get_meal_service(self):\n",
    "        return self.__meal_service\n",
    "    \n",
    "    def __str__(self):\n",
    "        return super().__str__() + f\" - Meal Service: {self.__meal_service}\"\n",
    "\n",
    "    def __repr__(self):\n",
    "        return f\"InternationalFlight(flight_number='{self.get_flight_number()}', departure_airport='{self.get_departure_airport()}', \" \\\n",
    "               f\"arrival_airport='{self.get_arrival_airport()}', departure_time='{self.get_departure_time()}', \" \\\n",
    "               f\"arrival_time='{self.get_arrival_time()}', total_seats={self.get_available_seats()}, \" \\\n",
    "               f\"meal_service={self.__meal_service})\"\n",
    "\n",
    "\n",
    "# Testing the Airline Reservation System\n",
    "if __name__ == \"__main__\":\n",
    "    # Creating flight instances\n",
    "    domestic_flight1 = DomesticFlight(\"D123\", \"JFK\", \"LAX\", \"09:00\", \"12:00\", 150, 25)\n",
    "    international_flight1 = InternationalFlight(\"I456\", \"JFK\", \"LHR\", \"14:00\", \"06:00\", 200, \"Full service\")\n",
    "    \n",
    "    # Booking seats\n",
    "    domestic_flight1.book_seat()\n",
    "    domestic_flight1.book_seat()\n",
    "    international_flight1.book_seat()\n",
    "    \n",
    "    # Cancelling reservations\n",
    "    domestic_flight1.cancel_reservation()\n",
    "    international_flight1.cancel_reservation()\n",
    "    \n",
    "    # Displaying available seats\n",
    "    print(f\"Available seats on {domestic_flight1.get_flight_number()}: {domestic_flight1.get_available_seats()}\")\n",
    "    print(f\"Available seats on {international_flight1.get_flight_number()}: {international_flight1.get_available_seats()}\")\n",
    "    \n",
    "    # Displaying flight details\n",
    "    print(domestic_flight1)\n",
    "    print(international_flight1)\n"
   ]
  },
  {
   "cell_type": "markdown",
   "metadata": {},
   "source": [
    "***Task 11: Define a Python module named constants.py\n",
    "Create a Python module named constants.py with constants like pi and the speed of light.***"
   ]
  },
  {
   "cell_type": "code",
   "execution_count": 10,
   "metadata": {},
   "outputs": [],
   "source": [
    "# constants.py\n",
    "\n",
    "PI = 3.14159\n",
    "SPEED_OF_LIGHT = 299792458  # meters per second\n"
   ]
  },
  {
   "cell_type": "markdown",
   "metadata": {},
   "source": [
    "Task 12: Write a Python module named calculator.py\n",
    "\n",
    "Create a Python module named calculator.py containing functions for basic arithmetic operations."
   ]
  },
  {
   "cell_type": "code",
   "execution_count": null,
   "metadata": {},
   "outputs": [],
   "source": [
    "# calculator.py\n",
    "\n",
    "def add(x, y):\n",
    "    return x + y\n",
    "\n",
    "def subtract(x, y):\n",
    "    return x - y\n",
    "\n",
    "def multiply(x, y):\n",
    "    return x * y\n",
    "\n",
    "def divide(x, y):\n",
    "    if y != 0:\n",
    "        return x / y\n",
    "    else:\n",
    "        raise ValueError(\"Division by zero is not allowed.\")\n"
   ]
  },
  {
   "cell_type": "markdown",
   "metadata": {},
   "source": [
    "Task 13: Implement a Python package structure for ecommerce\n",
    "\n",
    "Implement a Python package structure named ecommerce containing modules for product management and order processing."
   ]
  },
  {
   "cell_type": "code",
   "execution_count": null,
   "metadata": {},
   "outputs": [],
   "source": [
    "ecommerce/\n",
    "    __init__.py\n",
    "    product_management.py\n",
    "    order_processing.py\n"
   ]
  },
  {
   "cell_type": "markdown",
   "metadata": {},
   "source": [
    "Task 14: Implement a Python module named string_utils.py\n",
    "\n",
    "Create a Python module named string_utils.py with functions for string manipulation."
   ]
  },
  {
   "cell_type": "code",
   "execution_count": 11,
   "metadata": {},
   "outputs": [],
   "source": [
    "# string_utils.py\n",
    "\n",
    "def reverse_string(s):\n",
    "    return s[::-1]\n",
    "\n",
    "def capitalize_string(s):\n",
    "    return s.capitalize()\n"
   ]
  },
  {
   "cell_type": "markdown",
   "metadata": {},
   "source": [
    "Task 15: Write a Python module named file_operations.py\n",
    "\n",
    "Create a Python module named file_operations.py with functions for reading, writing, and appending data to a file."
   ]
  },
  {
   "cell_type": "code",
   "execution_count": 12,
   "metadata": {},
   "outputs": [],
   "source": [
    "# file_operations.py\n",
    "\n",
    "def read_file(filename):\n",
    "    try:\n",
    "        with open(filename, 'r') as f:\n",
    "            return f.read()\n",
    "    except FileNotFoundError:\n",
    "        print(f\"Error: File '{filename}' not found.\")\n",
    "        return None\n",
    "\n",
    "def write_to_file(filename, data):\n",
    "    with open(filename, 'w') as f:\n",
    "        f.write(data)\n",
    "\n",
    "def append_to_file(filename, data):\n",
    "    with open(filename, 'a') as f:\n",
    "        f.write(data + '\\n')\n"
   ]
  },
  {
   "cell_type": "markdown",
   "metadata": {},
   "source": [
    "Task 16: Write a Python program to create employees.txt and write employee details"
   ]
  },
  {
   "cell_type": "code",
   "execution_count": 13,
   "metadata": {},
   "outputs": [
    {
     "name": "stdout",
     "output_type": "stream",
     "text": [
      "Employee details have been written to employees.txt.\n"
     ]
    }
   ],
   "source": [
    "# Task 16: Create employees.txt and write employee details\n",
    "\n",
    "employee_details = [\n",
    "    {\"name\": \"Alice\", \"age\": 30, \"salary\": 50000},\n",
    "    {\"name\": \"Bob\", \"age\": 25, \"salary\": 45000},\n",
    "    {\"name\": \"Charlie\", \"age\": 35, \"salary\": 60000},\n",
    "    {\"name\": \"David\", \"age\": 28, \"salary\": 52000},\n",
    "]\n",
    "\n",
    "# Writing employee details to employees.txt\n",
    "with open(\"employees.txt\", 'w') as file:\n",
    "    for employee in employee_details:\n",
    "        file.write(f\"Name: {employee['name']}, Age: {employee['age']}, Salary: {employee['salary']}\\n\")\n",
    "\n",
    "print(\"Employee details have been written to employees.txt.\")\n"
   ]
  },
  {
   "cell_type": "markdown",
   "metadata": {},
   "source": [
    "Task 17: Python script to read and display inventory.txt line by line"
   ]
  },
  {
   "cell_type": "code",
   "execution_count": 14,
   "metadata": {},
   "outputs": [
    {
     "name": "stdout",
     "output_type": "stream",
     "text": [
      "Error: File 'inventory.txt' not found.\n"
     ]
    }
   ],
   "source": [
    "# Task 17: Read and display inventory.txt line by line\n",
    "\n",
    "file_path = \"inventory.txt\"\n",
    "\n",
    "try:\n",
    "    with open(file_path, 'r') as file:\n",
    "        lines = file.readlines()\n",
    "        for line in lines:\n",
    "            print(line.strip())  # strip() to remove newline characters\n",
    "except FileNotFoundError:\n",
    "    print(f\"Error: File '{file_path}' not found.\")\n"
   ]
  },
  {
   "cell_type": "markdown",
   "metadata": {},
   "source": [
    "Task 18: Python script to calculate total expenses from expenses.txt"
   ]
  },
  {
   "cell_type": "code",
   "execution_count": 15,
   "metadata": {},
   "outputs": [
    {
     "name": "stdout",
     "output_type": "stream",
     "text": [
      "Error: File 'expenses.txt' not found.\n"
     ]
    }
   ],
   "source": [
    "# Task 18: Calculate total expenses from expenses.txt\n",
    "\n",
    "def calculate_total_expenses(filename):\n",
    "    total_expenses = 0\n",
    "    try:\n",
    "        with open(filename, 'r') as file:\n",
    "            lines = file.readlines()\n",
    "            for line in lines:\n",
    "                try:\n",
    "                    expense = float(line.strip())\n",
    "                    total_expenses += expense\n",
    "                except ValueError:\n",
    "                    print(f\"Skipping line '{line.strip()}' as it is not a valid expense.\")\n",
    "        return total_expenses\n",
    "    except FileNotFoundError:\n",
    "        print(f\"Error: File '{filename}' not found.\")\n",
    "        return None\n",
    "\n",
    "filename = \"expenses.txt\"\n",
    "total_expenses = calculate_total_expenses(filename)\n",
    "if total_expenses is not None:\n",
    "    print(f\"Total expenses from {filename}: ${total_expenses:.2f}\")\n"
   ]
  },
  {
   "cell_type": "markdown",
   "metadata": {},
   "source": [
    "Task 19: Python program to count word occurrences in paragraph.txt"
   ]
  },
  {
   "cell_type": "code",
   "execution_count": 16,
   "metadata": {},
   "outputs": [
    {
     "name": "stdout",
     "output_type": "stream",
     "text": [
      "Error: File 'paragraph.txt' not found.\n"
     ]
    }
   ],
   "source": [
    "# Task 19: Count word occurrences in paragraph.txt\n",
    "\n",
    "from collections import defaultdict\n",
    "\n",
    "def count_word_occurrences(filename):\n",
    "    word_count = defaultdict(int)\n",
    "    try:\n",
    "        with open(filename, 'r') as file:\n",
    "            text = file.read().lower()  # Read text and convert to lowercase\n",
    "            words = text.split()\n",
    "            for word in words:\n",
    "                word_count[word] += 1\n",
    "        \n",
    "        # Display results in alphabetical order\n",
    "        sorted_words = sorted(word_count.items(), key=lambda x: x[0])\n",
    "        for word, count in sorted_words:\n",
    "            print(f\"{word}: {count}\")\n",
    "    \n",
    "    except FileNotFoundError:\n",
    "        print(f\"Error: File '{filename}' not found.\")\n",
    "\n",
    "filename = \"paragraph.txt\"\n",
    "count_word_occurrences(filename)\n"
   ]
  },
  {
   "cell_type": "markdown",
   "metadata": {},
   "source": [
    "Task 20: Measures of Central Tendency and Measures of Dispersion\n",
    "\n",
    "***Measures of Central Tendency:***\n",
    "\n",
    "Measures of central tendency are statistics that indicate the center or average of a data set. The commonly used measures include:\n",
    "\n",
    "Mean: The average of all values in the data set, calculated by summing all values and dividing by the number of values.\n",
    "\n",
    "Median: The middle value of a data set when arranged in ascending order. If there is an even number of data points, the median is the average of the two middle values.\n",
    "\n",
    "Mode: The most frequently occurring value(s) in the data set.\n",
    "\n",
    "\n",
    "***Measures of Dispersion:***\n",
    "\n",
    "Measures of dispersion quantify the spread or variability of data points in a data set. They include:\n",
    "\n",
    "Range: The difference between the maximum and minimum values in the data set.\n",
    "\n",
    "Variance: The average of the squared differences from the mean. It measures how far each number in the set is from the mean.\n",
    "\n",
    "Standard Deviation: The square root of the variance. It provides a measure of the amount of variation or dispersion in a set of values."
   ]
  },
  {
   "cell_type": "markdown",
   "metadata": {},
   "source": [
    "***24. Calculate Coefficient of Correlation using Karl Pearson’s Method***"
   ]
  },
  {
   "cell_type": "code",
   "execution_count": 17,
   "metadata": {},
   "outputs": [
    {
     "name": "stdout",
     "output_type": "stream",
     "text": [
      "Pearson's correlation coefficient (r) between Accountancy and Statistics marks: 0.9031\n"
     ]
    }
   ],
   "source": [
    "# Example data (marks obtained by 10 students in Accountancy and Statistics)\n",
    "accountancy_marks = [45, 70, 65, 30, 90, 40, 50, 75, 85, 60]\n",
    "statistics_marks = [35, 90, 70, 40, 95, 40, 60, 80, 80, 50]\n",
    "\n",
    "# Calculate mean of Accountancy marks (x̄) and Statistics marks (ȳ)\n",
    "mean_accountancy = sum(accountancy_marks) / len(accountancy_marks)\n",
    "mean_statistics = sum(statistics_marks) / len(statistics_marks)\n",
    "\n",
    "# Calculate standard deviation of Accountancy marks (σx) and Statistics marks (σy)\n",
    "import math\n",
    "std_dev_accountancy = math.sqrt(sum((x - mean_accountancy)**2 for x in accountancy_marks) / len(accountancy_marks))\n",
    "std_dev_statistics = math.sqrt(sum((y - mean_statistics)**2 for y in statistics_marks) / len(statistics_marks))\n",
    "\n",
    "# Calculate covariance (σxy)\n",
    "covariance = sum((accountancy_marks[i] - mean_accountancy) * (statistics_marks[i] - mean_statistics) for i in range(len(accountancy_marks))) / len(accountancy_marks)\n",
    "\n",
    "# Calculate Pearson's correlation coefficient (r)\n",
    "correlation_coefficient = covariance / (std_dev_accountancy * std_dev_statistics)\n",
    "\n",
    "print(f\"Pearson's correlation coefficient (r) between Accountancy and Statistics marks: {correlation_coefficient:.4f}\")\n"
   ]
  },
  {
   "cell_type": "markdown",
   "metadata": {},
   "source": [
    "39. Creating a basic Flask route that displays \"Hello, World!\" on the homepage"
   ]
  },
  {
   "cell_type": "code",
   "execution_count": null,
   "metadata": {},
   "outputs": [],
   "source": [
    "# pip install Flask"
   ]
  },
  {
   "cell_type": "code",
   "execution_count": null,
   "metadata": {},
   "outputs": [],
   "source": [
    "from flask import Flask\n",
    "\n",
    "# Create a Flask application\n",
    "app = Flask(__name__)\n",
    "\n",
    "# Define a route for the homepage\n",
    "@app.route('/')\n",
    "def hello_world():\n",
    "    return 'Hello, World!'\n",
    "\n",
    "# Run the Flask application\n",
    "if __name__ == '__main__':\n",
    "    app.run(debug=True)\n"
   ]
  },
  {
   "cell_type": "markdown",
   "metadata": {},
   "source": [
    "40. Setting up a Flask application to handle form submissions using POST requests"
   ]
  },
  {
   "cell_type": "code",
   "execution_count": null,
   "metadata": {},
   "outputs": [],
   "source": [
    "<!-- templates/form.html -->\n",
    "<form method=\"POST\" action=\"/submit\">\n",
    "    <input type=\"text\" name=\"username\" placeholder=\"Enter your username\">\n",
    "    <button type=\"submit\">Submit</button>\n",
    "</form>\n"
   ]
  },
  {
   "cell_type": "code",
   "execution_count": null,
   "metadata": {},
   "outputs": [],
   "source": [
    "from flask import Flask, request, render_template\n",
    "\n",
    "app = Flask(__name__)\n",
    "\n",
    "# Route to display the form\n",
    "@app.route('/form', methods=['GET'])\n",
    "def show_form():\n",
    "    return render_template('form.html')\n",
    "\n",
    "# Route to handle form submission\n",
    "@app.route('/submit', methods=['POST'])\n",
    "def submit_form():\n",
    "    username = request.form['username']\n",
    "    return f'Hello, {username}!'\n",
    "\n",
    "if __name__ == '__main__':\n",
    "    app.run(debug=True)\n"
   ]
  },
  {
   "cell_type": "markdown",
   "metadata": {},
   "source": [
    "41. Writing a Flask route that accepts a parameter in the URL and displays it"
   ]
  },
  {
   "cell_type": "code",
   "execution_count": null,
   "metadata": {},
   "outputs": [],
   "source": [
    "from flask import Flask\n",
    "\n",
    "app = Flask(__name__)\n",
    "\n",
    "# Route that accepts a parameter in the URL\n",
    "@app.route('/greet/<name>')\n",
    "def greet(name):\n",
    "    return f'Hello, {name}!'\n",
    "\n",
    "if __name__ == '__main__':\n",
    "    app.run(debug=True)\n"
   ]
  },
  {
   "cell_type": "markdown",
   "metadata": {},
   "source": [
    "42. Implementing user authentication in a Flask application"
   ]
  },
  {
   "cell_type": "code",
   "execution_count": null,
   "metadata": {},
   "outputs": [],
   "source": [
    "from flask import Flask, render_template, redirect, url_for\n",
    "from flask_login import LoginManager, UserMixin, login_user, logout_user, login_required\n",
    "\n",
    "app = Flask(__name__)\n",
    "app.secret_key = 'your_secret_key'  # Replace with a secure secret key\n",
    "\n",
    "login_manager = LoginManager()\n",
    "login_manager.init_app(app)\n",
    "\n",
    "# Example user class (replace with your User model if using SQLAlchemy)\n",
    "class User(UserMixin):\n",
    "    def __init__(self, user_id):\n",
    "        self.id = user_id\n",
    "\n",
    "# Example user database (replace with your database handling)\n",
    "users = {'user_id': User('user_id')}\n",
    "\n",
    "# Flask-Login user loader function\n",
    "@login_manager.user_loader\n",
    "def load_user(user_id):\n",
    "    return users.get(user_id)\n",
    "\n",
    "# Login route\n",
    "@app.route('/login')\n",
    "def login():\n",
    "    user_id = 'user_id'  # Replace with actual user authentication logic\n",
    "    user = users.get(user_id)\n",
    "    if user:\n",
    "        login_user(user)\n",
    "        return 'Logged in successfully'\n",
    "    else:\n",
    "        return 'Invalid credentials'\n",
    "\n",
    "# Protected route requiring login\n",
    "@app.route('/protected')\n",
    "@login_required\n",
    "def protected():\n",
    "    return 'Protected content'\n",
    "\n",
    "# Logout route\n",
    "@app.route('/logout')\n",
    "@login_required\n",
    "def logout():\n",
    "    logout_user()\n",
    "    return 'Logged out successfully'\n",
    "\n",
    "if __name__ == '__main__':\n",
    "    app.run(debug=True)\n"
   ]
  },
  {
   "cell_type": "markdown",
   "metadata": {},
   "source": [
    "43. Connecting a Flask app to a SQLite database using SQLAlchemy"
   ]
  },
  {
   "cell_type": "code",
   "execution_count": null,
   "metadata": {},
   "outputs": [],
   "source": [
    "pip install Flask-SQLAlchemy"
   ]
  },
  {
   "cell_type": "code",
   "execution_count": null,
   "metadata": {},
   "outputs": [],
   "source": [
    "from flask import Flask\n",
    "from flask_sqlalchemy import SQLAlchemy\n",
    "\n",
    "app = Flask(__name__)\n",
    "app.config['SQLALCHEMY_DATABASE_URI'] = 'sqlite:///your_database.db'  # SQLite database file path\n",
    "app.config['SQLALCHEMY_TRACK_MODIFICATIONS'] = False  # Disable SQLAlchemy modification tracking\n",
    "\n",
    "db = SQLAlchemy(app)\n",
    "\n",
    "# Example model\n",
    "class User(db.Model):\n",
    "    id = db.Column(db.Integer, primary_key=True)\n",
    "    username = db.Column(db.String(80), unique=True, nullable=False)\n",
    "    email = db.Column(db.String(120), unique=True, nullable=False)\n",
    "\n",
    "    def __repr__(self):\n",
    "        return '<User %r>' % self.username\n",
    "\n",
    "if __name__ == '__main__':\n",
    "    app.run(debug=True)\n"
   ]
  },
  {
   "cell_type": "code",
   "execution_count": null,
   "metadata": {},
   "outputs": [],
   "source": [
    "# Create all tables (if not already created)\n",
    "with app.app_context():\n",
    "    db.create_all()\n"
   ]
  },
  {
   "cell_type": "markdown",
   "metadata": {},
   "source": [
    "44. Creating a RESTful API endpoint in Flask that returns JSON data"
   ]
  },
  {
   "cell_type": "code",
   "execution_count": null,
   "metadata": {},
   "outputs": [],
   "source": [
    "from flask import Flask, jsonify, request\n",
    "\n",
    "app = Flask(__name__)\n",
    "\n",
    "# Example data (replace with actual data handling)\n",
    "books = [\n",
    "    {'id': 1, 'title': 'Book 1', 'author': 'Author 1'},\n",
    "    {'id': 2, 'title': 'Book 2', 'author': 'Author 2'},\n",
    "    {'id': 3, 'title': 'Book 3', 'author': 'Author 3'},\n",
    "]\n",
    "\n",
    "# Route to get all books (GET request)\n",
    "@app.route('/api/books', methods=['GET'])\n",
    "def get_books():\n",
    "    return jsonify(books)\n",
    "\n",
    "# Route to get a specific book by ID (GET request)\n",
    "@app.route('/api/books/<int:book_id>', methods=['GET'])\n",
    "def get_book(book_id):\n",
    "    book = next((book for book in books if book['id'] == book_id), None)\n",
    "    if book:\n",
    "        return jsonify(book)\n",
    "    else:\n",
    "        return jsonify({'message': 'Book not found'}), 404\n",
    "\n",
    "# Route to add a new book (POST request)\n",
    "@app.route('/api/books', methods=['POST'])\n",
    "def add_book():\n",
    "    new_book = {'id': len(books) + 1, 'title': request.json['title'], 'author': request.json['author']}\n",
    "    books.append(new_book)\n",
    "    return jsonify(new_book), 201\n",
    "\n",
    "# Route to update an existing book by ID (PUT request)\n",
    "@app.route('/api/books/<int:book_id>', methods=['PUT'])\n",
    "def update_book(book_id):\n",
    "    book = next((book for book in books if book['id'] == book_id), None)\n",
    "    if book:\n",
    "        book.update(request.json)\n",
    "        return jsonify(book), 200\n",
    "    else:\n",
    "        return jsonify({'message': 'Book not found'}), 404\n",
    "\n",
    "# Route to delete a book by ID (DELETE request)\n",
    "@app.route('/api/books/<int:book_id>', methods=['DELETE'])\n",
    "def delete_book(book_id):\n",
    "    global books\n",
    "    books = [book for book in books if book['id'] != book_id]\n",
    "    return jsonify({'message': 'Book deleted'}), 200\n",
    "\n",
    "if __name__ == '__main__':\n",
    "    app.run(debug=True)\n"
   ]
  },
  {
   "cell_type": "markdown",
   "metadata": {},
   "source": [
    "***49. Make a fully functional web application using flask, Mangodb. Signup,Signin page.And after successfully\n",
    "login .Say hello Geeks message at webpage.***"
   ]
  },
  {
   "cell_type": "code",
   "execution_count": null,
   "metadata": {},
   "outputs": [],
   "source": [
    "pip install Flask Flask-PyMongo\n",
    "\n",
    "\n",
    "# app.py\n",
    "\n",
    "from flask import Flask, render_template, request, redirect, url_for, session\n",
    "from flask_pymongo import PyMongo\n",
    "from bson import ObjectId\n",
    "import bcrypt\n",
    "\n",
    "app = Flask(__name__)\n",
    "app.secret_key = 'your_secret_key'  # Replace with a secure secret key\n",
    "\n",
    "# Configure MongoDB connection\n",
    "app.config['MONGO_URI'] = 'mongodb://localhost:27017/mydatabase'\n",
    "mongo = PyMongo(app)\n",
    "\n",
    "# Route for homepage\n",
    "@app.route('/')\n",
    "def index():\n",
    "    return render_template('index.html')\n",
    "\n",
    "# Route for signup\n",
    "@app.route('/signup', methods=['GET', 'POST'])\n",
    "def signup():\n",
    "    if request.method == 'POST':\n",
    "        users = mongo.db.users\n",
    "        existing_user = users.find_one({'username': request.form['username']})\n",
    "\n",
    "        if existing_user is None:\n",
    "            # Hash the password before storing\n",
    "            hashed_password = bcrypt.hashpw(request.form['password'].encode('utf-8'), bcrypt.gensalt())\n",
    "            users.insert_one({'username': request.form['username'], 'password': hashed_password})\n",
    "            session['username'] = request.form['username']\n",
    "            return redirect(url_for('profile'))\n",
    "        \n",
    "        return 'That username already exists!'\n",
    "\n",
    "    return render_template('signup.html')\n",
    "\n",
    "# Route for signin\n",
    "@app.route('/signin', methods=['GET', 'POST'])\n",
    "def signin():\n",
    "    if request.method == 'POST':\n",
    "        users = mongo.db.users\n",
    "        login_user = users.find_one({'username': request.form['username']})\n",
    "\n",
    "        if login_user:\n",
    "            if bcrypt.checkpw(request.form['password'].encode('utf-8'), login_user['password']):\n",
    "                session['username'] = request.form['username']\n",
    "                return redirect(url_for('profile'))\n",
    "        \n",
    "        return 'Invalid username/password combination'\n",
    "\n",
    "    return render_template('signin.html')\n",
    "\n",
    "# Route for user profile\n",
    "@app.route('/profile')\n",
    "def profile():\n",
    "    if 'username' in session:\n",
    "        return render_template('profile.html', username=session['username'])\n",
    "\n",
    "    return redirect(url_for('signin'))\n",
    "\n",
    "# Route for logout\n",
    "@app.route('/logout')\n",
    "def logout():\n",
    "    session.clear()\n",
    "    return redirect(url_for('index'))\n",
    "\n",
    "if __name__ == '__main__':\n",
    "    app.run(debug=True)\n"
   ]
  },
  {
   "cell_type": "code",
   "execution_count": null,
   "metadata": {},
   "outputs": [],
   "source": [
    "<!-- templates/profile.html -->\n",
    "\n",
    "<!DOCTYPE html>\n",
    "<html lang=\"en\">\n",
    "<head>\n",
    "    <meta charset=\"UTF-8\">\n",
    "    <meta http-equiv=\"X-UA-Compatible\" content=\"IE=edge\">\n",
    "    <meta name=\"viewport\" content=\"width=device-width, initial-scale=1.0\">\n",
    "    <title>User Profile</title>\n",
    "</head>\n",
    "<body>\n",
    "    <h1>Hello, {{ username }}</h1>\n",
    "    <a href=\"/logout\">Logout</a>\n",
    "</body>\n",
    "</html>\n"
   ]
  },
  {
   "cell_type": "markdown",
   "metadata": {},
   "source": [
    "2. Creating a MySQL Database and Table:\n",
    "\n",
    "To create a MySQL database named Travel_Planner and a table named bookings with the specified attributes (user_id INT, flight_id INT, hotel_id INT, activity_id INT, booking_date DATE), and then populate it with dummy values, you would typically use MySQL commands. Here’s an example of how you might do it:"
   ]
  },
  {
   "cell_type": "code",
   "execution_count": null,
   "metadata": {},
   "outputs": [],
   "source": [
    "-- Create database\n",
    "CREATE DATABASE IF NOT EXISTS Travel_Planner;\n",
    "\n",
    "-- Use the database\n",
    "USE Travel_Planner;\n",
    "\n",
    "-- Create bookings table\n",
    "CREATE TABLE IF NOT EXISTS bookings (\n",
    "    user_id INT,\n",
    "    flight_id INT,\n",
    "    hotel_id INT,\n",
    "    activity_id INT,\n",
    "    booking_date DATE\n",
    ");\n",
    "\n",
    "-- Insert dummy values into the table\n",
    "INSERT INTO bookings (user_id, flight_id, hotel_id, activity_id, booking_date)\n",
    "VALUES\n",
    "    (1, 101, 201, 301, '2024-07-01'),\n",
    "    (2, 102, 202, 302, '2024-07-02'),\n",
    "    (3, 103, 203, 303, '2024-07-03');\n"
   ]
  },
  {
   "cell_type": "markdown",
   "metadata": {},
   "source": [
    "3. Reading the Contents of the Table using Pandas DataFrame:\n",
    "\n",
    "Once you have MySQL installed and running, and you've connected to your Travel_Planner database using Python and SQLAlchemy, you can use Pandas to read the contents of the bookings table into a DataFrame:"
   ]
  },
  {
   "cell_type": "code",
   "execution_count": null,
   "metadata": {},
   "outputs": [],
   "source": [
    "import pandas as pd\n",
    "from sqlalchemy import create_engine\n",
    "\n",
    "# Replace with your MySQL username, password, and host\n",
    "username = 'your_username'\n",
    "password = 'your_password'\n",
    "host = 'localhost'\n",
    "database = 'Travel_Planner'\n",
    "\n",
    "# Create MySQL connection\n",
    "engine = create_engine(f'mysql+mysqlconnector://{username}:{password}@{host}/{database}')\n",
    "\n",
    "# Read bookings table into a DataFrame\n",
    "df = pd.read_sql_table('bookings', con=engine)\n",
    "\n",
    "# Display the DataFrame\n",
    "print(df)\n"
   ]
  }
 ],
 "metadata": {
  "kernelspec": {
   "display_name": "Python 3",
   "language": "python",
   "name": "python3"
  },
  "language_info": {
   "codemirror_mode": {
    "name": "ipython",
    "version": 3
   },
   "file_extension": ".py",
   "mimetype": "text/x-python",
   "name": "python",
   "nbconvert_exporter": "python",
   "pygments_lexer": "ipython3",
   "version": "3.10.7"
  }
 },
 "nbformat": 4,
 "nbformat_minor": 2
}
