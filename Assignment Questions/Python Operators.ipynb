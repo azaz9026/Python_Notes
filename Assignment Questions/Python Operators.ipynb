{
 "cells": [
  {
   "cell_type": "markdown",
   "metadata": {},
   "source": [
    "Python Operators"
   ]
  },
  {
   "cell_type": "code",
   "execution_count": 1,
   "metadata": {},
   "outputs": [
    {
     "name": "stdout",
     "output_type": "stream",
     "text": [
      "Sum: 4.0\n",
      "Difference: 0.0\n",
      "Product: 4.0\n",
      "Quotient: 1.0\n"
     ]
    }
   ],
   "source": [
    "# Function to calculate sum, difference, product, and quotient\n",
    "def calculate_operations(num1, num2):\n",
    "    sum_result = num1 + num2\n",
    "    difference_result = num1 - num2\n",
    "    product_result = num1 * num2\n",
    "    \n",
    "    # Checking if the second number is not zero to avoid division by zero error\n",
    "    if num2 != 0:\n",
    "        quotient_result = num1 / num2\n",
    "    else:\n",
    "        quotient_result = \"Undefined (division by zero)\"\n",
    "    \n",
    "    return sum_result, difference_result, product_result, quotient_result\n",
    "\n",
    "# Example usage\n",
    "number1 = float(input(\"Enter the first number: \"))\n",
    "number2 = float(input(\"Enter the second number: \"))\n",
    "\n",
    "sum_result, difference_result, product_result, quotient_result = calculate_operations(number1, number2)\n",
    "\n",
    "print(\"Sum:\", sum_result)\n",
    "print(\"Difference:\", difference_result)\n",
    "print(\"Product:\", product_result)\n",
    "print(\"Quotient:\", quotient_result)\n"
   ]
  },
  {
   "cell_type": "code",
   "execution_count": 2,
   "metadata": {},
   "outputs": [
    {
     "name": "stdout",
     "output_type": "stream",
     "text": [
      "Result of arithmetic assignment operations on the variable: 6.0\n"
     ]
    }
   ],
   "source": [
    "# Define a variable\n",
    "variable = 10\n",
    "\n",
    "# Perform arithmetic assignment operations on the variable\n",
    "variable += 5  # Add 5 to the variable\n",
    "variable -= 3  # Subtract 3 from the variable\n",
    "variable *= 2  # Multiply the variable by 2\n",
    "variable /= 4  # Divide the variable by 4\n",
    "\n",
    "# Print the result\n",
    "print(\"Result of arithmetic assignment operations on the variable:\", variable)\n"
   ]
  },
  {
   "cell_type": "code",
   "execution_count": 3,
   "metadata": {},
   "outputs": [
    {
     "name": "stdout",
     "output_type": "stream",
     "text": [
      "2.0 is equal to 2.0.\n"
     ]
    }
   ],
   "source": [
    "# Function to compare two numbers and print the results\n",
    "def compare_numbers(num1, num2):\n",
    "    if num1 > num2:\n",
    "        print(f\"{num1} is greater than {num2}.\")\n",
    "    elif num1 < num2:\n",
    "        print(f\"{num1} is less than {num2}.\")\n",
    "    else:\n",
    "        print(f\"{num1} is equal to {num2}.\")\n",
    "\n",
    "# Example usage\n",
    "number1 = float(input(\"Enter the first number: \"))\n",
    "number2 = float(input(\"Enter the second number: \"))\n",
    "\n",
    "compare_numbers(number1, number2)\n",
    "\n"
   ]
  },
  {
   "cell_type": "code",
   "execution_count": 4,
   "metadata": {},
   "outputs": [
    {
     "name": "stdout",
     "output_type": "stream",
     "text": [
      "Both numbers are positive.\n"
     ]
    }
   ],
   "source": [
    "# Function to check conditions using logical operators\n",
    "def check_conditions(num1, num2):\n",
    "    if num1 > 0 and num2 > 0:\n",
    "        print(\"Both numbers are positive.\")\n",
    "    elif num1 > 0 or num2 > 0:\n",
    "        print(\"At least one number is positive.\")\n",
    "    elif not (num1 == 0 and num2 == 0):\n",
    "        print(\"At least one number is non-zero.\")\n",
    "    else:\n",
    "        print(\"Both numbers are zero.\")\n",
    "\n",
    "# Example usage\n",
    "number1 = int(input(\"Enter the first number: \"))\n",
    "number2 = int(input(\"Enter the second number: \"))\n",
    "\n",
    "check_conditions(number1, number2)\n"
   ]
  },
  {
   "cell_type": "code",
   "execution_count": 5,
   "metadata": {},
   "outputs": [
    {
     "name": "stdout",
     "output_type": "stream",
     "text": [
      "Identity of variable1 and variable2: False\n",
      "Identity of variable1 and variable3: True\n"
     ]
    }
   ],
   "source": [
    "# Define variables\n",
    "variable1 = [1, 2, 3]\n",
    "variable2 = [1, 2, 3]\n",
    "variable3 = variable1\n",
    "\n",
    "# Check identity of variables\n",
    "print(\"Identity of variable1 and variable2:\", variable1 is variable2)\n",
    "print(\"Identity of variable1 and variable3:\", variable1 is variable3)\n"
   ]
  },
  {
   "cell_type": "code",
   "execution_count": 6,
   "metadata": {},
   "outputs": [
    {
     "name": "stdout",
     "output_type": "stream",
     "text": [
      "Bitwise AND: 0\n",
      "Bitwise OR: 15\n",
      "Bitwise XOR: 15\n",
      "Bitwise NOT of num1: -11\n",
      "Bitwise left shift of num1 by 1: 20\n",
      "Bitwise right shift of num2 by 1: 2\n"
     ]
    }
   ],
   "source": [
    "# Define two integers\n",
    "num1 = 10  # Binary: 1010\n",
    "num2 = 5   # Binary: 0101\n",
    "\n",
    "# Bitwise AND operation\n",
    "bitwise_and = num1 & num2  # Result: 0000 (decimal: 0)\n",
    "print(\"Bitwise AND:\", bitwise_and)\n",
    "\n",
    "# Bitwise OR operation\n",
    "bitwise_or = num1 | num2   # Result: 1111 (decimal: 15)\n",
    "print(\"Bitwise OR:\", bitwise_or)\n",
    "\n",
    "# Bitwise XOR operation\n",
    "bitwise_xor = num1 ^ num2  # Result: 1111 (decimal: 15)\n",
    "print(\"Bitwise XOR:\", bitwise_xor)\n",
    "\n",
    "# Bitwise NOT operation (complement)\n",
    "bitwise_not_num1 = ~num1   # Result: 11111111111111111111111111110101 (decimal: -11 in 2's complement form)\n",
    "print(\"Bitwise NOT of num1:\", bitwise_not_num1)\n",
    "\n",
    "# Bitwise left shift operation\n",
    "left_shift = num1 << 1     # Result: 10100 (decimal: 20)\n",
    "print(\"Bitwise left shift of num1 by 1:\", left_shift)\n",
    "\n",
    "# Bitwise right shift operation\n",
    "right_shift = num2 >> 1    # Result: 0001 (decimal: 1)\n",
    "print(\"Bitwise right shift of num2 by 1:\", right_shift)\n"
   ]
  },
  {
   "cell_type": "code",
   "execution_count": 7,
   "metadata": {},
   "outputs": [
    {
     "name": "stdout",
     "output_type": "stream",
     "text": [
      "Number with changed sign: -10\n"
     ]
    }
   ],
   "source": [
    "# Define a number\n",
    "number = 10\n",
    "\n",
    "# Change the sign of the number using unary operator\n",
    "number = -number\n",
    "\n",
    "# Print the result\n",
    "print(\"Number with changed sign:\", number)\n"
   ]
  },
  {
   "cell_type": "code",
   "execution_count": 8,
   "metadata": {},
   "outputs": [
    {
     "name": "stdout",
     "output_type": "stream",
     "text": [
      "Condition is True\n"
     ]
    }
   ],
   "source": [
    "# Define a condition\n",
    "condition = True\n",
    "\n",
    "# Assign values based on the condition using the ternary operator\n",
    "result = \"Condition is True\" if condition else \"Condition is False\"\n",
    "\n",
    "# Print the result\n",
    "print(result)\n"
   ]
  }
 ],
 "metadata": {
  "kernelspec": {
   "display_name": "Python 3",
   "language": "python",
   "name": "python3"
  },
  "language_info": {
   "codemirror_mode": {
    "name": "ipython",
    "version": 3
   },
   "file_extension": ".py",
   "mimetype": "text/x-python",
   "name": "python",
   "nbconvert_exporter": "python",
   "pygments_lexer": "ipython3",
   "version": "3.10.7"
  }
 },
 "nbformat": 4,
 "nbformat_minor": 2
}
