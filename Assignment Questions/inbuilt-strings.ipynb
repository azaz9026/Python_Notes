{
 "cells": [
  {
   "cell_type": "markdown",
   "metadata": {},
   "source": [
    "***inbuilt-strings***\n",
    "\n",
    "***Assignment Questions***"
   ]
  },
  {
   "cell_type": "markdown",
   "metadata": {},
   "source": [
    "\n",
    "\n",
    "1. What is the purpose of the len() function in Python, and how can it be used with strings?\n",
    "\n",
    "\n",
    "The len() function in Python is used to determine the length of an object, such as a string, list, tuple, dictionary, etc. Specifically with strings, len() returns the number of characters in the string, including spaces and special characters.\n",
    "\n"
   ]
  },
  {
   "cell_type": "code",
   "execution_count": 1,
   "metadata": {},
   "outputs": [
    {
     "name": "stdout",
     "output_type": "stream",
     "text": [
      "13\n"
     ]
    }
   ],
   "source": [
    "my_string = \"Hello, World!\"\n",
    "length = len(my_string)\n",
    "print(length)  # Output: 13\n"
   ]
  },
  {
   "cell_type": "markdown",
   "metadata": {},
   "source": [
    "2. How can you concatenate two or more strings in Python, and can you provide an example of string \n",
    "concatenation?\n",
    "\n",
    "\n",
    "\n",
    "In Python, you can concatenate two or more strings using the + operator or the str.join() method."
   ]
  },
  {
   "cell_type": "code",
   "execution_count": 2,
   "metadata": {},
   "outputs": [
    {
     "name": "stdout",
     "output_type": "stream",
     "text": [
      "Hello, World!\n"
     ]
    }
   ],
   "source": [
    "string1 = \"Hello, \"\n",
    "string2 = \"World!\"\n",
    "concatenated_string = string1 + string2\n",
    "print(concatenated_string)  # Output: Hello, World!\n"
   ]
  },
  {
   "cell_type": "code",
   "execution_count": 4,
   "metadata": {},
   "outputs": [
    {
     "name": "stdout",
     "output_type": "stream",
     "text": [
      "Hello, World!\n"
     ]
    }
   ],
   "source": [
    "strings_list = [\"Hello, \", \"World!\"]\n",
    "concatenated_string = \"\".join(strings_list)\n",
    "print(concatenated_string)  # Output: Hello, World!\n"
   ]
  },
  {
   "cell_type": "markdown",
   "metadata": {},
   "source": [
    "3. What is string slicing in Python, and how can you extract a portion of a string using this method?\n",
    "\n",
    "\n",
    "String slicing in Python refers to the process of extracting a portion of a string by specifying a range of indices. This allows you to create a new string that contains only the characters within that specified range."
   ]
  },
  {
   "cell_type": "code",
   "execution_count": 5,
   "metadata": {},
   "outputs": [
    {
     "name": "stdout",
     "output_type": "stream",
     "text": [
      "World\n"
     ]
    }
   ],
   "source": [
    "my_string = \"Hello, World!\"\n",
    "substring = my_string[7:12] \n",
    "print(substring)  # Output: World\n"
   ]
  },
  {
   "cell_type": "markdown",
   "metadata": {},
   "source": [
    "4. How can you change the case of a string in Python, and can you provide examples of both making a string \n",
    "all uppercase and all lowercase?\n",
    "\n",
    "\n",
    "\n",
    "In Python, you can change the case of a string using the upper() method to convert the entire string to\n",
    "uppercase, and the lower() method to convert the entire string to lowercase."
   ]
  },
  {
   "cell_type": "code",
   "execution_count": 6,
   "metadata": {},
   "outputs": [
    {
     "name": "stdout",
     "output_type": "stream",
     "text": [
      "HELLO, WORLD!\n",
      "hello, world!\n"
     ]
    }
   ],
   "source": [
    "# Converting a string to all uppercase\n",
    "my_string = \"Hello, World!\"\n",
    "uppercase_string = my_string.upper()\n",
    "print(uppercase_string)  # Output: HELLO, WORLD!\n",
    "\n",
    "# Converting a string to all lowercase\n",
    "my_string = \"Hello, World!\"\n",
    "lowercase_string = my_string.lower()\n",
    "print(lowercase_string)  # Output: hello, world!\n"
   ]
  },
  {
   "cell_type": "markdown",
   "metadata": {},
   "source": [
    "5. What does the split() method do in Python, and how can you split a string using a specific delimiter?\n",
    "\n",
    "\n",
    "In Python, the split() method is used to split a string into a list of substrings based on a specified delimiter"
   ]
  },
  {
   "cell_type": "code",
   "execution_count": 7,
   "metadata": {},
   "outputs": [
    {
     "name": "stdout",
     "output_type": "stream",
     "text": [
      "['apple', 'banana', 'orange']\n"
     ]
    }
   ],
   "source": [
    "my_string = \"apple,banana,orange\"\n",
    "fruits_list = my_string.split(\",\")  # Splitting the string using comma as delimiter\n",
    "print(fruits_list)  # Output: ['apple', 'banana', 'orange']\n"
   ]
  }
 ],
 "metadata": {
  "kernelspec": {
   "display_name": "Python 3",
   "language": "python",
   "name": "python3"
  },
  "language_info": {
   "codemirror_mode": {
    "name": "ipython",
    "version": 3
   },
   "file_extension": ".py",
   "mimetype": "text/x-python",
   "name": "python",
   "nbconvert_exporter": "python",
   "pygments_lexer": "ipython3",
   "version": "3.10.7"
  }
 },
 "nbformat": 4,
 "nbformat_minor": 2
}
