{
 "cells": [
  {
   "cell_type": "code",
   "execution_count": 5,
   "metadata": {},
   "outputs": [
    {
     "name": "stdout",
     "output_type": "stream",
     "text": [
      "1\n",
      "2\n",
      "3\n",
      "4\n",
      "5\n",
      "Hello, Alice!\n",
      "8\n"
     ]
    }
   ],
   "source": [
    "\n",
    "\n",
    "'''Significance: Used to create a loop that continues until a certain condition is met.\n",
    "Example:\n",
    "python\n",
    "Copy code'''\n",
    "\n",
    "i = 1\n",
    "while i < 6:\n",
    "    print(i)\n",
    "    i += 1\n",
    "\n",
    "\n",
    "'''Significance: Used to define a function in Python.\n",
    "Example:\n",
    "python\n",
    "Copy code'''\n",
    "\n",
    "def greet(name):\n",
    "    print(\"Hello, \" + name + \"!\")\n",
    "greet(\"Alice\")\n",
    "\n",
    "\n",
    "'''Significance: Used to exit a function and return a value.\n",
    "Example:\n",
    "python\n",
    "Copy code'''\n",
    "\n",
    "def add(x, y):\n",
    "    return x + y\n",
    "result = add(3, 5)\n",
    "print(result)  "
   ]
  },
  {
   "cell_type": "code",
   "execution_count": 6,
   "metadata": {},
   "outputs": [
    {
     "name": "stdout",
     "output_type": "stream",
     "text": [
      "Hello, Alice!\n"
     ]
    }
   ],
   "source": [
    "def greet(name):\n",
    "    print(\"Hello, \" + name + \"!\")\n",
    "greet(\"Alice\")"
   ]
  },
  {
   "cell_type": "code",
   "execution_count": 1,
   "metadata": {},
   "outputs": [
    {
     "name": "stdout",
     "output_type": "stream",
     "text": [
      "8\n"
     ]
    }
   ],
   "source": [
    "def add(x, y):\n",
    "    return x + y\n",
    "result = add(3, 5)\n",
    "print(result)  # Output: 8"
   ]
  },
  {
   "cell_type": "markdown",
   "metadata": {},
   "source": [
    "These are just a few examples of Python keywords. Python has several other keywords like else, elif, import, class, pass, and, or, not, etc., each serving its own purpose in the language's syntax and semantics"
   ]
  },
  {
   "cell_type": "code",
   "execution_count": 8,
   "metadata": {},
   "outputs": [],
   "source": [
    "# Valid identifiers\n",
    "my_variable = 10\n",
    "MyVariable = 20\n",
    "_my_variable = 30\n",
    "myVariable123 = 40\n",
    "MY_VARIABLE = 50\n",
    "\n",
    "# Invalid identifiers (due to starting with a digit)\n",
    "# 123variable = 60\n",
    "\n",
    "# Invalid identifiers (due to using a reserved keyword)\n",
    "# if = 70\n",
    "\n",
    "# Invalid identifiers (due to containing special characters)\n",
    "# my-variable = 80\n",
    "\n",
    "# Identifiers starting with a single underscore are considered weakly private\n",
    "_my_internal_variable = 90\n",
    "\n",
    "# Identifiers starting and ending with double underscores are considered special methods\n",
    "class MyClass:\n",
    "    def __init__(self):\n",
    "        self.__private_variable = 100\n",
    "\n",
    "# Identifiers starting with double underscores but not ending with more than one underscore\n",
    "class SubClass(MyClass):\n",
    "    def __init__(self):\n",
    "        super().__init__()\n",
    "        self.__private_variable = 200\n",
    "\n",
    "# Identifiers containing only underscores are valid\n",
    "__ = 300\n"
   ]
  },
  {
   "cell_type": "markdown",
   "metadata": {},
   "source": [
    "\n",
    "Comments in Python are lines of text in the code that are ignored by the Python interpreter. They are used for adding explanations, documentation, or notes within the code to make it more readable and understandable. Comments are helpful for programmers and other collaborators to understand the purpose and functionality of different parts of the code.\n",
    "\n",
    "Comments can be single-line or multi-line, and they start with the # symbol for single-line comments or enclosed within triple quotes (''' or \"\"\") for multi-line comments.\n",
    "\n",
    "Here's an example demonstrating the use of comments in Python:"
   ]
  },
  {
   "cell_type": "code",
   "execution_count": 9,
   "metadata": {},
   "outputs": [
    {
     "name": "stdout",
     "output_type": "stream",
     "text": [
      "Hello, world!\n",
      "This is not a comment.\n"
     ]
    }
   ],
   "source": [
    "# This is a single-line comment\n",
    "print(\"Hello, world!\")  # This is also a single-line comment\n",
    "\n",
    "\"\"\"\n",
    "This is a multi-line comment.\n",
    "It spans across multiple lines.\n",
    "It is enclosed within triple quotes.\n",
    "\"\"\"\n",
    "print(\"This is not a comment.\")  # This is a single-line comment\n"
   ]
  },
  {
   "cell_type": "markdown",
   "metadata": {},
   "source": [
    "Readability: Proper indentation improves code readability by visually indicating the structure of the code. It helps developers quickly understand which lines of code are part of a specific block or scope.\n",
    "\n",
    "Syntax: In Python, indentation is part of the language's syntax. Incorrect indentation can lead to syntax errors, making the code unexecutable. Python relies on indentation to determine the beginning and end of code blocks, rather than using curly braces or keywords like end as in other programming languages.\n",
    "\n",
    "Scope: Indentation determines the scope of variables and statements within the code. Incorrect indentation can change the meaning of the code and lead to unexpected behavior or bugs.\n",
    "\n",
    "Clarity: Proper indentation makes the code structure clear and explicit. It helps in distinguishing between different levels of nested blocks and understanding the flow of execution.\n",
    "\n",
    "Enforcement of Code Standards: Consistent and proper indentation is a common convention in Python programming. Following standard indentation practices makes the code more maintainable and easier to collaborate on with other developers.\n",
    "\n",
    "Debugging: Proper indentation aids in debugging by visually highlighting the structure of the code. Identifying and fixing errors becomes easier when the code is well-indented and structured."
   ]
  },
  {
   "cell_type": "code",
   "execution_count": 11,
   "metadata": {},
   "outputs": [
    {
     "ename": "IndentationError",
     "evalue": "expected an indented block after 'if' statement on line 2 (2692792365.py, line 3)",
     "output_type": "error",
     "traceback": [
      "\u001b[1;36m  Cell \u001b[1;32mIn[11], line 3\u001b[1;36m\u001b[0m\n\u001b[1;33m    print(\"This line is not properly indented.\")\u001b[0m\n\u001b[1;37m    ^\u001b[0m\n\u001b[1;31mIndentationError\u001b[0m\u001b[1;31m:\u001b[0m expected an indented block after 'if' statement on line 2\n"
     ]
    }
   ],
   "source": [
    "# Incorrect indentation\n",
    "if True:\n",
    "print(\"This line is not properly indented.\")\n",
    "\n"
   ]
  },
  {
   "cell_type": "code",
   "execution_count": 12,
   "metadata": {},
   "outputs": [
    {
     "name": "stdout",
     "output_type": "stream",
     "text": [
      "This line is properly indented.\n"
     ]
    }
   ],
   "source": [
    "# Correct indentation\n",
    "if True:\n",
    "    print(\"This line is properly indented.\")\n"
   ]
  },
  {
   "cell_type": "markdown",
   "metadata": {},
   "source": [
    "Syntax Errors: Incorrect indentation can lead to syntax errors, causing the Python interpreter to raise an exception and terminate the execution of the program. This occurs when the indentation does not match the expected structure of the code.\n",
    "\n",
    "Incorrect Code Structure: Incorrect indentation can change the logical structure of the code, making it behave differently from what the programmer intended. This can result in bugs, unexpected behavior, or logical errors in the program.\n",
    "\n",
    "Unreadable Code: Improper indentation makes the code less readable and harder to understand. It becomes challenging to determine the structure and flow of execution, especially in larger and more complex programs.\n",
    "\n",
    "Scope Issues: Incorrect indentation can affect the scope of variables and statements within the code. Variables may be incorrectly scoped or inaccessible, leading to errors or unexpected behavior.\n",
    "\n",
    "Debugging Challenges: Incorrect indentation can complicate the process of debugging code. Identifying and fixing errors becomes more challenging when the code structure is not clear due to improper indentation."
   ]
  },
  {
   "cell_type": "code",
   "execution_count": 13,
   "metadata": {},
   "outputs": [
    {
     "ename": "IndentationError",
     "evalue": "expected an indented block after 'if' statement on line 2 (1414236144.py, line 3)",
     "output_type": "error",
     "traceback": [
      "\u001b[1;36m  Cell \u001b[1;32mIn[13], line 3\u001b[1;36m\u001b[0m\n\u001b[1;33m    print(\"This line is not properly indented.\")\u001b[0m\n\u001b[1;37m    ^\u001b[0m\n\u001b[1;31mIndentationError\u001b[0m\u001b[1;31m:\u001b[0m expected an indented block after 'if' statement on line 2\n"
     ]
    }
   ],
   "source": [
    "# Incorrect indentation\n",
    "if True:\n",
    "print(\"This line is not properly indented.\")\n"
   ]
  },
  {
   "cell_type": "markdown",
   "metadata": {},
   "source": [
    "Expression:\n",
    "\n",
    "An expression is a combination of values, variables, operators, and function calls that evaluates to a single value.\n",
    "\n",
    "Expressions can be used within larger expressions, as part of assignments, function arguments, or anywhere else a value is expected.\n",
    "\n",
    "Examples of expressions include arithmetic expressions, function calls, list comprehensions, and more"
   ]
  },
  {
   "cell_type": "code",
   "execution_count": 14,
   "metadata": {},
   "outputs": [],
   "source": [
    "# Arithmetic expression\n",
    "result = 2 + 3 * 4  # Evaluates to 14\n",
    "\n",
    "# Function call expression\n",
    "value = len(\"Hello, world!\")  # Evaluates to 13\n",
    "\n",
    "# List comprehension expression\n",
    "squares = [x ** 2 for x in range(5)]  # Evaluates to [0, 1, 4, 9, 16]\n"
   ]
  },
  {
   "cell_type": "markdown",
   "metadata": {},
   "source": [
    "Statement:\n",
    "\n",
    "A statement is a complete instruction that performs some action. It does not return a value by itself.\n",
    "\n",
    "Statements can contain expressions, but they also perform assignments, loops, conditional branching, function definitions, and other actions that affect the program's state or control flow.\n",
    "\n",
    "Examples of statements include assignment statements, conditional statements, loop statements, and function definitions."
   ]
  },
  {
   "cell_type": "code",
   "execution_count": 16,
   "metadata": {},
   "outputs": [
    {
     "name": "stdout",
     "output_type": "stream",
     "text": [
      "x is greater than 5\n",
      "10\n",
      "9\n",
      "8\n",
      "7\n",
      "6\n",
      "5\n",
      "4\n",
      "3\n",
      "2\n",
      "1\n"
     ]
    }
   ],
   "source": [
    "# Assignment statement\n",
    "x = 10\n",
    "\n",
    "# Conditional statement (if-else)\n",
    "if x > 5:\n",
    "    print(\"x is greater than 5\")\n",
    "else:\n",
    "    print(\"x is not greater than 5\")\n",
    "\n",
    "# Loop statement (while)\n",
    "while x > 0:\n",
    "    print(x)\n",
    "    x -= 1\n",
    "\n",
    "# Function definition statement\n",
    "def greet(name):\n",
    "    print(\"Hello, \" + name + \"!\")\n"
   ]
  }
 ],
 "metadata": {
  "kernelspec": {
   "display_name": "Python 3",
   "language": "python",
   "name": "python3"
  },
  "language_info": {
   "codemirror_mode": {
    "name": "ipython",
    "version": 3
   },
   "file_extension": ".py",
   "mimetype": "text/x-python",
   "name": "python",
   "nbconvert_exporter": "python",
   "pygments_lexer": "ipython3",
   "version": "3.10.7"
  }
 },
 "nbformat": 4,
 "nbformat_minor": 2
}
