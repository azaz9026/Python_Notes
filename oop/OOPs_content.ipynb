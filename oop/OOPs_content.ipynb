{
 "cells": [
  {
   "cell_type": "markdown",
   "metadata": {},
   "source": [
    "# OOPs"
   ]
  },
  {
   "cell_type": "markdown",
   "metadata": {},
   "source": [
    "***--------------------Class Method-----------------------***"
   ]
  },
  {
   "cell_type": "code",
   "execution_count": 3,
   "metadata": {},
   "outputs": [
    {
     "name": "stdout",
     "output_type": "stream",
     "text": [
      "<class '__main__.person'>\n",
      "<__main__.person object at 0x0000024F0AB3E020>\n"
     ]
    }
   ],
   "source": [
    "class Person:\n",
    "    pass\n",
    "\n",
    "\n",
    "obj = person()\n",
    "\n",
    "print(type(obj))\n",
    "print(obj)"
   ]
  },
  {
   "cell_type": "code",
   "execution_count": 7,
   "metadata": {},
   "outputs": [
    {
     "name": "stdout",
     "output_type": "stream",
     "text": [
      "Md Azaz\n",
      "21\n"
     ]
    }
   ],
   "source": [
    "class Person:\n",
    "    name = \"Md Azaz\"\n",
    "    age = 21\n",
    "\n",
    "\n",
    "per = Person()\n",
    "\n",
    "print(per.name)\n",
    "print(per.age)"
   ]
  },
  {
   "cell_type": "code",
   "execution_count": 11,
   "metadata": {},
   "outputs": [],
   "source": [
    "per.hobby = 'cricket'\n",
    "per.nikName = 'Golu'"
   ]
  },
  {
   "cell_type": "code",
   "execution_count": 12,
   "metadata": {},
   "outputs": [
    {
     "name": "stdout",
     "output_type": "stream",
     "text": [
      "Golu\n"
     ]
    }
   ],
   "source": [
    "print(per.nikName)"
   ]
  },
  {
   "cell_type": "code",
   "execution_count": 14,
   "metadata": {},
   "outputs": [
    {
     "ename": "AttributeError",
     "evalue": "'Person' object has no attribute 'Person'",
     "output_type": "error",
     "traceback": [
      "\u001b[1;31m---------------------------------------------------------------------------\u001b[0m",
      "\u001b[1;31mAttributeError\u001b[0m                            Traceback (most recent call last)",
      "Cell \u001b[1;32mIn[14], line 2\u001b[0m\n\u001b[0;32m      1\u001b[0m obj \u001b[38;5;241m=\u001b[39m Person()\n\u001b[1;32m----> 2\u001b[0m \u001b[38;5;28mprint\u001b[39m(\u001b[43mobj\u001b[49m\u001b[38;5;241;43m.\u001b[39;49m\u001b[43mPerson\u001b[49m)\n",
      "\u001b[1;31mAttributeError\u001b[0m: 'Person' object has no attribute 'Person'"
     ]
    }
   ],
   "source": [
    "obj = Person()\n",
    "print(obj.Person)"
   ]
  },
  {
   "cell_type": "code",
   "execution_count": 19,
   "metadata": {},
   "outputs": [
    {
     "name": "stdout",
     "output_type": "stream",
     "text": [
      "Md Azaz\n",
      "Md Azaz\n",
      "Md Azaz\n",
      "Md Azaz\n"
     ]
    }
   ],
   "source": [
    "class Person:\n",
    "    name = \"Md Azaz\"\n",
    "    age = 21\n",
    "\n",
    "\n",
    "per1 = Person()\n",
    "per2 = Person()\n",
    "per3 = Person()\n",
    "per4 = Person()\n",
    "\n",
    "print(per1.name)\n",
    "print(per2.name)\n",
    "print(per3.name)\n",
    "print(per4.name)"
   ]
  },
  {
   "cell_type": "markdown",
   "metadata": {},
   "source": [
    "***--------------------initializer/constructor for objects-----------------------***"
   ]
  },
  {
   "cell_type": "code",
   "execution_count": 21,
   "metadata": {},
   "outputs": [
    {
     "name": "stdout",
     "output_type": "stream",
     "text": [
      "Azaz\n",
      "Lux\n",
      "Harshit\n",
      "Karan\n"
     ]
    }
   ],
   "source": [
    "class Person:\n",
    "    def __init__(self , name , age):\n",
    "        self.name = name\n",
    "        self.age = age\n",
    "\n",
    "\n",
    "per1 = Person(\"Azaz\" , 21)\n",
    "per2 = Person(\"Lux\" , 22)\n",
    "per3 = Person(\"Harshit\" , 21)\n",
    "per4 = Person(\"Karan\" , 20)\n",
    "\n",
    "print(per1.name)\n",
    "print(per2.name)\n",
    "print(per3.name)\n",
    "print(per4.name)\n"
   ]
  },
  {
   "cell_type": "code",
   "execution_count": 26,
   "metadata": {},
   "outputs": [
    {
     "name": "stdout",
     "output_type": "stream",
     "text": [
      "Babu\n"
     ]
    }
   ],
   "source": [
    "class Person:\n",
    "    def __init__(self , name , age):\n",
    "        self.name = name\n",
    "        self.age = age\n",
    "\n",
    "    def __init__(self , name ):\n",
    "        self.name = name\n",
    "\n",
    "per = Person(\"Babu\")\n",
    "\n",
    "print(per.name)\n"
   ]
  },
  {
   "cell_type": "code",
   "execution_count": 27,
   "metadata": {},
   "outputs": [
    {
     "name": "stdout",
     "output_type": "stream",
     "text": [
      "Football\n",
      "cricket\n"
     ]
    }
   ],
   "source": [
    "class Person:\n",
    "    def __init__(self , name , age  , hobby = \"cricket\"):\n",
    "        self.name = name\n",
    "        self.age = age\n",
    "        self.hobby = hobby\n",
    "\n",
    "\n",
    "per1 = Person(\"Babu\" , 24 , \"Football\")\n",
    "per2 = Person(\"Azaz\" , 21)\n",
    "\n",
    "print(per1.hobby)\n",
    "print(per2.hobby)"
   ]
  },
  {
   "cell_type": "code",
   "execution_count": 28,
   "metadata": {},
   "outputs": [
    {
     "name": "stdout",
     "output_type": "stream",
     "text": [
      "Football\n",
      "cricket\n",
      "lux 22 India cricket\n"
     ]
    }
   ],
   "source": [
    "class Person:\n",
    "\n",
    "    country = \"India\"\n",
    "\n",
    "    def __init__(self , name , age  , hobby = \"cricket\"):\n",
    "        self.name = name\n",
    "        self.age = age\n",
    "        self.hobby = hobby\n",
    "\n",
    "\n",
    "per1 = Person(\"Babu\" , 24 , \"Football\")\n",
    "per2 = Person(\"Azaz\" , 21)\n",
    "\n",
    "per3 = Person(\"lux\" , 22)\n",
    "\n",
    "print(per1.hobby)\n",
    "print(per2.hobby)\n",
    "\n",
    "\n",
    "print(per3.name , per3.age , per3.country , per3.hobby)"
   ]
  },
  {
   "cell_type": "markdown",
   "metadata": {},
   "source": [
    "***--------------------------------OOPs Method-----------------------------------***\n",
    "\n",
    "# Instance / Object Method"
   ]
  },
  {
   "cell_type": "code",
   "execution_count": 29,
   "metadata": {},
   "outputs": [
    {
     "name": "stdout",
     "output_type": "stream",
     "text": [
      "21\n"
     ]
    }
   ],
   "source": [
    "class Person:\n",
    "    def __init__(self , name , age):\n",
    "        self.name = name\n",
    "        self.age = age\n",
    "\n",
    "    def find_Age(self):\n",
    "        return self.age\n",
    "\n",
    "\n",
    "\n",
    "per = Person(\"Azaz\" , 21)\n",
    "\n",
    "print(per.find_Age())"
   ]
  },
  {
   "cell_type": "markdown",
   "metadata": {},
   "source": [
    "# Class Method"
   ]
  },
  {
   "cell_type": "code",
   "execution_count": 32,
   "metadata": {},
   "outputs": [
    {
     "name": "stdout",
     "output_type": "stream",
     "text": [
      "21\n",
      "Hello From the India\n",
      "Hello From the India\n"
     ]
    }
   ],
   "source": [
    "class Person:\n",
    "\n",
    "    country = \"India\"\n",
    "\n",
    "    @classmethod    ## Class method\n",
    "    def greet(cls):\n",
    "        print('Hello From the' , cls.country )\n",
    "\n",
    "\n",
    "    def __init__(self , name , age):\n",
    "        self.name = name\n",
    "        self.age = age\n",
    "\n",
    "    def find_Age(self):\n",
    "        return self.age\n",
    "\n",
    "\n",
    "\n",
    "per = Person(\"Azaz\" , 21)\n",
    "\n",
    "print(per.find_Age())\n",
    "\n",
    "Person.greet()\n",
    "\n",
    "per.greet()"
   ]
  },
  {
   "cell_type": "markdown",
   "metadata": {},
   "source": [
    "# Static method"
   ]
  },
  {
   "cell_type": "code",
   "execution_count": 36,
   "metadata": {},
   "outputs": [
    {
     "name": "stdout",
     "output_type": "stream",
     "text": [
      "21\n",
      "Hello From the India\n",
      "Hello From the India\n",
      "Hello\n"
     ]
    }
   ],
   "source": [
    "class Person:\n",
    "\n",
    "    country = \"India\"\n",
    "\n",
    "    @classmethod    ## Class method\n",
    "    def greet(cls):\n",
    "        print('Hello From the' , cls.country )\n",
    "\n",
    "    @staticmethod  ## Static method\n",
    "    def hello():\n",
    "        print('Hello' )\n",
    "\n",
    "    def __init__(self , name , age):\n",
    "        self.name = name\n",
    "        self.age = age\n",
    "\n",
    "    def find_Age(self):\n",
    "        return self.age\n",
    "\n",
    "\n",
    "\n",
    "per = Person(\"Azaz\" , 21)\n",
    "\n",
    "print(per.find_Age())\n",
    "\n",
    "Person.greet()  ## Class method\n",
    "\n",
    "per.greet()  ## Class method\n",
    "\n",
    "per.hello() ## Static method"
   ]
  },
  {
   "cell_type": "markdown",
   "metadata": {},
   "source": [
    "***-------------Explicit method overloading---------------------------***\n",
    "\n",
    "\n",
    "Not Working"
   ]
  },
  {
   "cell_type": "code",
   "execution_count": 46,
   "metadata": {},
   "outputs": [
    {
     "ename": "TypeError",
     "evalue": "Adding.add() missing 1 required positional argument: 'c'",
     "output_type": "error",
     "traceback": [
      "\u001b[1;31m---------------------------------------------------------------------------\u001b[0m",
      "\u001b[1;31mTypeError\u001b[0m                                 Traceback (most recent call last)",
      "Cell \u001b[1;32mIn[46], line 11\u001b[0m\n\u001b[0;32m      6\u001b[0m         \u001b[38;5;28;01mreturn\u001b[39;00m a\u001b[38;5;241m+\u001b[39mb\u001b[38;5;241m+\u001b[39mc \n\u001b[0;32m      9\u001b[0m cal \u001b[38;5;241m=\u001b[39m Adding()\n\u001b[1;32m---> 11\u001b[0m \u001b[38;5;28mprint\u001b[39m(\u001b[43mcal\u001b[49m\u001b[38;5;241;43m.\u001b[39;49m\u001b[43madd\u001b[49m\u001b[43m(\u001b[49m\u001b[38;5;241;43m2\u001b[39;49m\u001b[43m,\u001b[49m\u001b[38;5;241;43m2\u001b[39;49m\u001b[43m)\u001b[49m)\n\u001b[0;32m     12\u001b[0m \u001b[38;5;28mprint\u001b[39m(cal\u001b[38;5;241m.\u001b[39madd(\u001b[38;5;241m2\u001b[39m,\u001b[38;5;241m2\u001b[39m,\u001b[38;5;241m3\u001b[39m))\n",
      "\u001b[1;31mTypeError\u001b[0m: Adding.add() missing 1 required positional argument: 'c'"
     ]
    }
   ],
   "source": [
    "class Adding:\n",
    "    def add(self , a , b):\n",
    "        return a+b \n",
    "\n",
    "    def add(self , a , b , c): ## \n",
    "        return a+b+c \n",
    "\n",
    "\n",
    "cal = Adding()\n",
    "\n",
    "print(cal.add(2,2))\n",
    "print(cal.add(2,2,3))"
   ]
  },
  {
   "cell_type": "markdown",
   "metadata": {},
   "source": [
    "# Implicit method overloading\n"
   ]
  },
  {
   "cell_type": "code",
   "execution_count": 49,
   "metadata": {},
   "outputs": [
    {
     "name": "stdout",
     "output_type": "stream",
     "text": [
      "4\n",
      "7\n"
     ]
    }
   ],
   "source": [
    "class Adding:\n",
    "    def add(self , a , b , c=0):\n",
    "        return a+b+c\n",
    "\n",
    "\n",
    "cal = Adding()\n",
    "\n",
    "print(cal.add(2,2))\n",
    "print(cal.add(2,2,3))"
   ]
  },
  {
   "cell_type": "markdown",
   "metadata": {},
   "source": [
    "# Public and Private"
   ]
  },
  {
   "cell_type": "code",
   "execution_count": 56,
   "metadata": {},
   "outputs": [
    {
     "name": "stdout",
     "output_type": "stream",
     "text": [
      "azaz 21 5000\n"
     ]
    }
   ],
   "source": [
    "'''\n",
    "Public and Private\n",
    "''' \n",
    "\n",
    "class Person:\n",
    "    def __init__(self , name , age , selary):\n",
    "        self.name = name\n",
    "        self.age = age  #Public\n",
    "        self.selary = selary # Private\n",
    "\n",
    "    def find_age(self):\n",
    "        return self.age\n",
    "\n",
    "    \n",
    "    \n",
    "per = Person('azaz' , 21 , 5000)\n",
    "\n",
    "print(per.name , per.age , per.selary)"
   ]
  },
  {
   "cell_type": "code",
   "execution_count": 55,
   "metadata": {},
   "outputs": [
    {
     "ename": "AttributeError",
     "evalue": "'Person' object has no attribute 'selary'",
     "output_type": "error",
     "traceback": [
      "\u001b[1;31m---------------------------------------------------------------------------\u001b[0m",
      "\u001b[1;31mAttributeError\u001b[0m                            Traceback (most recent call last)",
      "Cell \u001b[1;32mIn[55], line 18\u001b[0m\n\u001b[0;32m     12\u001b[0m         \u001b[38;5;28;01mreturn\u001b[39;00m \u001b[38;5;28mself\u001b[39m\u001b[38;5;241m.\u001b[39mage\n\u001b[0;32m     16\u001b[0m per \u001b[38;5;241m=\u001b[39m Person(\u001b[38;5;124m'\u001b[39m\u001b[38;5;124mazaz\u001b[39m\u001b[38;5;124m'\u001b[39m , \u001b[38;5;241m21\u001b[39m , \u001b[38;5;241m5000\u001b[39m)\n\u001b[1;32m---> 18\u001b[0m \u001b[38;5;28mprint\u001b[39m(per\u001b[38;5;241m.\u001b[39mname , per\u001b[38;5;241m.\u001b[39mage , \u001b[43mper\u001b[49m\u001b[38;5;241;43m.\u001b[39;49m\u001b[43mselary\u001b[49m)\n",
      "\u001b[1;31mAttributeError\u001b[0m: 'Person' object has no attribute 'selary'"
     ]
    }
   ],
   "source": [
    "'''\n",
    "Public and Private\n",
    "''' \n",
    "\n",
    "class Person:\n",
    "    def __init__(self , name , age , selary):\n",
    "        self.name = name\n",
    "        self.age = age  #Public\n",
    "        self.__selary = selary # Private\n",
    "\n",
    "    def find_age(self):\n",
    "        return self.age\n",
    "\n",
    "    \n",
    "    \n",
    "per = Person('azaz' , 21 , 5000)\n",
    "\n",
    "print(per.name , per.age , per.selary)"
   ]
  },
  {
   "cell_type": "code",
   "execution_count": 63,
   "metadata": {},
   "outputs": [
    {
     "name": "stdout",
     "output_type": "stream",
     "text": [
      "azaz 21\n",
      "5000\n"
     ]
    }
   ],
   "source": [
    "'''\n",
    "Public and Private\n",
    "''' \n",
    "\n",
    "class Person:\n",
    "    def __init__(self , name , age , selary):\n",
    "        self.name = name\n",
    "        self.age = age  #Public\n",
    "        self.__selary = selary # Private\n",
    "\n",
    "    def find_age(self):\n",
    "        return self.age\n",
    "\n",
    "    def find_Selary(self):\n",
    "        print(self.__selary)\n",
    "\n",
    "    \n",
    "    \n",
    "per = Person('azaz' , 21 , 5000)\n",
    "\n",
    "print(per.name , per.age)\n",
    "\n",
    "per.find_Selary()"
   ]
  }
 ],
 "metadata": {
  "kernelspec": {
   "display_name": "Python 3",
   "language": "python",
   "name": "python3"
  },
  "language_info": {
   "codemirror_mode": {
    "name": "ipython",
    "version": 3
   },
   "file_extension": ".py",
   "mimetype": "text/x-python",
   "name": "python",
   "nbconvert_exporter": "python",
   "pygments_lexer": "ipython3",
   "version": "3.10.7"
  }
 },
 "nbformat": 4,
 "nbformat_minor": 2
}
