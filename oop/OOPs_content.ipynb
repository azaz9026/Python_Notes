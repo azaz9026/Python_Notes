{
 "cells": [
  {
   "cell_type": "markdown",
   "metadata": {},
   "source": [
    "***OOPs***"
   ]
  },
  {
   "cell_type": "markdown",
   "metadata": {},
   "source": [
    "***--------------------Class Method-----------------------***"
   ]
  },
  {
   "cell_type": "code",
   "execution_count": 3,
   "metadata": {},
   "outputs": [
    {
     "name": "stdout",
     "output_type": "stream",
     "text": [
      "<class '__main__.person'>\n",
      "<__main__.person object at 0x0000024F0AB3E020>\n"
     ]
    }
   ],
   "source": [
    "class Person:\n",
    "    pass\n",
    "\n",
    "\n",
    "obj = person()\n",
    "\n",
    "print(type(obj))\n",
    "print(obj)"
   ]
  },
  {
   "cell_type": "code",
   "execution_count": 7,
   "metadata": {},
   "outputs": [
    {
     "name": "stdout",
     "output_type": "stream",
     "text": [
      "Md Azaz\n",
      "21\n"
     ]
    }
   ],
   "source": [
    "class Person:\n",
    "    name = \"Md Azaz\"\n",
    "    age = 21\n",
    "\n",
    "\n",
    "per = Person()\n",
    "\n",
    "print(per.name)\n",
    "print(per.age)"
   ]
  },
  {
   "cell_type": "code",
   "execution_count": 11,
   "metadata": {},
   "outputs": [],
   "source": [
    "per.hobby = 'cricket'\n",
    "per.nikName = 'Golu'"
   ]
  },
  {
   "cell_type": "code",
   "execution_count": 12,
   "metadata": {},
   "outputs": [
    {
     "name": "stdout",
     "output_type": "stream",
     "text": [
      "Golu\n"
     ]
    }
   ],
   "source": [
    "print(per.nikName)"
   ]
  },
  {
   "cell_type": "code",
   "execution_count": 14,
   "metadata": {},
   "outputs": [
    {
     "ename": "AttributeError",
     "evalue": "'Person' object has no attribute 'Person'",
     "output_type": "error",
     "traceback": [
      "\u001b[1;31m---------------------------------------------------------------------------\u001b[0m",
      "\u001b[1;31mAttributeError\u001b[0m                            Traceback (most recent call last)",
      "Cell \u001b[1;32mIn[14], line 2\u001b[0m\n\u001b[0;32m      1\u001b[0m obj \u001b[38;5;241m=\u001b[39m Person()\n\u001b[1;32m----> 2\u001b[0m \u001b[38;5;28mprint\u001b[39m(\u001b[43mobj\u001b[49m\u001b[38;5;241;43m.\u001b[39;49m\u001b[43mPerson\u001b[49m)\n",
      "\u001b[1;31mAttributeError\u001b[0m: 'Person' object has no attribute 'Person'"
     ]
    }
   ],
   "source": [
    "obj = Person()\n",
    "print(obj.Person)"
   ]
  },
  {
   "cell_type": "code",
   "execution_count": 19,
   "metadata": {},
   "outputs": [
    {
     "name": "stdout",
     "output_type": "stream",
     "text": [
      "Md Azaz\n",
      "Md Azaz\n",
      "Md Azaz\n",
      "Md Azaz\n"
     ]
    }
   ],
   "source": [
    "class Person:\n",
    "    name = \"Md Azaz\"\n",
    "    age = 21\n",
    "\n",
    "\n",
    "per1 = Person()\n",
    "per2 = Person()\n",
    "per3 = Person()\n",
    "per4 = Person()\n",
    "\n",
    "print(per1.name)\n",
    "print(per2.name)\n",
    "print(per3.name)\n",
    "print(per4.name)"
   ]
  },
  {
   "cell_type": "markdown",
   "metadata": {},
   "source": []
  },
  {
   "cell_type": "code",
   "execution_count": null,
   "metadata": {},
   "outputs": [],
   "source": [
    "#"
   ]
  }
 ],
 "metadata": {
  "kernelspec": {
   "display_name": "Python 3",
   "language": "python",
   "name": "python3"
  },
  "language_info": {
   "codemirror_mode": {
    "name": "ipython",
    "version": 3
   },
   "file_extension": ".py",
   "mimetype": "text/x-python",
   "name": "python",
   "nbconvert_exporter": "python",
   "pygments_lexer": "ipython3",
   "version": "3.10.7"
  }
 },
 "nbformat": 4,
 "nbformat_minor": 2
}
