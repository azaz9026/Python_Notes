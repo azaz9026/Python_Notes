{
 "cells": [
  {
   "cell_type": "markdown",
   "metadata": {},
   "source": [
    "# Basics of oops"
   ]
  },
  {
   "cell_type": "markdown",
   "metadata": {},
   "source": [
    "***#oops>> object oriented programming system***"
   ]
  },
  {
   "cell_type": "code",
   "execution_count": 1,
   "metadata": {},
   "outputs": [],
   "source": [
    "class Car: #naming convention>> UpperCamelCase\n",
    "    pass"
   ]
  },
  {
   "cell_type": "markdown",
   "metadata": {},
   "source": [
    "***#instance, object***"
   ]
  },
  {
   "cell_type": "code",
   "execution_count": 3,
   "metadata": {},
   "outputs": [],
   "source": [
    "a = Car() #instance, object"
   ]
  },
  {
   "cell_type": "markdown",
   "metadata": {},
   "source": [
    "***Type of Class***"
   ]
  },
  {
   "cell_type": "code",
   "execution_count": 6,
   "metadata": {},
   "outputs": [
    {
     "name": "stdout",
     "output_type": "stream",
     "text": [
      "<class '__main__.Car'>\n"
     ]
    }
   ],
   "source": [
    "print(type(a))"
   ]
  },
  {
   "cell_type": "code",
   "execution_count": 7,
   "metadata": {},
   "outputs": [],
   "source": [
    "#function/method of a car\n",
    "\n",
    "class Car: \n",
    "    def Car_name(self):\n",
    "        print(\"Car Name is: TESLA\")"
   ]
  },
  {
   "cell_type": "code",
   "execution_count": 11,
   "metadata": {},
   "outputs": [
    {
     "name": "stdout",
     "output_type": "stream",
     "text": [
      "Car Name is: TESLA\n"
     ]
    }
   ],
   "source": [
    "# Car().Car_name()\n",
    "\n",
    "a = Car()\n",
    "\n",
    "a.Car_name()\n",
    "\n",
    "#self > a variable that represents instance of the class using which you can access sttribute and method"
   ]
  },
  {
   "cell_type": "markdown",
   "metadata": {},
   "source": [
    "***#self > a variable that represents instance of the class using which you can access sttribute and method***"
   ]
  },
  {
   "cell_type": "code",
   "execution_count": null,
   "metadata": {},
   "outputs": [],
   "source": [
    "''' def f1():\n",
    "        print('f1()')\n",
    "    def f2():\n",
    "        print('f2()')\n",
    "    def f3():\n",
    "        print('f3()')'''"
   ]
  },
  {
   "cell_type": "markdown",
   "metadata": {},
   "source": [
    "***#function/method of a car***"
   ]
  },
  {
   "cell_type": "code",
   "execution_count": 12,
   "metadata": {},
   "outputs": [],
   "source": [
    "class Car:  #function/method of a car\n",
    "    def Car_name(self):\n",
    "        print('Audi')\n",
    "    def Car_model(self):\n",
    "        print('A4')"
   ]
  },
  {
   "cell_type": "code",
   "execution_count": 14,
   "metadata": {},
   "outputs": [
    {
     "name": "stdout",
     "output_type": "stream",
     "text": [
      "A4\n"
     ]
    }
   ],
   "source": [
    "a = Car()\n",
    "a.Car_model()"
   ]
  },
  {
   "cell_type": "code",
   "execution_count": 15,
   "metadata": {},
   "outputs": [],
   "source": [
    "class Bank:\n",
    "    def deposit(self, amount):\n",
    "        print(\"I am trying to deposit some money\")\n",
    "    def withdraw(self, amount_withdraw):\n",
    "        print(\"I am trying to withdraw some money\")"
   ]
  },
  {
   "cell_type": "code",
   "execution_count": 16,
   "metadata": {},
   "outputs": [
    {
     "name": "stdout",
     "output_type": "stream",
     "text": [
      "I am trying to deposit some money\n"
     ]
    }
   ],
   "source": [
    "azaz = Bank()\n",
    "azaz.deposit(100)"
   ]
  },
  {
   "cell_type": "code",
   "execution_count": 19,
   "metadata": {},
   "outputs": [],
   "source": [
    "class Bank:\n",
    "    amount = 100000\n",
    "    def deposit(self, amount):\n",
    "        print(\"I am trying to deposit some money\")\n",
    "    def withdraw(self, amount_withdraw):\n",
    "        print(\"I am trying to withdraw some money\")"
   ]
  },
  {
   "cell_type": "code",
   "execution_count": 21,
   "metadata": {},
   "outputs": [
    {
     "data": {
      "text/plain": [
       "100000"
      ]
     },
     "execution_count": 21,
     "metadata": {},
     "output_type": "execute_result"
    }
   ],
   "source": [
    "azaz = Bank()\n",
    "azaz.amount"
   ]
  }
 ],
 "metadata": {
  "kernelspec": {
   "display_name": "Python 3",
   "language": "python",
   "name": "python3"
  },
  "language_info": {
   "codemirror_mode": {
    "name": "ipython",
    "version": 3
   },
   "file_extension": ".py",
   "mimetype": "text/x-python",
   "name": "python",
   "nbconvert_exporter": "python",
   "pygments_lexer": "ipython3",
   "version": "3.10.7"
  }
 },
 "nbformat": 4,
 "nbformat_minor": 2
}
